{
 "cells": [
  {
   "cell_type": "markdown",
   "id": "baf89f6d",
   "metadata": {},
   "source": [
    "## Johnson Noise versus Temperature"
   ]
  },
  {
   "cell_type": "code",
   "execution_count": 150,
   "id": "df8dd31c",
   "metadata": {},
   "outputs": [],
   "source": [
    "import matplotlib.pyplot as plt\n",
    "import numpy as np\n",
    "import pandas as pd \n",
    "from scipy import interpolate, optimize\n",
    "\n",
    "def uncertainty_mean(data_array):\n",
    "    # returns uncertainty in the mean: max value - min value, divided by 2 sqrt(N)\n",
    "    return (np.max(data_array) - np.min(data_array))/2/np.sqrt(len(data_array))"
   ]
  },
  {
   "cell_type": "markdown",
   "id": "05f44ec0",
   "metadata": {},
   "source": [
    "### Johnson Noise extracted from measured voltage\n",
    "As given in the lab notes, we have the Johnson noise given by\n",
    "$$\n",
    "    \\langle V_J^2 \\rangle = \\frac{V_M \\cdot 10\\,\\text{V}}{G_1^2 G_2^2}\n",
    "$$\n",
    "where $V_M$ is the voltage measured on the multimeter, $G_1 = 600$ AND $G_2$ is given by the main gain settings. Below we can write a function that converts the measured $V_M$ to our Johnson noise.  "
   ]
  },
  {
   "cell_type": "code",
   "execution_count": 151,
   "id": "34ae6caf",
   "metadata": {},
   "outputs": [],
   "source": [
    "def V_johnson(v_meter, G2):\n",
    "    # returns johnson noise value given measured voltage and gain settings on HLE\n",
    "    G1 = 600\n",
    "    return v_meter*10/G1**2/G2**2"
   ]
  },
  {
   "cell_type": "markdown",
   "id": "ed300032",
   "metadata": {},
   "source": [
    "### Amplifier Noise Correction\n",
    "As specified in the lab notes, we should correct for amplifier noise. This is done by measuring the \"Johnson Noise\" as usual but in this case we'd have\n",
    "$$\n",
    "    \\langle V_J^2 + V_N^2 \\rangle = \\frac{V_M \\cdot 10\\,\\text{V}}{G_1^2 G_2^2}\n",
    "$$\n",
    "We would measure these values for all the resistors and then extrapolate to the $R=0$ case which would give us\n",
    "$$\n",
    "    \\langle V_N^2 \\rangle = \\frac{V_M \\cdot 10\\,\\text{V}}{G_1^2 G_2^2}\n",
    "$$\n",
    "This amplifier noise is definitely bandwidth dependent though so be careful!"
   ]
  },
  {
   "cell_type": "code",
   "execution_count": 152,
   "id": "c5d2a6c4",
   "metadata": {},
   "outputs": [],
   "source": [
    "def amp_noise(resistance_array, initial_v_measured_array):\n",
    "    # takes as input initial voltage measurements which includes both J and N \n",
    "    # contributions for all resistors. Then use an extrapolation scheme to get the R = 0 limit\n",
    "    # which returns the amplifier noise\n",
    "    \n",
    "    interp_func = interpolate.interp1d(resistance_array, initial_v_measured_array, fill_value = 'extrapolate')\n",
    "    return interp_func(0)"
   ]
  },
  {
   "cell_type": "markdown",
   "id": "341eb917",
   "metadata": {},
   "source": [
    "## Temperature vs Voltage Values from TeachSpin Manual for provided diode"
   ]
  },
  {
   "cell_type": "markdown",
   "id": "c0e357d9",
   "metadata": {},
   "source": [
    "Provided temperature arrays"
   ]
  },
  {
   "cell_type": "code",
   "execution_count": 153,
   "id": "9b97f183",
   "metadata": {},
   "outputs": [],
   "source": [
    "temperature = np.array([77.320, 90.000, 100.000, 110.000, 120.000, 130.000, 140.0, 150.0,\\\n",
    "                       160.0, 170.0, 180.0, 190.0, 200.0, 210.0, 220.0, 230.0, 240.0, 250.0,\\\n",
    "                       260.0, 270.0, 280.0, 290.0, 300.0, 310.0, 320.0, 330.0, 340.0, 350.0,\\\n",
    "                       360.0, 370.0, 380.0, 390.0, 400.0], dtype = 'float') # in Kelvin\n",
    "\n",
    "voltage = np.array([994.419, 967.032, 944.477, 921.305, 897.616, 873.417, 848.864, 823.964, 798.691,\\\n",
    "                    773.213, 747.485, 721.533, 695.363, 669.002, 642.448, 615.748, 588.907,\\\n",
    "                    561.837, 534.655, 507.311, 479.881, 452.258, 424.465, 396.645, 368.731,\\\n",
    "                   340.625, 312.542, 284.206, 255.855, 227.428, 198.940, 170.463, 142.124], dtype = 'float') # in mV "
   ]
  },
  {
   "cell_type": "code",
   "execution_count": 154,
   "id": "961c41c3",
   "metadata": {},
   "outputs": [],
   "source": [
    "voltage2 = np.flip(voltage)\n",
    "temp2 = np.flip(temperature)"
   ]
  },
  {
   "cell_type": "markdown",
   "id": "668c1545",
   "metadata": {},
   "source": [
    "### Declaring the Interpolation function\n",
    "1. Can now call this function for a given voltage reading which then gives a corresponding temperature"
   ]
  },
  {
   "cell_type": "code",
   "execution_count": 155,
   "id": "61a3e806",
   "metadata": {},
   "outputs": [],
   "source": [
    "voltage_func = interpolate.interp1d(voltage, temperature)\n",
    "voltage_func_2 = interpolate.CubicSpline(voltage2, temp2, extrapolate = True)"
   ]
  },
  {
   "cell_type": "markdown",
   "id": "657a1f89",
   "metadata": {},
   "source": [
    "### Today\n",
    "1. Measured $R_A$, $R_B$, and $R_C$ with respect to ground.\n",
    "2. Measured heater leads with black ground lead connected to H1 and red lead to H2 and found it to be $76.31\\,\\Omega$\n",
    "3. Measured $D_1, D_2$ with black lead connected to ground and found $D_1 = 0.5496\\,V$ and $D_2 = 0.5495\\,V$. "
   ]
  },
  {
   "cell_type": "code",
   "execution_count": 156,
   "id": "a5119c2b",
   "metadata": {},
   "outputs": [
    {
     "data": {
      "text/plain": [
       "12.1425"
      ]
     },
     "execution_count": 156,
     "metadata": {},
     "output_type": "execute_result"
    }
   ],
   "source": [
    "Ra = np.mean(np.array([12.09, 12.08, 12.07, 11.85, 11.84,\\\n",
    "                       12.51, 12.41, 12.29])) # Ra is 10Ohms but expected to read 12 Ohms\n",
    "Ra"
   ]
  },
  {
   "cell_type": "code",
   "execution_count": 157,
   "id": "3dee883c",
   "metadata": {},
   "outputs": [],
   "source": [
    "Rb = 9.963 # kOmega, quoted value is 10 kOhms"
   ]
  },
  {
   "cell_type": "code",
   "execution_count": 158,
   "id": "f10de638",
   "metadata": {},
   "outputs": [],
   "source": [
    "Rc = 100.53 #kOmega"
   ]
  },
  {
   "cell_type": "markdown",
   "id": "29645d76",
   "metadata": {},
   "source": [
    "###  Johnson Noise of 3 resistors in probe at room temperature\n",
    "Settings\n",
    "1. 1 kHz High Pass, 10 kHz Low Pass, G1 = 600, Gain (G2): x10, x10, x30 = 3000, time scale = 1 sec"
   ]
  },
  {
   "cell_type": "code",
   "execution_count": 159,
   "id": "df9c6ba2",
   "metadata": {},
   "outputs": [
    {
     "data": {
      "text/plain": [
       "0.1946301"
      ]
     },
     "execution_count": 159,
     "metadata": {},
     "output_type": "execute_result"
    }
   ],
   "source": [
    "Ra_external = np.mean(np.array([0.194547, 0.193429, 0.195737, 0.195721,\\\n",
    "                        0.196106, 0.195430, 0.195633, 0.192751, 0.193008, 0.193939])) #A_ext in Volts\n",
    "Ra_external"
   ]
  },
  {
   "cell_type": "code",
   "execution_count": 160,
   "id": "1421bce4",
   "metadata": {},
   "outputs": [
    {
     "data": {
      "text/plain": [
       "0.7235488000000001"
      ]
     },
     "execution_count": 160,
     "metadata": {},
     "output_type": "execute_result"
    }
   ],
   "source": [
    "Rb_external = np.mean(np.array([0.728056, 0.722688, 0.722080, 0.721732, 0.723188])) #B_ext in Volts\n",
    "Rb_external"
   ]
  },
  {
   "cell_type": "code",
   "execution_count": 161,
   "id": "f3567f68",
   "metadata": {},
   "outputs": [
    {
     "data": {
      "text/plain": [
       "3.5755139999999996"
      ]
     },
     "execution_count": 161,
     "metadata": {},
     "output_type": "execute_result"
    }
   ],
   "source": [
    "Rc_external = np.mean(np.array([3.58368, 3.56766, 3.56448, 3.57698, 3.58477])) #C_ext in Volts\n",
    "Rc_external"
   ]
  },
  {
   "cell_type": "code",
   "execution_count": 162,
   "id": "446a4eec",
   "metadata": {},
   "outputs": [
    {
     "data": {
      "text/plain": [
       "0.19577999999999998"
      ]
     },
     "execution_count": 162,
     "metadata": {},
     "output_type": "execute_result"
    }
   ],
   "source": [
    "local_10_Ohm = np.mean(np.array([0.195177, 0.195569, 0.196169, 0.195764, 0.196221])) # 10 Ohm Volts \n",
    "local_10_Ohm"
   ]
  },
  {
   "cell_type": "code",
   "execution_count": 163,
   "id": "3cfff182",
   "metadata": {},
   "outputs": [
    {
     "data": {
      "text/plain": [
       "0.19977640000000002"
      ]
     },
     "execution_count": 163,
     "metadata": {},
     "output_type": "execute_result"
    }
   ],
   "source": [
    "local_100_Ohm = np.mean(np.array([0.199624, 0.200114, 0.200108, 0.199794, 0.199242])) # 100 Ohm Volts\n",
    "local_100_Ohm"
   ]
  },
  {
   "cell_type": "code",
   "execution_count": 164,
   "id": "3876d94e",
   "metadata": {},
   "outputs": [
    {
     "data": {
      "text/plain": [
       "0.2477742"
      ]
     },
     "execution_count": 164,
     "metadata": {},
     "output_type": "execute_result"
    }
   ],
   "source": [
    "local_1k_Ohm = np.mean(np.array([0.247355, 0.247939, 0.247466, 0.247704, 0.248407])) # 1k Ohm Volts\n",
    "local_1k_Ohm"
   ]
  },
  {
   "cell_type": "code",
   "execution_count": 165,
   "id": "a1c5a7b6",
   "metadata": {},
   "outputs": [
    {
     "data": {
      "text/plain": [
       "0.7324702000000001"
      ]
     },
     "execution_count": 165,
     "metadata": {},
     "output_type": "execute_result"
    }
   ],
   "source": [
    "local_10k_Ohm = np.mean(np.array([0.736071, 0.729467, 0.729338, 0.735419, 0.732056])) # 10k Ohm Volts\n",
    "local_10k_Ohm"
   ]
  },
  {
   "cell_type": "code",
   "execution_count": 166,
   "id": "83963555",
   "metadata": {},
   "outputs": [
    {
     "data": {
      "text/plain": [
       "4.4443019999999995"
      ]
     },
     "execution_count": 166,
     "metadata": {},
     "output_type": "execute_result"
    }
   ],
   "source": [
    "local_100k_Ohm = np.mean(np.array([4.44871, 4.45904, 4.44654, 4.43178, 4.43544])) # 100k Ohm Volts\n",
    "local_100k_Ohm"
   ]
  },
  {
   "cell_type": "code",
   "execution_count": 167,
   "id": "5e4de809",
   "metadata": {},
   "outputs": [
    {
     "data": {
      "text/plain": [
       "9.378034"
      ]
     },
     "execution_count": 167,
     "metadata": {},
     "output_type": "execute_result"
    }
   ],
   "source": [
    "local_1M_Ohm = np.mean(np.array([9.37254, 9.37609, 9.38618, 9.38147, 9.37389])) # 1M Ohm Volts\n",
    "local_1M_Ohm"
   ]
  },
  {
   "cell_type": "markdown",
   "id": "6a658e4b",
   "metadata": {},
   "source": [
    "### Johnson Noise\n",
    "1. f1 = .1 kHz, f2 = 33 kHz, G1 = 600, G2 = x10, x10, x30, time constant = 1sec"
   ]
  },
  {
   "cell_type": "code",
   "execution_count": 168,
   "id": "df0c968d",
   "metadata": {},
   "outputs": [],
   "source": [
    "Ra_ext_second = np.mean(np.array([0.726078, 0.726324, 0.727658, 0.727999, 0.728130]))\n",
    "Rb_ext_second = np.mean(np.array([2.50768, 2.50411, 2.49668, 2.51199, 2.50718]))\n",
    "Rc_ext_second = np.mean(np.array([5.68388, 5.73871, 5.71609, 5.72403, 5.73871]))\n",
    "\n",
    "local_10Ohm_second = np.mean(np.array([7.27333, 7.26541]))"
   ]
  },
  {
   "cell_type": "markdown",
   "id": "686f6e93",
   "metadata": {},
   "source": [
    "### Temperature Dependence"
   ]
  },
  {
   "cell_type": "code",
   "execution_count": 169,
   "id": "9911280b",
   "metadata": {},
   "outputs": [],
   "source": [
    "#input_current = np.array([10**(-8), 10**(-7), 10**(-6), 10**(-5), 10**(-4), 10**(-3)]) #A\n",
    "#voltage = np.array([0.24773, 0.31007, 0.3704, 0.43, 0.4892, 0.5484]) # V"
   ]
  },
  {
   "cell_type": "code",
   "execution_count": 170,
   "id": "a155daac",
   "metadata": {},
   "outputs": [],
   "source": [
    "def temp(voltage1, voltage2):\n",
    "    # NEED TO MAKE SURE THEY ARE RIGHT NEXT TO EACH OTHER, OFF BY FACTOR OF 10\n",
    "    electron_e = -1.602*10**(-19) #C\n",
    "    kB = 1.381*10**(-23) # J/K\n",
    "    return np.abs(electron_e*(voltage2 - voltage1)/kB/np.log(10))"
   ]
  },
  {
   "cell_type": "code",
   "execution_count": 171,
   "id": "b19c39cf",
   "metadata": {},
   "outputs": [],
   "source": [
    "remote_resistance = np.array([12.1425, 9.963*10**3, 100.53*10**3])"
   ]
  },
  {
   "cell_type": "markdown",
   "id": "d930e9a3",
   "metadata": {},
   "source": [
    "### Temp 1"
   ]
  },
  {
   "cell_type": "code",
   "execution_count": 172,
   "id": "9ed2a1de",
   "metadata": {},
   "outputs": [],
   "source": [
    "temp_1 = voltage_func(976.4)\n",
    "\n",
    "#current = np.array([10**(-6), 10**(-5)])\n",
    "#voltagee = np.array([976.4, 992.1])\n",
    "\n",
    "# calculate < Vout^2 >, ie Johnson noise including amplifier noise\n",
    "RA_voltage_1 = V_johnson(np.mean(np.array([0.195443, 0.19489, .194389, 0.194144, 0.194088])), 3000)\n",
    "RB_voltage_1 = V_johnson(np.mean(np.array([0.336680, 0.336590, 0.335118, 0.33579, 0.336443])), 3000)\n",
    "RC_voltage_1 = V_johnson(np.mean(np.array([1.26217, 1.26449, 1.27028, 1.27514, 1.27740])), 3000)\n",
    "\n",
    "# error\n",
    "RA_voltage_1_err = uncertainty_mean(V_johnson(np.array([0.195443, 0.19489, .194389, 0.194144, 0.194088]),3000))\n",
    "RB_voltage_1_err = uncertainty_mean(V_johnson(np.array([0.336680, 0.336590, 0.335118, 0.33579, 0.336443]),3000))\n",
    "RC_voltage_1_err = uncertainty_mean(V_johnson(np.array([1.26217, 1.26449, 1.27028, 1.27514, 1.27740]),3000))\n",
    "\n",
    "# extrapolate to calculate amplifier noise\n",
    "amp_noise_t1 = amp_noise(remote_resistance, np.array([RA_voltage_1, RB_voltage_1, RC_voltage_1]))\n",
    "\n",
    "# subtract off amp_noise\n",
    "RA_voltage_1_f = RA_voltage_1 - amp_noise_t1\n",
    "RB_voltage_1_f = RB_voltage_1 - amp_noise_t1\n",
    "RC_voltage_1_f = RC_voltage_1 - amp_noise_t1"
   ]
  },
  {
   "cell_type": "code",
   "execution_count": 173,
   "id": "8a09415e",
   "metadata": {},
   "outputs": [
    {
     "data": {
      "text/plain": [
       "1.0510899783123894e-14"
      ]
     },
     "execution_count": 173,
     "metadata": {},
     "output_type": "execute_result"
    }
   ],
   "source": [
    "RC_voltage_1_err"
   ]
  },
  {
   "cell_type": "markdown",
   "id": "d6ed60c8",
   "metadata": {},
   "source": [
    "### Temp 2"
   ]
  },
  {
   "cell_type": "code",
   "execution_count": 174,
   "id": "bac24697",
   "metadata": {},
   "outputs": [],
   "source": [
    "temp_2 = voltage_func(935)\n",
    "#current_2 = np.array([10**(-6), 10**(-5)])\n",
    "#voltage_2 = np.array([0.9388, 0.9489])\n",
    "\n",
    "RA_voltage_2 = np.mean(np.array([0.195726, 0.196075, 0.195479]))\n",
    "RB_voltage_2 = np.mean(np.array([0.366640, 0.367263, 0.366942]))\n",
    "RC_voltage_2 = np.mean(np.array([1.45976, 1.45428, 1.45598]))\n",
    "\n",
    "# error\n",
    "RA_voltage_2_err = uncertainty_mean(V_johnson(np.array([0.195726, 0.196075, 0.195479]),3000))\n",
    "RB_voltage_2_err = uncertainty_mean(V_johnson(np.array([0.366640, 0.367263, 0.366942]),3000))\n",
    "RC_voltage_2_err = uncertainty_mean(V_johnson(np.array([1.45976, 1.45428, 1.45598]),3000))\n",
    "\n",
    "# calculate < Vout^2 >, ie Johnson noise including amplifier noise\n",
    "RA_voltage_2 = V_johnson(RA_voltage_2, 3000)\n",
    "RB_voltage_2 = V_johnson(RB_voltage_2, 3000)\n",
    "RC_voltage_2 = V_johnson(RC_voltage_2, 3000)\n",
    "\n",
    "array_2 = np.array([RA_voltage_2, RB_voltage_2, RC_voltage_2])\n",
    "\n",
    "# extrapolate to calculate amplifier noise\n",
    "amp_noise_t2 = amp_noise(remote_resistance, array_2)\n",
    "\n",
    "# subtract off amp_noise\n",
    "RA_voltage_2_f = RA_voltage_2 - amp_noise_t2\n",
    "RB_voltage_2_f = RB_voltage_2 - amp_noise_t2\n",
    "RC_voltage_2_f = RC_voltage_2 - amp_noise_t2"
   ]
  },
  {
   "cell_type": "markdown",
   "id": "dce4977d",
   "metadata": {},
   "source": [
    "### Temp 3"
   ]
  },
  {
   "cell_type": "code",
   "execution_count": 175,
   "id": "9500162c",
   "metadata": {},
   "outputs": [],
   "source": [
    "temp_3 = voltage_func(910)\n",
    "#current_2 = np.array([10**(-6), 10**(-5)])\n",
    "#voltage_2 = np.array([0.9388, 0.9489])\n",
    "\n",
    "RA_voltage_3 = np.mean(np.array([0.195508, 0.195207, 0.195799]))\n",
    "RB_voltage_3 = np.mean(np.array([0.382998, 0.381071, 0.381900]))\n",
    "RC_voltage_3 = np.mean(np.array([1.59360, 1.59898, 1.60688]))\n",
    "\n",
    "# error\n",
    "RA_voltage_3_err = uncertainty_mean(V_johnson(np.array([0.195508, 0.195207, 0.195799]),3000))\n",
    "RB_voltage_3_err = uncertainty_mean(V_johnson(np.array([0.382998, 0.381071, 0.381900]),3000))\n",
    "RC_voltage_3_err = uncertainty_mean(V_johnson(np.array([1.59360, 1.59898, 1.60688]),3000))\n",
    "\n",
    "# calculate < Vout^2 >, ie Johnson noise including amplifier noise\n",
    "RA_voltage_3 = V_johnson(RA_voltage_3, 3000)\n",
    "RB_voltage_3 = V_johnson(RB_voltage_3, 3000)\n",
    "RC_voltage_3 = V_johnson(RC_voltage_3, 3000)\n",
    "\n",
    "array_3 = np.array([RA_voltage_3, RB_voltage_3, RC_voltage_3])\n",
    "\n",
    "# extrapolate to calculate amplifier noise\n",
    "amp_noise_t3 = amp_noise(remote_resistance, array_3)\n",
    "\n",
    "# subtract off amp_noise\n",
    "RA_voltage_3_f = RA_voltage_3 - amp_noise_t3\n",
    "RB_voltage_3_f = RB_voltage_3 - amp_noise_t3\n",
    "RC_voltage_3_f = RC_voltage_3 - amp_noise_t3"
   ]
  },
  {
   "cell_type": "markdown",
   "id": "819e29b0",
   "metadata": {},
   "source": [
    "### Temp 4\n",
    "1. Note: heater setting for keeping it stable is around 6 which reads 0.179863 V"
   ]
  },
  {
   "cell_type": "code",
   "execution_count": 176,
   "id": "a52ba4ea",
   "metadata": {},
   "outputs": [],
   "source": [
    "temp_4 = voltage_func(890.6)\n",
    "RA_voltage_4 = np.mean(np.array([0.195256, 0.195034, 0.194448, 0.194834, 0.195412]))\n",
    "RB_voltage_4 = np.mean(np.array([.396987, 0.397123, 0.397214, 0.396110, 0.397043]))\n",
    "RC_voltage_4 = np.mean(np.array([1.68980, 1.69708, 1.69158, 1.69165, 1.68785]))\n",
    "\n",
    "# error\n",
    "RA_voltage_4_err = uncertainty_mean(V_johnson(np.array([0.195256, 0.195034, 0.194448, 0.194834, 0.195412]),3000))\n",
    "RB_voltage_4_err = uncertainty_mean(V_johnson(np.array([.396987, 0.397123, 0.397214, 0.396110, 0.397043]),3000))\n",
    "RC_voltage_4_err = uncertainty_mean(V_johnson(np.array([1.68980, 1.69708, 1.69158, 1.69165, 1.68785]),3000))\n",
    "\n",
    "# calculate < Vout^2 >, ie Johnson noise including amplifier noise\n",
    "RA_voltage_4 = V_johnson(RA_voltage_4, 3000)\n",
    "RB_voltage_4 = V_johnson(RB_voltage_4, 3000)\n",
    "RC_voltage_4 = V_johnson(RC_voltage_4, 3000)\n",
    "\n",
    "array_4 = np.array([RA_voltage_4, RB_voltage_4, RC_voltage_4])\n",
    "\n",
    "# extrapolate to calculate amplifier noise\n",
    "amp_noise_t4 = amp_noise(remote_resistance, array_4)\n",
    "\n",
    "# subtract off amp_noise\n",
    "RA_voltage_4_f = RA_voltage_4 - amp_noise_t4\n",
    "RB_voltage_4_f = RB_voltage_4 - amp_noise_t4\n",
    "RC_voltage_4_f = RC_voltage_4 - amp_noise_t4"
   ]
  },
  {
   "cell_type": "markdown",
   "id": "30c35318",
   "metadata": {},
   "source": [
    "### Temp 5"
   ]
  },
  {
   "cell_type": "code",
   "execution_count": 177,
   "id": "bce629b2",
   "metadata": {},
   "outputs": [],
   "source": [
    "temp_5 = voltage_func(848.2)\n",
    "RA_voltage_5 = np.mean(np.array([0.197195, 0.197095, 0.196684]))\n",
    "RB_voltage_5 = np.mean(np.array([0.423684, 0.423168, 0.424735]))\n",
    "RC_voltage_5 = np.mean(np.array([1.88048, 1.86941, 1.87069]))\n",
    "\n",
    "# error\n",
    "RA_voltage_5_err = uncertainty_mean(V_johnson(np.array([0.197195, 0.197095, 0.196684]),3000))\n",
    "RB_voltage_5_err = uncertainty_mean(V_johnson(np.array([0.423684, 0.423168, 0.424735]),3000))\n",
    "RC_voltage_5_err = uncertainty_mean(V_johnson(np.array([1.88048, 1.86941, 1.87069]),3000))\n",
    "\n",
    "\n",
    "# calculate < Vout^2 >, ie Johnson noise including amplifier noise\n",
    "RA_voltage_5 = V_johnson(RA_voltage_5, 3000)\n",
    "RB_voltage_5 = V_johnson(RB_voltage_5, 3000)\n",
    "RC_voltage_5 = V_johnson(RC_voltage_5, 3000)\n",
    "\n",
    "array_5 = np.array([RA_voltage_5, RB_voltage_5, RC_voltage_5])\n",
    "\n",
    "# extrapolate to calculate amplifier noise\n",
    "amp_noise_t5 = amp_noise(remote_resistance, array_5)\n",
    "\n",
    "# subtract off amp_noise\n",
    "RA_voltage_5_f = RA_voltage_5 - amp_noise_t5\n",
    "RB_voltage_5_f = RB_voltage_5 - amp_noise_t5\n",
    "RC_voltage_5_f = RC_voltage_5 - amp_noise_t5"
   ]
  },
  {
   "cell_type": "markdown",
   "id": "19a6ffdd",
   "metadata": {},
   "source": [
    "### Temp 6"
   ]
  },
  {
   "cell_type": "code",
   "execution_count": 178,
   "id": "bc657522",
   "metadata": {},
   "outputs": [],
   "source": [
    "temp_6 = voltage_func(800)\n",
    "RA_voltage_6 = np.mean(np.array([0.197199, 0.197055, 0.196566]))\n",
    "RB_voltage_6 = np.mean(np.array([0.458855, 0.455989, 0.454288]))\n",
    "RC_voltage_6 = np.mean(np.array([2.06729, 2.05794, 2.05324]))\n",
    "\n",
    "# error\n",
    "RA_voltage_6_err = uncertainty_mean(V_johnson(np.array([0.197199, 0.197055, 0.196566]),3000))\n",
    "RB_voltage_6_err = uncertainty_mean(V_johnson(np.array([0.458855, 0.455989, 0.454288]),3000))\n",
    "RC_voltage_6_err = uncertainty_mean(V_johnson(np.array([2.06729, 2.05794, 2.05324]),3000))\n",
    "\n",
    "# calculate < Vout^2 >, ie Johnson noise including amplifier noise\n",
    "RA_voltage_6 = V_johnson(RA_voltage_6, 3000)\n",
    "RB_voltage_6 = V_johnson(RB_voltage_6, 3000)\n",
    "RC_voltage_6 = V_johnson(RC_voltage_6, 3000)\n",
    "\n",
    "array_6 = np.array([RA_voltage_6, RB_voltage_6, RC_voltage_6])\n",
    "\n",
    "# extrapolate to calculate amplifier noise\n",
    "amp_noise_t6 = amp_noise(remote_resistance, array_6)\n",
    "\n",
    "# subtract off amp_noise\n",
    "RA_voltage_6_f = RA_voltage_6 - amp_noise_t6\n",
    "RB_voltage_6_f = RB_voltage_6 - amp_noise_t6\n",
    "RC_voltage_6_f = RC_voltage_6 - amp_noise_t6"
   ]
  },
  {
   "cell_type": "markdown",
   "id": "0ac5b342",
   "metadata": {},
   "source": [
    "### Temp 7"
   ]
  },
  {
   "cell_type": "code",
   "execution_count": 179,
   "id": "d15b7c90",
   "metadata": {},
   "outputs": [],
   "source": [
    "temp_7 = voltage_func(750)\n",
    "RA_voltage_7 = np.mean(np.array([0.196952, 0.196629, 0.197968]))\n",
    "RB_voltage_7 = np.mean(np.array([0.489298, 0.487773, 0.487198]))\n",
    "RC_voltage_7 = np.mean(np.array([2.27747, 2.2778, 2.27119]))\n",
    "\n",
    "# error\n",
    "RA_voltage_7_err = uncertainty_mean(V_johnson(np.array([0.196952, 0.196629, 0.197968]),3000))\n",
    "RB_voltage_7_err = uncertainty_mean(V_johnson(np.array([0.489298, 0.487773, 0.487198]),3000))\n",
    "RC_voltage_7_err = uncertainty_mean(V_johnson(np.array([2.27747, 2.2778, 2.27119]),3000))\n",
    "\n",
    "\n",
    "# calculate < Vout^2 >, ie Johnson noise including amplifier noise\n",
    "RA_voltage_7 = V_johnson(RA_voltage_7, 3000)\n",
    "RB_voltage_7 = V_johnson(RB_voltage_7, 3000)\n",
    "RC_voltage_7 = V_johnson(RC_voltage_7, 3000)\n",
    "\n",
    "array_7 = np.array([RA_voltage_7, RB_voltage_7, RC_voltage_7])\n",
    "\n",
    "# extrapolate to calculate amplifier noise\n",
    "amp_noise_t7 = amp_noise(remote_resistance, array_7)\n",
    "\n",
    "# subtract off amp_noise\n",
    "RA_voltage_7_f = RA_voltage_7 - amp_noise_t7\n",
    "RB_voltage_7_f = RB_voltage_7 - amp_noise_t7\n",
    "RC_voltage_7_f = RC_voltage_7 - amp_noise_t7"
   ]
  },
  {
   "cell_type": "markdown",
   "id": "163dec16",
   "metadata": {},
   "source": [
    "### Temp 8"
   ]
  },
  {
   "cell_type": "code",
   "execution_count": 180,
   "id": "6d41eb9c",
   "metadata": {},
   "outputs": [],
   "source": [
    "temp_8 = voltage_func(700)\n",
    "RA_voltage_8 = np.mean(np.array([0.196334, 0.196229, 0.196680]))\n",
    "RB_voltage_8 = np.mean(np.array([0.515388, 0.511059, 0.513598]))\n",
    "RC_voltage_8 = np.mean(np.array([2.45580, 2.45880, 2.45778]))\n",
    "\n",
    "# error\n",
    "RA_voltage_8_err = uncertainty_mean(V_johnson(np.array([0.196334, 0.196229, 0.196680]),3000))\n",
    "RB_voltage_8_err = uncertainty_mean(V_johnson(np.array([0.515388, 0.511059, 0.513598]),3000))\n",
    "RC_voltage_8_err = uncertainty_mean(V_johnson(np.array([2.45580, 2.45880, 2.45778]),3000))\n",
    "\n",
    "\n",
    "# calculate < Vout^2 >, ie Johnson noise including amplifier noise\n",
    "RA_voltage_8 = V_johnson(RA_voltage_8, 3000)\n",
    "RB_voltage_8 = V_johnson(RB_voltage_8, 3000)\n",
    "RC_voltage_8 = V_johnson(RC_voltage_8, 3000)\n",
    "\n",
    "array_8 = np.array([RA_voltage_8, RB_voltage_8, RC_voltage_8])\n",
    "\n",
    "# extrapolate to calculate amplifier noise\n",
    "amp_noise_t8 = amp_noise(remote_resistance, array_8)\n",
    "\n",
    "# subtract off amp_noise\n",
    "RA_voltage_8_f = RA_voltage_8 - amp_noise_t8\n",
    "RB_voltage_8_f = RB_voltage_8 - amp_noise_t8\n",
    "RC_voltage_8_f = RC_voltage_8 - amp_noise_t8"
   ]
  },
  {
   "cell_type": "code",
   "execution_count": 181,
   "id": "2cb7fef6",
   "metadata": {},
   "outputs": [],
   "source": [
    "temperatures = np.array([temp_1, temp_2, temp_3, temp_4, temp_5, temp_6, temp_7, temp_8])\n",
    "\n",
    "RA = np.array([RA_voltage_1, RA_voltage_2, RA_voltage_3, RA_voltage_4, RA_voltage_5,\\\n",
    "                  RA_voltage_6, RA_voltage_7, RA_voltage_8], dtype = 'float')\n",
    "RB = np.array([RB_voltage_1, RB_voltage_2, RB_voltage_3, RB_voltage_4, RB_voltage_5,\\\n",
    "                  RB_voltage_6, RB_voltage_7, RB_voltage_8], dtype = 'float')\n",
    "RC = np.array([RC_voltage_1, RC_voltage_2, RC_voltage_3, RC_voltage_4, RC_voltage_5,\\\n",
    "                  RC_voltage_6, RC_voltage_7, RC_voltage_8], dtype = 'float')\n",
    "\n",
    "RAF = np.array([RA_voltage_1_f, RA_voltage_2_f, RA_voltage_3_f, RA_voltage_4_f, RA_voltage_5_f,\\\n",
    "                  RA_voltage_6_f, RA_voltage_7_f, RA_voltage_8_f], dtype = 'float')\n",
    "RBF = np.array([RB_voltage_1_f, RB_voltage_2_f, RB_voltage_3_f, RB_voltage_4_f, RB_voltage_5_f,\\\n",
    "                  RB_voltage_6_f, RB_voltage_7_f, RB_voltage_8_f], dtype = 'float')\n",
    "RCF = np.array([RC_voltage_1_f, RC_voltage_2_f, RC_voltage_3_f, RC_voltage_4_f, RC_voltage_5_f,\\\n",
    "                  RC_voltage_6_f, RC_voltage_7_f, RC_voltage_8_f], dtype = 'float')"
   ]
  },
  {
   "cell_type": "markdown",
   "id": "0d82e755",
   "metadata": {},
   "source": [
    "### Linear Regression"
   ]
  },
  {
   "cell_type": "code",
   "execution_count": 182,
   "id": "c4a35a4b",
   "metadata": {},
   "outputs": [],
   "source": [
    "m_RA, y_int_RA = np.polyfit(temperatures, RA, deg = 1)\n",
    "m_RB, y_int_RB = np.polyfit(temperatures, RB, deg = 1)\n",
    "m_RC, y_int_RC = np.polyfit(temperatures, RC, deg = 1)\n",
    "\n",
    "m_RAF, y_int_RAF = np.polyfit(temperatures, RAF, deg = 1)\n",
    "m_RBF, y_int_RBF = np.polyfit(temperatures, RBF, deg = 1)\n",
    "m_RCF, y_int_RCF = np.polyfit(temperatures, RCF, deg = 1)"
   ]
  },
  {
   "cell_type": "code",
   "execution_count": 183,
   "id": "0a62ce43",
   "metadata": {},
   "outputs": [
    {
     "data": {
      "text/plain": [
       "6.048017784239187e-17"
      ]
     },
     "execution_count": 183,
     "metadata": {},
     "output_type": "execute_result"
    }
   ],
   "source": [
    "m_RA"
   ]
  },
  {
   "cell_type": "code",
   "execution_count": 184,
   "id": "88a5c750",
   "metadata": {},
   "outputs": [],
   "source": [
    "# curve fit regression\n",
    "def linear(x, m, b):\n",
    "    return x*m + b\n",
    "\n",
    "def cov(resistor):\n",
    "    m_resistor_params, m_resistor_cov = optimize.curve_fit(linear, temperatures, resistor)\n",
    "    return np.sqrt(m_resistor_cov[0,0])"
   ]
  },
  {
   "cell_type": "code",
   "execution_count": 185,
   "id": "4e13607a",
   "metadata": {},
   "outputs": [
    {
     "data": {
      "text/plain": [
       "(array([6.04801978e-17, 5.96735768e-13]),\n",
       " array([[ 4.12112457e-34, -5.68933453e-32],\n",
       "        [-5.68933453e-32,  8.39176744e-30]]))"
      ]
     },
     "execution_count": 185,
     "metadata": {},
     "output_type": "execute_result"
    }
   ],
   "source": [
    "optimize.curve_fit(linear, temperatures, RA)"
   ]
  },
  {
   "cell_type": "code",
   "execution_count": 186,
   "id": "69f2985a",
   "metadata": {},
   "outputs": [
    {
     "data": {
      "text/plain": [
       "2.030055312636635e-17"
      ]
     },
     "execution_count": 186,
     "metadata": {},
     "output_type": "execute_result"
    }
   ],
   "source": [
    "cov(RA)"
   ]
  },
  {
   "cell_type": "code",
   "execution_count": 187,
   "id": "6b19876d",
   "metadata": {},
   "outputs": [],
   "source": [
    "RA_err = np.array([RA_voltage_1_err, RA_voltage_2_err, RA_voltage_3_err, RA_voltage_4_err, RA_voltage_5_err\\\n",
    "                  , RA_voltage_7_err, RA_voltage_7_err, RA_voltage_8_err])\n",
    "RB_err = np.array([RB_voltage_1_err, RB_voltage_2_err, RB_voltage_3_err, RB_voltage_4_err, RB_voltage_5_err\\\n",
    "                  , RB_voltage_7_err, RB_voltage_7_err, RB_voltage_8_err])\n",
    "RC_err = np.array([RC_voltage_1_err, RC_voltage_2_err, RC_voltage_3_err, RC_voltage_4_err, RC_voltage_5_err\\\n",
    "                  , RC_voltage_7_err, RC_voltage_7_err, RC_voltage_8_err])"
   ]
  },
  {
   "cell_type": "code",
   "execution_count": 188,
   "id": "2794d5e9",
   "metadata": {},
   "outputs": [
    {
     "data": {
      "text/plain": [
       "array([1.05108998e-14, 4.88253005e-15, 1.18321166e-14, 6.37003316e-15,\n",
       "       9.86306710e-15, 5.88932913e-15, 5.88932913e-15, 2.67291791e-15])"
      ]
     },
     "execution_count": 188,
     "metadata": {},
     "output_type": "execute_result"
    }
   ],
   "source": [
    "RC_err"
   ]
  },
  {
   "cell_type": "markdown",
   "id": "d3a90691",
   "metadata": {},
   "source": [
    "### Plotting Things "
   ]
  },
  {
   "cell_type": "markdown",
   "id": "dd329e48",
   "metadata": {},
   "source": [
    "#### Uncorrected Data"
   ]
  },
  {
   "cell_type": "code",
   "execution_count": 189,
   "id": "f9eb211e",
   "metadata": {},
   "outputs": [
    {
     "data": {
      "image/png": "[encoded data removed]",
      "text/plain": [
       "<Figure size 432x288 with 1 Axes>"
      ]
     },
     "metadata": {
      "needs_background": "light"
     },
     "output_type": "display_data"
    }
   ],
   "source": [
    "#plt.errorbar(temperatures, RA, yerr = RA_err, label = '$R_A$', color = '#253494')\n",
    "#plt.errorbar(temperatures, RB, yerr = RB_err, label = '$R_B$', color = '#225ea8')\n",
    "plt.errorbar(temperatures, RC, yerr = RC_err, fmt = 'o', label = '$R_C$', color = '#1d91c0')\n",
    "\n",
    "#plt.plot(temperatures, m_RC*temperatures + y_int_RC, color = 'black')\n",
    "#plt.plot(temperatures, m_RA*temperatures + y_int_RA, color = 'black')\n",
    "#plt.plot(temperatures, m_RB*temperatures + y_int_RB, color = 'black')\n",
    "\n",
    "plt.gca().spines['top'].set_visible(False)\n",
    "plt.gca().spines['right'].set_visible(False)\n",
    "plt.legend(loc = 0)\n",
    "\n",
    "plt.xlabel(\"Temperature in K\")\n",
    "plt.ylabel(\"Measured $< V_J ^2 >$\")\n",
    "plt.grid()\n",
    "plt.title(\"Johnson Noise versus Temperature\")\n",
    "plt.savefig('Johnson_Noise_versus_temperature.pdf', bbox_inches='tight')\n",
    "\n",
    "plt.show()"
   ]
  },
  {
   "cell_type": "markdown",
   "id": "21113f40",
   "metadata": {},
   "source": [
    "### Need to correct the above\n",
    "1. Amplifier Noise\n",
    "2. Johnson Noise"
   ]
  },
  {
   "cell_type": "markdown",
   "id": "7fdaa169",
   "metadata": {},
   "source": [
    "### Corrected Data"
   ]
  },
  {
   "cell_type": "code",
   "execution_count": 190,
   "id": "dc987a0f",
   "metadata": {},
   "outputs": [
    {
     "data": {
      "image/png": "[encoded data removed]",
      "text/plain": [
       "<Figure size 432x288 with 1 Axes>"
      ]
     },
     "metadata": {
      "needs_background": "light"
     },
     "output_type": "display_data"
    }
   ],
   "source": [
    "plt.scatter(temperatures, RAF, label = '$R_A = 12.14\\,\\Omega$', color = '#253494')\n",
    "plt.scatter(temperatures, RBF, label = '$R_B = 9.963$ k$\\Omega$', color = '#225ea8')\n",
    "plt.scatter(temperatures, RCF, label = '$R_C = 100.53$ k$\\Omega$', color = '#1d91c0')\n",
    "\n",
    "plt.plot(temperatures, m_RCF*temperatures + y_int_RCF, color = 'black')\n",
    "plt.plot(temperatures, m_RAF*temperatures + y_int_RAF, color = 'black')\n",
    "plt.plot(temperatures, m_RBF*temperatures + y_int_RBF, color = 'black')\n",
    "\n",
    "plt.gca().spines['top'].set_visible(False)\n",
    "plt.gca().spines['right'].set_visible(False)\n",
    "plt.legend(loc = 0)\n",
    "\n",
    "plt.xlabel(\"Temperature in K\")\n",
    "plt.ylabel(r\"Calculated $\\langle V_J ^2 \\rangle$\")\n",
    "plt.grid()\n",
    "plt.title(\"Johnson Noise versus Temperature\")\n",
    "plt.savefig('Johnson_Noise_versus_temperature_corrected.pdf', bbox_inches='tight')\n",
    "\n",
    "plt.show()"
   ]
  },
  {
   "cell_type": "code",
   "execution_count": 193,
   "id": "0a99e7a1",
   "metadata": {},
   "outputs": [
    {
     "data": {
      "text/plain": [
       "4.534370955343248e-16"
      ]
     },
     "execution_count": 193,
     "metadata": {},
     "output_type": "execute_result"
    }
   ],
   "source": [
    "cov(RCF)"
   ]
  },
  {
   "cell_type": "code",
   "execution_count": 133,
   "id": "daeb0373",
   "metadata": {},
   "outputs": [],
   "source": [
    "def predicted_slope(resistance):\n",
    "    kB = 1.381*10**(-23)\n",
    "    df = 9997\n",
    "    return 4*kB*df*resistance"
   ]
  },
  {
   "cell_type": "code",
   "execution_count": 136,
   "id": "6ac8504c",
   "metadata": {},
   "outputs": [
    {
     "data": {
      "text/plain": [
       "5.5516112168400005e-14"
      ]
     },
     "execution_count": 136,
     "metadata": {},
     "output_type": "execute_result"
    }
   ],
   "source": [
    "predicted_slope(100.53*1000)"
   ]
  },
  {
   "cell_type": "markdown",
   "id": "da7e345a",
   "metadata": {},
   "source": [
    "### RA"
   ]
  },
  {
   "cell_type": "code",
   "execution_count": 49,
   "id": "d5225bd9",
   "metadata": {},
   "outputs": [
    {
     "data": {
      "image/png": "[encoded data removed]",
      "text/plain": [
       "<Figure size 432x288 with 1 Axes>"
      ]
     },
     "metadata": {
      "needs_background": "light"
     },
     "output_type": "display_data"
    }
   ],
   "source": [
    "plt.scatter(temperatures, RA, label = '$R_A$', color = '#253494')\n",
    "#plt.scatter(temperatures, RB, label = '$R_B$', color = '#225ea8')\n",
    "#plt.scatter(temperatures, RC, label = '$R_C$', color = '#1d91c0')\n",
    "\n",
    "#plt.plot(temperatures, m_RC*temperatures + y_int_RC, color = 'black')\n",
    "plt.plot(temperatures, m_RA*temperatures + y_int_RA, color = 'black')\n",
    "#plt.plot(temperatures, m_RB*temperatures + y_int_RB, color = 'black')\n",
    "\n",
    "plt.gca().spines['top'].set_visible(False)\n",
    "plt.gca().spines['right'].set_visible(False)\n",
    "plt.legend(loc = 0)\n",
    "\n",
    "plt.xlabel(\"Temperature in K\")\n",
    "plt.ylabel(\"Measured $< V_J ^2 >$\")\n",
    "plt.grid()\n",
    "plt.title(\"Johnson Noise versus Temperature\")\n",
    "plt.savefig('Johnson_Noise_versus_temperature_RA.pdf', bbox_inches='tight')\n",
    "\n",
    "plt.show()"
   ]
  },
  {
   "cell_type": "code",
   "execution_count": null,
   "id": "ccf6968c",
   "metadata": {},
   "outputs": [],
   "source": []
  }
 ],
 "metadata": {
  "kernelspec": {
   "display_name": "Python 3",
   "language": "python",
   "name": "python3"
  },
  "language_info": {
   "codemirror_mode": {
    "name": "ipython",
    "version": 3
   },
   "file_extension": ".py",
   "mimetype": "text/x-python",
   "name": "python",
   "nbconvert_exporter": "python",
   "pygments_lexer": "ipython3",
   "version": "3.8.8"
  }
 },
 "nbformat": 4,
 "nbformat_minor": 5
}
