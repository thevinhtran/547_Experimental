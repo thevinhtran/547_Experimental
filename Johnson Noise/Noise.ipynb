{
 "cells": [
  {
   "cell_type": "markdown",
   "id": "5f1d5007",
   "metadata": {},
   "source": [
    "### Noise Code: Measurements from Keithley Multimeter\n",
    "1. Goal of program is to just take voltage readings from Keithley multimeter via GPIB interface with some time delay and write out to a text file (for now). \n",
    "2. Things to keep in mind: need to install both pyvisa and pyvisa-py (backend) and specify pyvisa-py when using the Resource manager; also if module not found, change python interpreter to correct one (ie, like Conda)"
   ]
  },
  {
   "cell_type": "code",
   "execution_count": 1,
   "id": "1e880474",
   "metadata": {},
   "outputs": [],
   "source": [
    "import pyvisa\n",
    "import numpy as np\n",
    "import pandas as pd"
   ]
  },
  {
   "cell_type": "markdown",
   "id": "d259b0a1",
   "metadata": {},
   "source": [
    "#### Find out the GPIB, Declare Resource Manager, etc"
   ]
  },
  {
   "cell_type": "code",
   "execution_count": 2,
   "id": "5d174641",
   "metadata": {},
   "outputs": [],
   "source": [
    "# declare resource manager object called rm and list resources to find multimeter\n",
    "rm = pyvisa.ResourceManager('@py')"
   ]
  },
  {
   "cell_type": "code",
   "execution_count": 16,
   "id": "2c70e552",
   "metadata": {},
   "outputs": [
    {
     "ename": "ValueError",
     "evalue": "Please install linux-gpib (Linux) or gpib-ctypes (Windows, Linux) to use this resource type. Note that installing gpib-ctypes will give you access to a broader range of funcionality.\nNo module named 'gpib'",
     "output_type": "error",
     "traceback": [
      "\u001b[0;31m---------------------------------------------------------------------------\u001b[0m",
      "\u001b[0;31mValueError\u001b[0m                                Traceback (most recent call last)",
      "\u001b[0;32m<ipython-input-16-94a43abb3556>\u001b[0m in \u001b[0;36m<module>\u001b[0;34m\u001b[0m\n\u001b[1;32m      1\u001b[0m \u001b[0;31m# Create instrument variable multimeter\u001b[0m\u001b[0;34m\u001b[0m\u001b[0;34m\u001b[0m\u001b[0;34m\u001b[0m\u001b[0m\n\u001b[0;32m----> 2\u001b[0;31m \u001b[0mmultimeter\u001b[0m \u001b[0;34m=\u001b[0m \u001b[0mrm\u001b[0m\u001b[0;34m.\u001b[0m\u001b[0mopen_resource\u001b[0m\u001b[0;34m(\u001b[0m\u001b[0;34m'GPIB0::16::INSTR'\u001b[0m\u001b[0;34m)\u001b[0m\u001b[0;34m\u001b[0m\u001b[0;34m\u001b[0m\u001b[0m\n\u001b[0m",
      "\u001b[0;32m~/opt/anaconda3/lib/python3.8/site-packages/pyvisa/highlevel.py\u001b[0m in \u001b[0;36mopen_resource\u001b[0;34m(self, resource_name, access_mode, open_timeout, resource_pyclass, **kwargs)\u001b[0m\n\u001b[1;32m   3302\u001b[0m                 )\n\u001b[1;32m   3303\u001b[0m \u001b[0;34m\u001b[0m\u001b[0m\n\u001b[0;32m-> 3304\u001b[0;31m         \u001b[0mres\u001b[0m\u001b[0;34m.\u001b[0m\u001b[0mopen\u001b[0m\u001b[0;34m(\u001b[0m\u001b[0maccess_mode\u001b[0m\u001b[0;34m,\u001b[0m \u001b[0mopen_timeout\u001b[0m\u001b[0;34m)\u001b[0m\u001b[0;34m\u001b[0m\u001b[0;34m\u001b[0m\u001b[0m\n\u001b[0m\u001b[1;32m   3305\u001b[0m \u001b[0;34m\u001b[0m\u001b[0m\n\u001b[1;32m   3306\u001b[0m         \u001b[0;32mfor\u001b[0m \u001b[0mkey\u001b[0m\u001b[0;34m,\u001b[0m \u001b[0mvalue\u001b[0m \u001b[0;32min\u001b[0m \u001b[0mkwargs\u001b[0m\u001b[0;34m.\u001b[0m\u001b[0mitems\u001b[0m\u001b[0;34m(\u001b[0m\u001b[0;34m)\u001b[0m\u001b[0;34m:\u001b[0m\u001b[0;34m\u001b[0m\u001b[0;34m\u001b[0m\u001b[0m\n",
      "\u001b[0;32m~/opt/anaconda3/lib/python3.8/site-packages/pyvisa/resources/resource.py\u001b[0m in \u001b[0;36mopen\u001b[0;34m(self, access_mode, open_timeout)\u001b[0m\n\u001b[1;32m    295\u001b[0m             \u001b[0mconstants\u001b[0m\u001b[0;34m.\u001b[0m\u001b[0mStatusCode\u001b[0m\u001b[0;34m.\u001b[0m\u001b[0msuccess_device_not_present\u001b[0m\u001b[0;34m\u001b[0m\u001b[0;34m\u001b[0m\u001b[0m\n\u001b[1;32m    296\u001b[0m         ):\n\u001b[0;32m--> 297\u001b[0;31m             self.session, status = self._resource_manager.open_bare_resource(\n\u001b[0m\u001b[1;32m    298\u001b[0m                 \u001b[0mself\u001b[0m\u001b[0;34m.\u001b[0m\u001b[0m_resource_name\u001b[0m\u001b[0;34m,\u001b[0m \u001b[0maccess_mode\u001b[0m\u001b[0;34m,\u001b[0m \u001b[0mopen_timeout\u001b[0m\u001b[0;34m\u001b[0m\u001b[0;34m\u001b[0m\u001b[0m\n\u001b[1;32m    299\u001b[0m             )\n",
      "\u001b[0;32m~/opt/anaconda3/lib/python3.8/site-packages/pyvisa/highlevel.py\u001b[0m in \u001b[0;36mopen_bare_resource\u001b[0;34m(self, resource_name, access_mode, open_timeout)\u001b[0m\n\u001b[1;32m   3230\u001b[0m \u001b[0;34m\u001b[0m\u001b[0m\n\u001b[1;32m   3231\u001b[0m         \"\"\"\n\u001b[0;32m-> 3232\u001b[0;31m         \u001b[0;32mreturn\u001b[0m \u001b[0mself\u001b[0m\u001b[0;34m.\u001b[0m\u001b[0mvisalib\u001b[0m\u001b[0;34m.\u001b[0m\u001b[0mopen\u001b[0m\u001b[0;34m(\u001b[0m\u001b[0mself\u001b[0m\u001b[0;34m.\u001b[0m\u001b[0msession\u001b[0m\u001b[0;34m,\u001b[0m \u001b[0mresource_name\u001b[0m\u001b[0;34m,\u001b[0m \u001b[0maccess_mode\u001b[0m\u001b[0;34m,\u001b[0m \u001b[0mopen_timeout\u001b[0m\u001b[0;34m)\u001b[0m\u001b[0;34m\u001b[0m\u001b[0;34m\u001b[0m\u001b[0m\n\u001b[0m\u001b[1;32m   3233\u001b[0m \u001b[0;34m\u001b[0m\u001b[0m\n\u001b[1;32m   3234\u001b[0m     def open_resource(\n",
      "\u001b[0;32m~/opt/anaconda3/lib/python3.8/site-packages/pyvisa_py/highlevel.py\u001b[0m in \u001b[0;36mopen\u001b[0;34m(self, session, resource_name, access_mode, open_timeout)\u001b[0m\n\u001b[1;32m    165\u001b[0m         )\n\u001b[1;32m    166\u001b[0m \u001b[0;34m\u001b[0m\u001b[0m\n\u001b[0;32m--> 167\u001b[0;31m         \u001b[0msess\u001b[0m \u001b[0;34m=\u001b[0m \u001b[0mcls\u001b[0m\u001b[0;34m(\u001b[0m\u001b[0msession\u001b[0m\u001b[0;34m,\u001b[0m \u001b[0mresource_name\u001b[0m\u001b[0;34m,\u001b[0m \u001b[0mparsed\u001b[0m\u001b[0;34m,\u001b[0m \u001b[0mopen_timeout\u001b[0m\u001b[0;34m)\u001b[0m\u001b[0;34m\u001b[0m\u001b[0;34m\u001b[0m\u001b[0m\n\u001b[0m\u001b[1;32m    168\u001b[0m \u001b[0;34m\u001b[0m\u001b[0m\n\u001b[1;32m    169\u001b[0m         \u001b[0;32mreturn\u001b[0m \u001b[0mself\u001b[0m\u001b[0;34m.\u001b[0m\u001b[0m_register\u001b[0m\u001b[0;34m(\u001b[0m\u001b[0msess\u001b[0m\u001b[0;34m)\u001b[0m\u001b[0;34m,\u001b[0m \u001b[0mStatusCode\u001b[0m\u001b[0;34m.\u001b[0m\u001b[0msuccess\u001b[0m\u001b[0;34m\u001b[0m\u001b[0;34m\u001b[0m\u001b[0m\n",
      "\u001b[0;32m~/opt/anaconda3/lib/python3.8/site-packages/pyvisa_py/sessions.py\u001b[0m in \u001b[0;36m__init__\u001b[0;34m(self, *args, **kwargs)\u001b[0m\n\u001b[1;32m    264\u001b[0m \u001b[0;34m\u001b[0m\u001b[0m\n\u001b[1;32m    265\u001b[0m             \u001b[0;32mdef\u001b[0m \u001b[0m__init__\u001b[0m\u001b[0;34m(\u001b[0m\u001b[0mself\u001b[0m\u001b[0;34m,\u001b[0m \u001b[0;34m*\u001b[0m\u001b[0margs\u001b[0m\u001b[0;34m,\u001b[0m \u001b[0;34m**\u001b[0m\u001b[0mkwargs\u001b[0m\u001b[0;34m)\u001b[0m \u001b[0;34m->\u001b[0m \u001b[0;32mNone\u001b[0m\u001b[0;34m:\u001b[0m\u001b[0;34m\u001b[0m\u001b[0;34m\u001b[0m\u001b[0m\n\u001b[0;32m--> 266\u001b[0;31m                 \u001b[0;32mraise\u001b[0m \u001b[0mValueError\u001b[0m\u001b[0;34m(\u001b[0m\u001b[0mmsg\u001b[0m\u001b[0;34m)\u001b[0m\u001b[0;34m\u001b[0m\u001b[0;34m\u001b[0m\u001b[0m\n\u001b[0m\u001b[1;32m    267\u001b[0m \u001b[0;34m\u001b[0m\u001b[0m\n\u001b[1;32m    268\u001b[0m             \u001b[0;32mdef\u001b[0m \u001b[0m_get_attribute\u001b[0m\u001b[0;34m(\u001b[0m\u001b[0mself\u001b[0m\u001b[0;34m,\u001b[0m \u001b[0mattr\u001b[0m\u001b[0;34m)\u001b[0m\u001b[0;34m:\u001b[0m\u001b[0;34m\u001b[0m\u001b[0;34m\u001b[0m\u001b[0m\n",
      "\u001b[0;31mValueError\u001b[0m: Please install linux-gpib (Linux) or gpib-ctypes (Windows, Linux) to use this resource type. Note that installing gpib-ctypes will give you access to a broader range of funcionality.\nNo module named 'gpib'"
     ]
    }
   ],
   "source": [
    "# Create instrument variable multimeter \n",
    "multimeter = rm.open_resource('GPIB0::16::INSTR')"
   ]
  },
  {
   "cell_type": "markdown",
   "id": "cf5cb2c8",
   "metadata": {},
   "source": [
    "#### Initialize Machine For Measurements"
   ]
  },
  {
   "cell_type": "code",
   "execution_count": null,
   "id": "4d26b140",
   "metadata": {},
   "outputs": [],
   "source": [
    "# experimental parameters\n",
    "time_interval_ms = 500\n",
    "number_readings = 50\n",
    "\n",
    "# SCPI (standard commands for programmable instruments)\n",
    "\n",
    "multimeter.write(\"status:measurement:enable 512; *sre 1\")\n",
    "multimeter.write(\"sample:count %d\" % number_of_readings)\n",
    "multimeter.write(\"trigger:source bus\")\n",
    "multimeter.write(\"trigger:delay %f\" % (time_interval_ms / 1000.0))\n",
    "multimeter.write(\"trace:points %d\" % number_readings)\n",
    "multimeter.write(\"trace:feed sense1; trace:feed:control next\")"
   ]
  },
  {
   "cell_type": "markdown",
   "id": "0cb3ff84",
   "metadata": {},
   "source": [
    "#### Perform the Measurements"
   ]
  },
  {
   "cell_type": "code",
   "execution_count": null,
   "id": "16fbf825",
   "metadata": {},
   "outputs": [],
   "source": [
    "multimeter.write(\"initiate\")\n",
    "multimeter.assert_trigger()\n",
    "multimeter.wait_for_srq()"
   ]
  },
  {
   "cell_type": "markdown",
   "id": "17c31425",
   "metadata": {},
   "source": [
    "#### Get array of voltage values"
   ]
  },
  {
   "cell_type": "code",
   "execution_count": null,
   "id": "8e43bb48",
   "metadata": {},
   "outputs": [],
   "source": [
    "voltages = keithley.query_ascii_values(\"trace:data?\", container=numpy.array)"
   ]
  },
  {
   "cell_type": "markdown",
   "id": "9469db56",
   "metadata": {},
   "source": [
    "#### Save voltage values out to a csv file"
   ]
  },
  {
   "cell_type": "code",
   "execution_count": 33,
   "id": "77aa658b",
   "metadata": {},
   "outputs": [
    {
     "ename": "NameError",
     "evalue": "name 'voltages' is not defined",
     "output_type": "error",
     "traceback": [
      "\u001b[0;31m---------------------------------------------------------------------------\u001b[0m",
      "\u001b[0;31mNameError\u001b[0m                                 Traceback (most recent call last)",
      "\u001b[0;32m<ipython-input-33-0fdc5a208892>\u001b[0m in \u001b[0;36m<module>\u001b[0;34m\u001b[0m\n\u001b[0;32m----> 1\u001b[0;31m \u001b[0mnp\u001b[0m\u001b[0;34m.\u001b[0m\u001b[0msavetxt\u001b[0m\u001b[0;34m(\u001b[0m\u001b[0;34m'File_Name.csv'\u001b[0m\u001b[0;34m,\u001b[0m \u001b[0mvoltages\u001b[0m\u001b[0;34m,\u001b[0m \u001b[0mfmt\u001b[0m\u001b[0;34m=\u001b[0m\u001b[0;34m'%.7e'\u001b[0m\u001b[0;34m,\u001b[0m \u001b[0mdelimiter\u001b[0m\u001b[0;34m=\u001b[0m\u001b[0;34m','\u001b[0m\u001b[0;34m)\u001b[0m\u001b[0;34m\u001b[0m\u001b[0;34m\u001b[0m\u001b[0m\n\u001b[0m",
      "\u001b[0;31mNameError\u001b[0m: name 'voltages' is not defined"
     ]
    }
   ],
   "source": [
    "np.savetxt('File_Name.csv', voltages, fmt='%.7e', delimiter=',')"
   ]
  },
  {
   "cell_type": "markdown",
   "id": "9db87f04",
   "metadata": {},
   "source": [
    "#### Some useful things maybe"
   ]
  },
  {
   "cell_type": "code",
   "execution_count": 24,
   "id": "f55abdbb",
   "metadata": {},
   "outputs": [],
   "source": [
    "def mean(data_array):\n",
    "    result = 0\n",
    "    for i in range(len(data_array)):\n",
    "        result = data_array[i] + result \n",
    "    return result/len(data_array)\n",
    "\n",
    "def variance(data_array):\n",
    "    # returns population variance\n",
    "    return mean((data_array - mean(data_array))**2)\n",
    "    \n",
    "def uncertainty(data_array):\n",
    "    # returns uncertainty defined as max value - min value divided by 2\n",
    "    return (np.max(data_array) - np.min(data_array))/2\n",
    "    \n",
    "def uncertainty_mean(data_array):\n",
    "    # returns uncertainty in the mean: max value - min value, divided by 2 sqrt(N)\n",
    "    return (np.max(data_array) - np.min(data_array))/2/np.sqrt(len(data_array))"
   ]
  },
  {
   "cell_type": "markdown",
   "id": "d252674f",
   "metadata": {},
   "source": [
    "### Data Analysis Section"
   ]
  },
  {
   "cell_type": "code",
   "execution_count": null,
   "id": "b04dc61c",
   "metadata": {},
   "outputs": [],
   "source": []
  }
 ],
 "metadata": {
  "kernelspec": {
   "display_name": "Python 3",
   "language": "python",
   "name": "python3"
  },
  "language_info": {
   "codemirror_mode": {
    "name": "ipython",
    "version": 3
   },
   "file_extension": ".py",
   "mimetype": "text/x-python",
   "name": "python",
   "nbconvert_exporter": "python",
   "pygments_lexer": "ipython3",
   "version": "3.8.8"
  }
 },
 "nbformat": 4,
 "nbformat_minor": 5
}
