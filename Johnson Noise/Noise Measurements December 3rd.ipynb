{
 "cells": [
  {
   "cell_type": "markdown",
   "id": "6b38c9dd",
   "metadata": {},
   "source": [
    "## Johnson Noise Data Analysis"
   ]
  },
  {
   "cell_type": "code",
   "execution_count": 351,
   "id": "2700e378",
   "metadata": {},
   "outputs": [],
   "source": [
    "import numpy as np\n",
    "import matplotlib.pyplot as plt\n",
    "import pandas as pd\n",
    "from scipy import stats, interpolate, integrate, optimize\n",
    "import sklearn as sk\n",
    "from scipy.optimize import curve_fit\n",
    "\n",
    "def uncertainty(data_array):\n",
    "    # returns uncertainty defined as max value - min value divided by 2\n",
    "    return (np.max(data_array) - np.min(data_array))/2\n",
    "    \n",
    "def uncertainty_mean(data_array):\n",
    "    # returns uncertainty in the mean: max value - min value, divided by 2 sqrt(N)\n",
    "    return (np.max(data_array) - np.min(data_array))/2/np.sqrt(len(data_array))\n",
    "\n",
    "from IPython.display import set_matplotlib_formats\n",
    "set_matplotlib_formats('svg')"
   ]
  },
  {
   "cell_type": "markdown",
   "id": "5b7be607",
   "metadata": {},
   "source": [
    "### V measured to Johnson Noise"
   ]
  },
  {
   "cell_type": "code",
   "execution_count": 27,
   "id": "1fa4369a",
   "metadata": {},
   "outputs": [],
   "source": [
    "def V_johnson(v_meter, G2):\n",
    "    # returns johnson noise value given measured voltage and gain settings on HLE\n",
    "    G1 = 600\n",
    "    return v_meter*10/G1**2/G2**2"
   ]
  },
  {
   "cell_type": "markdown",
   "id": "02ea2043",
   "metadata": {},
   "source": [
    "### Amplifier Noise Correction"
   ]
  },
  {
   "cell_type": "code",
   "execution_count": 28,
   "id": "7194829d",
   "metadata": {},
   "outputs": [],
   "source": [
    "def amp_noise(resistance_array, initial_v_measured_array):\n",
    "    # takes as input initial voltage measurements which includes both J and N \n",
    "    # contributions for all resistors. Then use an extrapolation scheme to get the R = 0 limit\n",
    "    # which returns the amplifier noise\n",
    "    \n",
    "    interp_func = interpolate.interp1d(resistance_array, initial_v_measured_array, fill_value = 'extrapolate')\n",
    "    return interp_func(0)"
   ]
  },
  {
   "cell_type": "markdown",
   "id": "59c3c067",
   "metadata": {},
   "source": [
    "### Johnson Noise vs Resistance\n",
    "1. Measuring $\\langle V_J^2\\rangle$ as a function of resistor resistance $R$. \n",
    "2. First, we take measurements for $1\\,\\Omega$ and use those values to get the noise of the electronics."
   ]
  },
  {
   "cell_type": "code",
   "execution_count": 34,
   "id": "dc563483",
   "metadata": {},
   "outputs": [],
   "source": [
    "Ohm_1 = np.array([5.1313, 5.1272, 5.1705, 5.1293, 5.1136, 5.1389, 5.1210, 5.1072, 5.1730, 5.1682]) #mV\n",
    "Ohm_10 = np.array([5.2153, 5.1684, 5.1691, 5.1209, 5.1854, 5.1320, 5.1834, 5.0368, 5.1647, 5.1547]) #mV\n",
    "Ohm_100 = np.array([5.3340, 5.2775, 5.3519, 5.3446, 5.2121, 5.3988, 5.2662, 5.3007, 5.2382, 5.2250]) #mV\n",
    "Ohm_1k = np.array([6.9417, 6.8028, 6.7510, 6.7762, 6.6790, 6.8072, 6.7508, 6.7324, 6.7949, 6.8005, 6.582, 6.8022]) #mV\n",
    "Ohm_10k = np.array([21.5123, 21.9312, 21.5085, 21.3678, 21.6049, 21.6019, 21.4819, 21.5089, 21.4887, 21.4401]) #mV\n",
    "Ohm_100k = np.array([0.168387, 0.170085, 0.16418, 0.16186, 0.169497, 0.168095, 0.166858, 0.169928, 0.166892,\\\n",
    "                         0.169042, 0.168989, 0.170326, 0.166476, 0.166927])*1000 #mV\n",
    "Ohm_1M = np.array([1.19804, 1.20708, 1.28989, 1.20969, 1.21150, 1.18797, 1.20006, 1.19723, 1.18591, 1.18016])*1000 #mV"
   ]
  },
  {
   "cell_type": "code",
   "execution_count": 35,
   "id": "9c7cc5f6",
   "metadata": {},
   "outputs": [],
   "source": [
    "Ohm_1_mean = np.mean(Ohm_1)\n",
    "Ohm_10_mean = np.mean(Ohm_10)\n",
    "Ohm_100_mean = np.mean(Ohm_100)\n",
    "Ohm_1k_mean = np.mean(Ohm_1k)\n",
    "Ohm_10k_mean = np.mean(Ohm_10k)\n",
    "Ohm_100k_mean = np.mean(Ohm_100k)\n",
    "Ohm_1M_mean = np.mean(Ohm_1M)"
   ]
  },
  {
   "cell_type": "markdown",
   "id": "6e296914",
   "metadata": {},
   "source": [
    "### Calculating Johnson Noise"
   ]
  },
  {
   "cell_type": "code",
   "execution_count": 175,
   "id": "b5fd51cf",
   "metadata": {},
   "outputs": [],
   "source": [
    "resistance = np.array([1.0, 10.0, 100.0, 1000.0, 10000.0, 100000.0, 1000000.0])\n",
    "voltage_resistance_mean = np.array([Ohm_1_mean, Ohm_10_mean, Ohm_100_mean, Ohm_1k_mean, Ohm_10k_mean, Ohm_100k_mean\\\n",
    "                                        , Ohm_1M_mean])/1000\n",
    "\n",
    "# calculating V_out \n",
    "voltage_resistance_mean_vout = V_johnson(voltage_resistance_mean, 500)\n",
    "\n",
    "# extrapolate to calculate amp_noise\n",
    "amplifier_noise = amp_noise(resistance, voltage_resistance_mean_vout)\n",
    "\n",
    "# substracting off amp_noise\n",
    "johnson_noise = voltage_resistance_mean_vout - amplifier_noise"
   ]
  },
  {
   "cell_type": "code",
   "execution_count": 176,
   "id": "593cca01",
   "metadata": {},
   "outputs": [],
   "source": [
    "mresistance_1, bresistance_1 = np.polyfit(resistance, johnson_noise, 1)\n",
    "mresistance_2, bresistance_2 = np.polyfit(resistance, johnson_noise_2, 1)"
   ]
  },
  {
   "cell_type": "code",
   "execution_count": 180,
   "id": "7cfae201",
   "metadata": {},
   "outputs": [
    {
     "data": {
      "image/png": "[encoded data removed]",
      "text/plain": [
       "<Figure size 432x288 with 1 Axes>"
      ]
     },
     "metadata": {
      "needs_background": "light"
     },
     "output_type": "display_data"
    }
   ],
   "source": [
    "plt.scatter(resistance, johnson_noise, label = '$f_1$ = 0.1 kHz, $f_2$ = 10 kHz')\n",
    "plt.scatter(resistance, johnson_noise_2, label = '$f_1$ = 0.1 kHz, $f_2$ = 33 kHz')\n",
    "\n",
    "plt.plot(resistance, mresistance_1*resistance + bresistance_1, color = 'black')\n",
    "plt.plot(resistance, mresistance_2*resistance + bresistance_2, color = 'black')\n",
    "\n",
    "plt.gca().spines['top'].set_visible(False)\n",
    "plt.gca().spines['right'].set_visible(False)\n",
    "plt.legend(loc = 0)\n",
    "\n",
    "plt.xlabel(\"Resistance in $\\Omega$\")\n",
    "plt.ylabel(r'$\\langle V_J^2 \\rangle $')\n",
    "plt.grid()\n",
    "plt.title(\"Johnson Noise vs Resistance: Linear Plot\")\n",
    "plt.savefig('Johnson_Noise_versus_resistance_1.pdf', bbox_inches='tight')"
   ]
  },
  {
   "cell_type": "code",
   "execution_count": null,
   "id": "5872196e",
   "metadata": {},
   "outputs": [],
   "source": []
  },
  {
   "cell_type": "code",
   "execution_count": 273,
   "id": "2560805c",
   "metadata": {},
   "outputs": [
    {
     "data": {
      "image/png": "[encoded data removed]",
      "text/plain": [
       "<Figure size 432x288 with 1 Axes>"
      ]
     },
     "metadata": {
      "needs_background": "light"
     },
     "output_type": "display_data"
    }
   ],
   "source": [
    "plt.errorbar(np.log10(resistance), np.log10(johnson_noise), fmt = 'o'\\\n",
    "                 , label = '$f_1$ = 0.1 kHz, $f_2$ = 10 kHz')\n",
    "em, bee = np.polyfit(np.log10(resistance), np.log10(johnson_noise_2),1)\n",
    "em2, bee2 = np.polyfit(np.log10(resistance), np.log10(johnson_noise),1)\n",
    "plt.errorbar(np.log10(resistance), np.log10(johnson_noise_2), fmt = 'o', \\\n",
    "                  label = '$f_1$ = 0.1 kHz, $f_2$ = 33 kHz')\n",
    "\n",
    "plt.gca().spines['top'].set_visible(False)\n",
    "plt.gca().spines['right'].set_visible(False)\n",
    "plt.legend(loc = 0)\n",
    "\n",
    "plt.xlabel(\"Log Resistance $\\log_{10}\\Omega$\")\n",
    "plt.ylabel(\"Log Calculated $\\log_{10}< V_J ^2 >$\")\n",
    "plt.grid()\n",
    "plt.title(\"Johnson Noise vs Resistance: Log-Log\")\n",
    "plt.savefig('Johnson_Noise_versus_resistance_both_LOG.pdf', bbox_inches='tight')"
   ]
  },
  {
   "cell_type": "markdown",
   "id": "cc9c7dd2",
   "metadata": {},
   "source": [
    "### Johnson Noise vs Resistance\n",
    "1. Done for $f_1 = 0.1$ kHz and $f_2 = 33$ kHz for a gain of $500$. "
   ]
  },
  {
   "cell_type": "code",
   "execution_count": 11,
   "id": "cfaf1ec5",
   "metadata": {},
   "outputs": [],
   "source": [
    "df_1Ohm = pd.read_csv(r'/Users/vinhtran/Downloads/Noise Measurements G3 Afternoon/Resistance Measurements/f1_0.1kHz_33kHz_1Ohm.csv', header = None)\n",
    "df_10Ohm = pd.read_csv(r'/Users/vinhtran/Downloads/Noise Measurements G3 Afternoon/Resistance Measurements/f1_0.1kHz_33kHz_10Ohm_mV.csv', header = None)\n",
    "df_100Ohm = pd.read_csv(r'/Users/vinhtran/Downloads/Noise Measurements G3 Afternoon/Resistance Measurements/f1_0.1kHz_33kHz_100_Ohm_mV.csv', header = None)\n",
    "df_1kOhm = pd.read_csv(r'/Users/vinhtran/Downloads/Noise Measurements G3 Afternoon/Resistance Measurements/f1_0.1kHz_33kHz_1k_Ohm_mV.csv', header = None)\n",
    "df_10kOhm = pd.read_csv(r'/Users/vinhtran/Downloads/Noise Measurements G3 Afternoon/Resistance Measurements/f1_0.1kHz_33kHz_10k_Ohm_mV.csv', header = None)\n",
    "df_100kOhm = pd.read_csv(r'/Users/vinhtran/Downloads/Noise Measurements G3 Afternoon/Resistance Measurements/f1_0.1kHz_33kHz_100k_Ohm_V.csv', header = None)\n",
    "df_1MOhm = pd.read_csv(r'/Users/vinhtran/Downloads/Noise Measurements G3 Afternoon/Resistance Measurements/f1_0.1kHz_33kHz_1M_Ohm_V.csv', header = None)"
   ]
  },
  {
   "cell_type": "code",
   "execution_count": 12,
   "id": "e70aa2ec",
   "metadata": {},
   "outputs": [],
   "source": [
    "data_1Ohm = df_1Ohm.to_numpy()\n",
    "data_10Ohm = df_10Ohm.to_numpy()\n",
    "data_100Ohm = df_100Ohm.to_numpy()\n",
    "data_1kOhm = df_1kOhm.to_numpy()\n",
    "data_10kOhm = df_10kOhm.to_numpy()\n",
    "data_100kOhm = df_100kOhm.to_numpy()\n",
    "data_1MOhm = df_1MOhm.to_numpy()"
   ]
  },
  {
   "cell_type": "code",
   "execution_count": 13,
   "id": "ba8e7552",
   "metadata": {},
   "outputs": [
    {
     "data": {
      "text/plain": [
       "array([0.01872236, 0.01872946, 0.01924389, 0.02420646, 0.07413657,\n",
       "       0.54315179, 2.04504425])"
      ]
     },
     "execution_count": 13,
     "metadata": {},
     "output_type": "execute_result"
    }
   ],
   "source": [
    "voltage_1Ohm = np.mean(data_1Ohm)\n",
    "voltage_10Ohm = np.mean(data_10Ohm)\n",
    "voltage_100Ohm = np.mean(data_100Ohm)\n",
    "voltage_1kOhm = np.mean(data_1kOhm)\n",
    "voltage_10kOhm = np.mean(data_10kOhm)\n",
    "voltage_100kOhm = np.mean(data_100kOhm)\n",
    "voltage_1MOhm = np.mean(data_1MOhm)\n",
    "\n",
    "voltages2 = np.array([voltage_1Ohm, voltage_10Ohm, voltage_100Ohm,\\\n",
    "                          voltage_1kOhm, voltage_10kOhm, voltage_100kOhm, voltage_1MOhm])\n",
    "voltages2"
   ]
  },
  {
   "cell_type": "code",
   "execution_count": 163,
   "id": "0ac3e7e2",
   "metadata": {},
   "outputs": [],
   "source": [
    "# calculating V_out \n",
    "voltage_resistance_mean_vout_2 = V_johnson(voltages2, 500)\n",
    "\n",
    "# extrapolate to calculate amp_noise\n",
    "amplifier_noise_2 = amp_noise(resistance, voltage_resistance_mean_vout_2)\n",
    "\n",
    "# substracting off amp_noise\n",
    "johnson_noise_2 = voltage_resistance_mean_vout_2 - amplifier_noise_2"
   ]
  },
  {
   "cell_type": "code",
   "execution_count": 164,
   "id": "4bba5d06",
   "metadata": {},
   "outputs": [
    {
     "data": {
      "text/plain": [
       "array(2.08017431e-12)"
      ]
     },
     "execution_count": 164,
     "metadata": {},
     "output_type": "execute_result"
    }
   ],
   "source": [
    "amplifier_noise_2"
   ]
  },
  {
   "cell_type": "code",
   "execution_count": 167,
   "id": "e46f6b32",
   "metadata": {},
   "outputs": [
    {
     "data": {
      "text/plain": [
       "array([8.76913580e-17, 8.76913580e-16, 5.80356914e-14, 6.09432025e-13,\n",
       "       6.15722225e-12, 5.82700246e-11, 2.25146964e-10])"
      ]
     },
     "execution_count": 167,
     "metadata": {},
     "output_type": "execute_result"
    }
   ],
   "source": [
    "johnson_noise_2"
   ]
  },
  {
   "cell_type": "markdown",
   "id": "05e023ce",
   "metadata": {},
   "source": [
    "### Johnson Noise vs Equivalent Noise Bandwidth\n",
    "1. Measuring here the $\\langle V_J^2 \\rangle$ as a function of equivalent noise bandwidth $\\Delta f$."
   ]
  },
  {
   "cell_type": "code",
   "execution_count": 101,
   "id": "b2fe08e1",
   "metadata": {},
   "outputs": [],
   "source": [
    "resistance_bandwidth = np.array([1, 100*10**3])"
   ]
  },
  {
   "cell_type": "code",
   "execution_count": 235,
   "id": "3e6d7981",
   "metadata": {},
   "outputs": [],
   "source": [
    "# f1 = 10 Hz, f2 = 0.33 kHz, Resistor 1 Ohm - for amplifier noise purposes \n",
    "Delta_f1_1Ohm = np.array([-0.6650, -0.6541, -0.6570, -0.6663, -0.6653, -0.6392,\\\n",
    "                          -0.6539, -0.6555, -0.6590, -0.6474, -0.6326, -0.6427])/1000 #mV\n",
    "\n",
    "# f1 = 10 Hz, f2 = 0.33 kHz, Resistor 100K Ohms\n",
    "Delta_f1_100kOhm = np.array([4.2187, 4.4065, 4.2488, 4.2231, 4.1823,\\\n",
    "                                 4.3219, 4.7980, 4.5898, 4.1661, 4.4843])/1000 #mV\n",
    "\n",
    "Delta_f1_1Ohm_mean = V_johnson(np.mean(Delta_f1_1Ohm), 500) # calculate mean for amplifier noise\n",
    "Delta_f1_100kOhm_mean = V_johnson(np.mean(Delta_f1_100kOhm), 500) # calculate mean for 100K resistor\n",
    "\n",
    "\n",
    "Delta_f1_100kOhm_PLOT = Delta_f1_100kOhm_mean - Delta_f1_1Ohm_mean # subtract off amplifier noise "
   ]
  },
  {
   "cell_type": "code",
   "execution_count": 236,
   "id": "f6496b0f",
   "metadata": {},
   "outputs": [],
   "source": [
    "# f1 = 30 Hz, f2 = 1kHz, resistor 1 Ohm - amplifier noise\n",
    "Delta_f2_1Ohm = np.array([-0.2417, -.2409, -0.2151, -0.2528, -0.1989,\\\n",
    "                              -0.1962, -0.2215, -0.2232, -0.2230, -0.1903])/1000 #mV\n",
    "\n",
    "# f1 = 30 Hz, f2 = 1kHz, resistor 100K Ohm - amplifier noise\n",
    "Delta_f2_100kOhm = np.array([15.8780, 15.9888, 16.0898, 16.0887, 15.3916,\\\n",
    "                                 15.8785, 15.4369, 15.4912, 15.6473, 15.5989])/1000 #mV\n",
    "\n",
    "Delta_f2_1Ohm_mean = V_johnson(np.mean(Delta_f2_1Ohm),500)\n",
    "Delta_f2_100kOhm_mean = V_johnson(np.mean(Delta_f2_100kOhm),500)\n",
    "\n",
    "Delta_f2_100kOhm_PLOT = Delta_f2_100kOhm_mean - Delta_f2_1Ohm_mean"
   ]
  },
  {
   "cell_type": "code",
   "execution_count": 237,
   "id": "405ccb0f",
   "metadata": {},
   "outputs": [],
   "source": [
    "# f1 = 100 Hz, f2 = 3.3 kHz, 1 Ohm - amplifier noise\n",
    "Delta_f3_1Ohm = np.array([1.1562, 1.1050, 1.1438, 1.0935, 1.1121,\\\n",
    "                              1.1083, 1.1302, 1.1183, 1.1091, 1.1710])/1000 #mV\n",
    "\n",
    "# f1 = 100 Hz, f2 = 3.3 kHz, 100 kOhm\n",
    "Delta_f3_100kOhm = np.array([54.3887, 54.7875, 54.5844, 54.0822, 54.2166, 54.8315\\\n",
    "                                 , 54.9866, 54.1602, 56.3720, 54.4033, 54.0825])/1000 #mV\n",
    "\n",
    "Delta_f3_1Ohm_mean = V_johnson(np.mean(Delta_f3_1Ohm),500)\n",
    "Delta_f3_100kOhm_mean = V_johnson(np.mean(Delta_f3_100kOhm),500)\n",
    "\n",
    "\n",
    "Delta_f3_100kOhm_PLOT = Delta_f3_100kOhm_mean - Delta_f3_1Ohm_mean"
   ]
  },
  {
   "cell_type": "code",
   "execution_count": 238,
   "id": "185f3668",
   "metadata": {},
   "outputs": [],
   "source": [
    "# f1 = 300 Hz, f2 = 10 kHz, 1 Ohm - amplifier noise\n",
    "Delta_f4_1Ohm = np.array([4.9796, 4.9537, 4.9306, 5.0400, 5.0934,\\\n",
    "                          5.0249, 5.0292, 5.0379, 4.9690, 4.9815])/1000 #mV\n",
    "\n",
    "# f1 = 300 Hz, f2 = 10 kHz, 100 kOhm\n",
    "Delta_f4_100kOhm = np.array([0.162694, 0.162576, 0.165044, 0.164578,\\\n",
    "                                 0.164917, 0.165559, 0.164751, 0.164432, 0.164021, 0.165278]) #V\n",
    "\n",
    "Delta_f4_1Ohm_mean = V_johnson(np.mean(Delta_f4_1Ohm),500)\n",
    "Delta_f4_100kOhm_mean = V_johnson(np.mean(Delta_f4_100kOhm),500)\n",
    "\n",
    "Delta_f4_100kOhm_PLOT = Delta_f4_100kOhm_mean - Delta_f4_1Ohm_mean"
   ]
  },
  {
   "cell_type": "code",
   "execution_count": 239,
   "id": "34af6cba",
   "metadata": {},
   "outputs": [],
   "source": [
    "# f1 = 1000 Hz, f2 = 33 kHz, 1 Ohm - amplifier noise\n",
    "Delta_f5_1Ohm = np.array([18.9341, 18.8374, 18.5916, 18.7928, 18.6898,\\\n",
    "                              18.7990, 18.7728, 18.7199, 18.7872, 18.7762])/1000 #mV\n",
    "\n",
    "# f1 = 1000 Hz, f2 = 33 kHz, 100 kOhms\n",
    "Delta_f5_100kOhm = np.array([0.527957, 0.530889, 0.532465, 0.529698, 0.527447,\\\n",
    "                             0.527589, 0.528438, 0.529136, 0.529747, 0.528859]) #V\n",
    "\n",
    "Delta_f5_1Ohm_mean = V_johnson(np.mean(Delta_f5_1Ohm),500)\n",
    "Delta_f5_100kOhm_mean = V_johnson(np.mean(Delta_f5_100kOhm),500)\n",
    "\n",
    "Delta_f5_100kOhm_PLOT = Delta_f5_100kOhm_mean - Delta_f5_1Ohm_mean"
   ]
  },
  {
   "cell_type": "code",
   "execution_count": 240,
   "id": "d82fac56",
   "metadata": {},
   "outputs": [],
   "source": [
    "# f1 = 3000 Hz, f2 = 100 kHz, 1 Ohm - amplifier noise\n",
    "Delta_f6_1Ohm = np.array([59.5149, 59.3589, 59.2497, 59.5095,\\\n",
    "                          59.4760, 59.4581, 59.4974, 59.6094, 59.5189, 59.2918])/1000 #V\n",
    "\n",
    "# f1 = 3000 Hz, f2 = 100 kHz, 100 kOhms\n",
    "Delta_f6_100kOhm = np.array([1.32735, 1.32775, 1.33113, 1.32769,\\\n",
    "                             1.32967, 1.33055, 1.33258, 1.32968, 1.33532, 1.33775, 1.33450]) #V\n",
    "\n",
    "Delta_f6_1Ohm_mean = V_johnson(np.mean(Delta_f6_1Ohm),500)\n",
    "Delta_f6_100kOhm_mean = V_johnson(np.mean(Delta_f6_100kOhm),500)\n",
    "\n",
    "Delta_f6_100kOhm_PLOT = Delta_f6_100kOhm_mean - Delta_f6_1Ohm_mean"
   ]
  },
  {
   "cell_type": "code",
   "execution_count": 242,
   "id": "b9bf7215",
   "metadata": {},
   "outputs": [],
   "source": [
    "bandwidth = np.array([355, 1077, 3554, 10774, 35543, 107740])\n",
    "\n",
    "f2 = np.array([0.33, 1.0, 3.3, 10, 33, 100])*1000 #Hz\n",
    "f1 = np.array([10, 30, 100, 300, 1000, 3000]) #Hz\n",
    "\n",
    "frequency_diff = np.abs(f2-f1)\n",
    "\n",
    "bandwidth_voltages = np.array([Delta_f1_100kOhm_PLOT, Delta_f2_100kOhm_PLOT, Delta_f3_100kOhm_PLOT, Delta_f4_100kOhm_PLOT,\\\n",
    "                        Delta_f5_100kOhm_PLOT, Delta_f6_100kOhm_PLOT])"
   ]
  },
  {
   "cell_type": "markdown",
   "id": "9f1749b0",
   "metadata": {},
   "source": [
    "### Johnson Noise vs Bandwidth Linear Plot"
   ]
  },
  {
   "cell_type": "code",
   "execution_count": 257,
   "id": "341690bc",
   "metadata": {},
   "outputs": [
    {
     "data": {
      "image/png": "[encoded data removed]",
      "text/plain": [
       "<Figure size 432x288 with 1 Axes>"
      ]
     },
     "metadata": {
      "needs_background": "light"
     },
     "output_type": "display_data"
    }
   ],
   "source": [
    "plt.scatter(bandwidth, bandwidth_voltages, label = '100 k$\\Omega$', marker = \"v\", color = '#225ea8')\n",
    "plt.plot(bandwidth, mlinear*bandwidth + blinear, label = r'c = 1.311$\\times 10^{-15}$$\\Delta$ f + 2.587$\\times 10^{-12}$ ', color = 'black')\n",
    "plt.gca().spines['top'].set_visible(False)\n",
    "plt.gca().spines['right'].set_visible(False)\n",
    "\n",
    "plt.xlabel(\"Effective Noise Bandwidth $\\Delta f$ in Hz\")\n",
    "plt.ylabel(r\"$\\langle  V_J ^2 \\rangle$ in V$^2$\")\n",
    "plt.legend(loc=0)\n",
    "plt.grid()\n",
    "plt.title(\"Johnson Noise vs Bandwidth Linear Plot\")\n",
    "plt.savefig('Johnson_Noise_versus_bandwidth_LINEAR_PLOT.pdf', bbox_inches='tight')"
   ]
  },
  {
   "cell_type": "markdown",
   "id": "1bb5769c",
   "metadata": {},
   "source": [
    "### Linear Regression"
   ]
  },
  {
   "cell_type": "code",
   "execution_count": 252,
   "id": "9ba7d8a0",
   "metadata": {},
   "outputs": [
    {
     "data": {
      "text/plain": [
       "2.587164391315185e-12"
      ]
     },
     "execution_count": 252,
     "metadata": {},
     "output_type": "execute_result"
    }
   ],
   "source": [
    "mlinear, blinear = np.polyfit(bandwidth, bandwidth_voltages,1)\n",
    "blinear"
   ]
  },
  {
   "cell_type": "code",
   "execution_count": 225,
   "id": "2102431a",
   "metadata": {},
   "outputs": [
    {
     "data": {
      "text/plain": [
       "-24.663441410502873"
      ]
     },
     "execution_count": 225,
     "metadata": {},
     "output_type": "execute_result"
    }
   ],
   "source": [
    "m1, b1 = np.polyfit(np.log10(bandwidth), np.log10(bandwidth_voltages), 1)\n",
    "b1"
   ]
  },
  {
   "cell_type": "code",
   "execution_count": 134,
   "id": "41f2c7c0",
   "metadata": {},
   "outputs": [
    {
     "data": {
      "text/plain": [
       "1.6571999999999998e-15"
      ]
     },
     "execution_count": 134,
     "metadata": {},
     "output_type": "execute_result"
    }
   ],
   "source": [
    "### Slope Calculator\n",
    "kB = 1.381*10**(-23)\n",
    "T = 300\n",
    "R = 100*10**3\n",
    "4*kB*T*R"
   ]
  },
  {
   "cell_type": "markdown",
   "id": "bd7e744e",
   "metadata": {},
   "source": [
    "### Johnson Noise vs Bandwidth Log Log"
   ]
  },
  {
   "cell_type": "code",
   "execution_count": 186,
   "id": "c3977697",
   "metadata": {},
   "outputs": [
    {
     "data": {
      "image/png": "[encoded data removed]",
      "text/plain": [
       "<Figure size 432x288 with 1 Axes>"
      ]
     },
     "metadata": {
      "needs_background": "light"
     },
     "output_type": "display_data"
    }
   ],
   "source": [
    "plt.scatter(np.log10(bandwidth), np.log10(bandwidth_voltages), label = '100 k$\\Omega$', color = '#225ea8')\n",
    "plt.plot(np.log10(bandwidth), m1*np.log10(bandwidth) + b1, color = 'black')\n",
    "\n",
    "plt.gca().spines['top'].set_visible(False)\n",
    "plt.gca().spines['right'].set_visible(False)\n",
    "\n",
    "plt.xlabel(\"Log Effective Noise Bandwidth $\\log_{10} \\Delta f$\")\n",
    "plt.ylabel(r\"$\\log_{10}(\\langle  V_J ^2 \\rangle)$\")\n",
    "plt.legend(loc=0)\n",
    "plt.grid()\n",
    "plt.title(\"Johnson Noise vs Bandwidth Log-Log Plot\")\n",
    "plt.savefig('Johnson_Noise_versus_bandwidth_LOG.pdf', bbox_inches='tight')"
   ]
  },
  {
   "cell_type": "markdown",
   "id": "4595b621",
   "metadata": {},
   "source": [
    "#### Johnson Noise vs Difference in Frequency (Log-Log)"
   ]
  },
  {
   "cell_type": "code",
   "execution_count": 193,
   "id": "c5ab0e8d",
   "metadata": {},
   "outputs": [
    {
     "data": {
      "image/png": "[encoded data removed]",
      "text/plain": [
       "<Figure size 432x288 with 1 Axes>"
      ]
     },
     "metadata": {
      "needs_background": "light"
     },
     "output_type": "display_data"
    }
   ],
   "source": [
    "plt.errorbar(np.log10(frequency_diff), np.log10(bandwidth_voltages), fmt = 'o', label = 'Frequency Difference', color = '#225ea8')\n",
    "\n",
    "m, b = np.polyfit(np.log10(frequency_diff), np.log10(voltages), 1)\n",
    "plt.plot(np.log10(frequency_diff), m*np.log10(frequency_diff) + b, color = 'black')\n",
    "\n",
    "plt.scatter(np.log10(bandwidth), np.log10(bandwidth_voltages), label = 'Effective Noise Bandwidth', color = '#7a0177')\n",
    "plt.plot(np.log10(bandwidth), m1*np.log10(bandwidth) + b1, color = 'black')\n",
    "\n",
    "\n",
    "plt.gca().spines['top'].set_visible(False)\n",
    "plt.gca().spines['right'].set_visible(False)\n",
    "\n",
    "plt.legend(loc = 0)\n",
    "plt.xlabel(\"Log Frequency Difference $\\log_{10}(f_2 - f_1)$\")\n",
    "plt.ylabel(r\"Log Noise $\\log_{10}\\langle V_J ^2 \\rangle$\")\n",
    "plt.grid()\n",
    "plt.title(\"Johnson Noise vs Frequency Difference\")\n",
    "plt.savefig('Johnson_Noise_versus_bandwidth_frequency.pdf', bbox_inches='tight')"
   ]
  },
  {
   "cell_type": "code",
   "execution_count": 260,
   "id": "1911ce70",
   "metadata": {},
   "outputs": [
    {
     "data": {
      "image/png": "[encoded data removed]",
      "text/plain": [
       "<Figure size 432x288 with 1 Axes>"
      ]
     },
     "metadata": {
      "needs_background": "light"
     },
     "output_type": "display_data"
    }
   ],
   "source": [
    "plt.errorbar(frequency_diff, bandwidth_voltages, fmt = 'o', label = 'Frequency Difference', color = '#225ea8')\n",
    "m, b = np.polyfit(frequency_diff, bandwidth_voltages, 1)\n",
    "plt.plot(frequency_diff, m*frequency_diff + b, color = 'black', label = m)\n",
    "\n",
    "plt.scatter(bandwidth, bandwidth_voltages, label = 'Effective Noise Bandwidth', color = '#7a0177')\n",
    "m1, b1 = np.polyfit(bandwidth, bandwidth_voltages, 1)\n",
    "plt.plot(bandwidth, m1*bandwidth + b1, color = 'black')\n",
    "\n",
    "\n",
    "plt.gca().spines['top'].set_visible(False)\n",
    "plt.gca().spines['right'].set_visible(False)\n",
    "\n",
    "plt.legend(loc = 0)\n",
    "plt.xlabel(\"Log Frequency Difference $\\log_{10}(f_2 - f_1)$\")\n",
    "plt.ylabel(r\"Log Noise $\\log_{10}\\langle V_J ^2 \\rangle$\")\n",
    "plt.grid()\n",
    "plt.title(\"Johnson Noise vs Frequency Difference\")\n",
    "plt.savefig('Johnson_Noise_versus_bandwidth_frequency.pdf', bbox_inches='tight')"
   ]
  },
  {
   "cell_type": "code",
   "execution_count": 267,
   "id": "173c2840",
   "metadata": {},
   "outputs": [
    {
     "data": {
      "image/png": "[encoded data removed]",
      "text/plain": [
       "<Figure size 432x288 with 1 Axes>"
      ]
     },
     "metadata": {
      "needs_background": "light"
     },
     "output_type": "display_data"
    }
   ],
   "source": [
    "plt.errorbar(frequency_diff, bandwidth_voltages, fmt = 'o', label = '100 k$\\Omega$', color = '#225ea8')\n",
    "m, b = np.polyfit(frequency_diff, bandwidth_voltages, 1)\n",
    "plt.plot(frequency_diff, m*frequency_diff + b, color = 'black')\n",
    "\n",
    "\n",
    "plt.gca().spines['top'].set_visible(False)\n",
    "plt.gca().spines['right'].set_visible(False)\n",
    "\n",
    "plt.legend(loc = 0)\n",
    "plt.xlabel(\"Frequency Difference $(f_2 - f_1)$ in Hz\")\n",
    "plt.ylabel(r\"$\\langle V_J ^2 \\rangle$ in V$^2$\")\n",
    "plt.grid()\n",
    "plt.title(\"Johnson Noise vs Frequency Difference\")\n",
    "plt.savefig('Johnson_Noise_versus_bandwidth_frequency_LINEAR.pdf', bbox_inches='tight')"
   ]
  },
  {
   "cell_type": "markdown",
   "id": "b75f58d5",
   "metadata": {},
   "source": [
    "### Johnson Noise vs Bandwidth, and Difference in Frequency"
   ]
  },
  {
   "cell_type": "code",
   "execution_count": 196,
   "id": "111cea87",
   "metadata": {},
   "outputs": [
    {
     "data": {
      "image/png": "[encoded data removed]",
      "text/plain": [
       "<Figure size 432x288 with 1 Axes>"
      ]
     },
     "metadata": {
      "needs_background": "light"
     },
     "output_type": "display_data"
    }
   ],
   "source": [
    "plt.errorbar(np.log10(frequency_diff), np.log10(bandwidth_voltages), label = '100 k$\\Omega$' ,fmt = 'o', color = '#7a0177')\n",
    "\n",
    "m, b = np.polyfit(np.log10(frequency_diff), np.log10(voltages), 1)\n",
    "plt.plot(np.log10(frequency_diff), m*np.log10(frequency_diff) + b, color = 'black')\n",
    "\n",
    "plt.gca().spines['top'].set_visible(False)\n",
    "plt.gca().spines['right'].set_visible(False)\n",
    "plt.legend(loc = 0)\n",
    "\n",
    "plt.xlabel(\"Log Frequency Difference $\\log_{10}(f_2 - f_1)$\")\n",
    "plt.ylabel(r\"Log Noise $\\log_{10}\\langle V_J ^2 \\rangle$\")\n",
    "plt.grid()\n",
    "plt.title(\"Johnson Noise vs Frequency Difference\")\n",
    "plt.savefig('Johnson_Noise_versus_F_Diff.pdf', bbox_inches='tight')"
   ]
  },
  {
   "cell_type": "markdown",
   "id": "f633e580",
   "metadata": {},
   "source": [
    "#### Johnson Noise vs F1 (Log-Log)"
   ]
  },
  {
   "cell_type": "code",
   "execution_count": 98,
   "id": "c36e309c",
   "metadata": {},
   "outputs": [
    {
     "data": {
      "image/png": "[encoded data removed]",
      "text/plain": [
       "<Figure size 432x288 with 1 Axes>"
      ]
     },
     "metadata": {
      "needs_background": "light"
     },
     "output_type": "display_data"
    }
   ],
   "source": [
    "plt.errorbar(np.log10(f1), np.log10(voltages), fmt = 'o', color = '#225ea8')\n",
    "\n",
    "m, b = np.polyfit(np.log10(f1), np.log10(voltages), 1)\n",
    "plt.plot(np.log10(f1), m*np.log10(f1) + b, color = 'black')\n",
    "\n",
    "plt.gca().spines['top'].set_visible(False)\n",
    "plt.gca().spines['right'].set_visible(False)\n",
    "\n",
    "plt.xlabel(\"Log Frequency Difference\")\n",
    "plt.ylabel(\"Log Calculated $< V_J ^2 >$\")\n",
    "plt.grid()\n",
    "plt.title(\"Johnson Noise vs Frequency Difference\")\n",
    "plt.savefig('Johnson_Noise_versus_F_Diff', bbox_inches='tight')"
   ]
  },
  {
   "cell_type": "markdown",
   "id": "1eff9e5d",
   "metadata": {},
   "source": [
    "#### Johnson Noise vs F2 (Log-Log)"
   ]
  },
  {
   "cell_type": "code",
   "execution_count": 99,
   "id": "02487470",
   "metadata": {},
   "outputs": [
    {
     "data": {
      "image/png": "[encoded data removed]",
      "text/plain": [
       "<Figure size 432x288 with 1 Axes>"
      ]
     },
     "metadata": {
      "needs_background": "light"
     },
     "output_type": "display_data"
    }
   ],
   "source": [
    "plt.errorbar(np.log10(f2), np.log10(voltages), fmt = 'o', color = '#225ea8')\n",
    "\n",
    "m, b = np.polyfit(np.log10(f2), np.log10(voltages), 1)\n",
    "plt.plot(np.log10(f2), m*np.log10(f2) + b, color = 'black')\n",
    "\n",
    "plt.gca().spines['top'].set_visible(False)\n",
    "plt.gca().spines['right'].set_visible(False)\n",
    "\n",
    "plt.xlabel(\"Log Frequency Difference\")\n",
    "plt.ylabel(\"Log Calculated $< V_J ^2 >$\")\n",
    "plt.grid()\n",
    "plt.title(\"Johnson Noise vs Frequency Difference\")\n",
    "plt.savefig('Johnson_Noise_versus_F_Diff', bbox_inches='tight')"
   ]
  },
  {
   "cell_type": "code",
   "execution_count": 106,
   "id": "cea84d52",
   "metadata": {},
   "outputs": [
    {
     "data": {
      "image/png": "[encoded data removed]",
      "text/plain": [
       "<Figure size 432x288 with 1 Axes>"
      ]
     },
     "metadata": {
      "needs_background": "light"
     },
     "output_type": "display_data"
    }
   ],
   "source": [
    "plt.errorbar(np.log(f2), np.log(voltages), fmt = 'o', color = '#225ea8')\n",
    "plt.errorbar(np.log(f1), np.log(voltages), fmt = 'o', color = 'red')\n",
    "plt.errorbar(np.log(frequency_diff), np.log(voltages), fmt = 'o', color = 'orange')\n",
    "plt.errorbar(np.log(bandwidth), np.log(voltages), fmt = 'o', color = 'green')\n",
    "\n",
    "#m, b = np.polyfit(np.log10(f2), np.log10(voltages), 1)\n",
    "#plt.plot(np.log10(f2), m*np.log10(f2) + b, color = 'black')\n",
    "\n",
    "plt.gca().spines['top'].set_visible(False)\n",
    "plt.gca().spines['right'].set_visible(False)\n",
    "\n",
    "plt.xlabel(\"Log Frequency Difference\")\n",
    "plt.ylabel(\"Log Calculated $< V_J ^2 >$\")\n",
    "plt.grid()\n",
    "plt.title(\"Johnson Noise vs Frequency Difference\")\n",
    "plt.savefig('Johnson_Noise_versus_F_Diff', bbox_inches='tight')"
   ]
  },
  {
   "cell_type": "markdown",
   "id": "436c78b2",
   "metadata": {},
   "source": [
    "### Noise Density"
   ]
  },
  {
   "cell_type": "markdown",
   "id": "e72b4c18",
   "metadata": {},
   "source": [
    "#### Exercise 2.1"
   ]
  },
  {
   "cell_type": "code",
   "execution_count": 37,
   "id": "f8a8f4b8",
   "metadata": {},
   "outputs": [],
   "source": [
    "ex_1 = pd.read_csv(r'/Users/vinhtran/Downloads/Exercise_2_1.csv', header = None)"
   ]
  },
  {
   "cell_type": "code",
   "execution_count": 38,
   "id": "d2843dee",
   "metadata": {},
   "outputs": [],
   "source": [
    "# convert data to numpy array\n",
    "ex_1_data = ex_1.to_numpy()\n",
    "\n",
    "# extract columns into single arrays\n",
    "rms_input = ex_1_data[:,0]*1000\n",
    "rms_output = ex_1_data[:,1]\n",
    "frequency = ex_1_data[:,2]\n",
    "\n",
    "# calculate Gain\n",
    "gain = rms_output/rms_input"
   ]
  },
  {
   "cell_type": "code",
   "execution_count": 305,
   "id": "ec64cf0e",
   "metadata": {},
   "outputs": [],
   "source": [
    "def butterworth(f, f1, f2):\n",
    "    return (f/f1)**2/np.sqrt(1+(f/f1)**4)/np.sqrt(1+(f/f2)**4)\n",
    "def butterworth_squared(f, f1, f2):\n",
    "    return butterworth(f,f1,f2)**2"
   ]
  },
  {
   "cell_type": "code",
   "execution_count": 277,
   "id": "77277362",
   "metadata": {},
   "outputs": [
    {
     "data": {
      "text/plain": [
       "array([  0.1 ,   0.15,   0.2 ,   0.25,   0.3 ,   0.35,   0.4 ,   0.45,\n",
       "         0.5 ,   0.55,   0.6 ,   0.65,   0.7 ,   0.75,   0.8 ,   0.9 ,\n",
       "         1.  ,   1.1 ,   1.2 ,   1.3 ,   1.4 ,   1.5 ,   2.  ,   5.  ,\n",
       "        10.  ,  15.  ,  20.  ,  25.  ,  30.  ,  35.  ,  40.  ,  45.  ,\n",
       "        50.  ,  55.  ,  60.  ,  65.  ,  70.  ,  75.  ,  80.  ,  85.  ,\n",
       "        90.  ,  95.  , 100.  ])"
      ]
     },
     "execution_count": 277,
     "metadata": {},
     "output_type": "execute_result"
    }
   ],
   "source": [
    "frequency"
   ]
  },
  {
   "cell_type": "code",
   "execution_count": 320,
   "id": "dd80e599",
   "metadata": {},
   "outputs": [
    {
     "data": {
      "image/png": "[encoded data removed]",
      "text/plain": [
       "<Figure size 432x288 with 1 Axes>"
      ]
     },
     "metadata": {
      "needs_background": "light"
     },
     "output_type": "display_data"
    }
   ],
   "source": [
    "plt.scatter(frequency, gain, label = '$f_1 = 1$ kHz, $f_2 = 10$ kHz', color = '#2171b5')\n",
    "X = np.linspace(0,100,100)\n",
    "plt.plot(X, butterworth2(X,1,10), linestyle='dashed', color = 'black', label = 'Predicted Curve')\n",
    "plt.gca().spines['top'].set_visible(False)\n",
    "plt.gca().spines['right'].set_visible(False)\n",
    "\n",
    "plt.xlabel(\"Input Frequency in kHz\")\n",
    "plt.ylabel(\"Gain\")\n",
    "plt.legend(loc = 0)\n",
    "\n",
    "plt.grid()\n",
    "plt.title(\"Gain vs Frequency: Linear Scale\")\n",
    "plt.savefig('Gain_vs_frequency_linear.pdf', bbox_inches='tight')"
   ]
  },
  {
   "cell_type": "code",
   "execution_count": 317,
   "id": "1ba581c6",
   "metadata": {},
   "outputs": [
    {
     "data": {
      "text/plain": [
       "(9.994151169132378, 3.92292189459794e-08)"
      ]
     },
     "execution_count": 317,
     "metadata": {},
     "output_type": "execute_result"
    }
   ],
   "source": [
    "integrate.quad(butterworth_squared, 0.1, 100, args = (1,10))"
   ]
  },
  {
   "cell_type": "code",
   "execution_count": 207,
   "id": "755882d0",
   "metadata": {},
   "outputs": [
    {
     "data": {
      "image/png": "[encoded data removed]",
      "text/plain": [
       "<Figure size 432x288 with 1 Axes>"
      ]
     },
     "metadata": {
      "needs_background": "light"
     },
     "output_type": "display_data"
    }
   ],
   "source": [
    "plt.scatter(np.log10(frequency), 20*np.log10(gain), label = '$f_1 = 1$ kHz, $f_2 = 10$ kHz', color = '#2171b5')\n",
    "\n",
    "plt.gca().spines['top'].set_visible(False)\n",
    "plt.gca().spines['right'].set_visible(False)\n",
    "\n",
    "plt.xlabel(\"Input Frequency in $\\log_{10}$(kHz)\")\n",
    "plt.ylabel(\"Gain in dB\")\n",
    "plt.legend(loc=10)\n",
    "plt.grid()\n",
    "plt.title(\"Gain vs Frequency: dB vs $\\log_{10}$\")\n",
    "plt.savefig('Gain_vs_frequency_log_dB.pdf', bbox_inches='tight')"
   ]
  },
  {
   "cell_type": "markdown",
   "id": "41e86a42",
   "metadata": {},
   "source": [
    "### Gain^2 Log Scale"
   ]
  },
  {
   "cell_type": "code",
   "execution_count": 220,
   "id": "fb30530b",
   "metadata": {},
   "outputs": [
    {
     "data": {
      "image/png": "[encoded data removed]",
      "text/plain": [
       "<Figure size 432x288 with 1 Axes>"
      ]
     },
     "metadata": {
      "needs_background": "light"
     },
     "output_type": "display_data"
    }
   ],
   "source": [
    "plt.scatter(np.log10(frequency), 20*np.log10(gain**2), label = '$f_1 = 1$ kHz, $f_2 = 10$ kHz', color = '#2171b5')\n",
    "\n",
    "plt.gca().spines['top'].set_visible(False)\n",
    "plt.gca().spines['right'].set_visible(False)\n",
    "\n",
    "plt.xlabel(\"Input Frequency in $\\log_{10}$(kHz)\")\n",
    "plt.ylabel(\"Gain Squared in dB$^2$\")\n",
    "plt.legend(loc=10)\n",
    "plt.grid()\n",
    "plt.title(\"Gain Squared vs Frequency: dB vs $\\log_{10}$\")\n",
    "plt.savefig('Gain_vs_frequency_log_dB_squared.pdf', bbox_inches='tight')"
   ]
  },
  {
   "cell_type": "markdown",
   "id": "7924ca04",
   "metadata": {},
   "source": [
    "### Exercise 2.2"
   ]
  },
  {
   "cell_type": "code",
   "execution_count": 59,
   "id": "0afa95e5",
   "metadata": {},
   "outputs": [],
   "source": [
    "ex_2 = pd.read_csv(r'/Users/vinhtran/Downloads/Exercise2_2.csv', header = None)\n",
    "\n",
    "# convert data to numpy array\n",
    "ex_2_data = ex_2.to_numpy()\n",
    "\n",
    "# extract columns into single arrays\n",
    "rms_input_2 = ex_2_data[:,0]\n",
    "rms_output_2 = ex_2_data[:,1]\n",
    "frequency_2 = ex_2_data[:,2]\n",
    "\n",
    "# calculate Gain\n",
    "gain_2 = rms_output_2/rms_input_2"
   ]
  },
  {
   "cell_type": "code",
   "execution_count": 312,
   "id": "06373726",
   "metadata": {},
   "outputs": [],
   "source": [
    "def butterworth_highpass(f,f1):\n",
    "    return (f/f1)**2/np.sqrt(1+(f/f1)**4)\n",
    "\n",
    "def butterworth_lowpass(f,f1):\n",
    "    return 1/np.sqrt(1+(f/f1)**4)"
   ]
  },
  {
   "cell_type": "code",
   "execution_count": 313,
   "id": "b043fc6b",
   "metadata": {},
   "outputs": [
    {
     "data": {
      "image/png": "[encoded data removed]",
      "text/plain": [
       "<Figure size 432x288 with 1 Axes>"
      ]
     },
     "metadata": {
      "needs_background": "light"
     },
     "output_type": "display_data"
    }
   ],
   "source": [
    "plt.scatter(frequency_2, gain_2, label = '$f_1 = 1$ kHz', color = '#2171b5')\n",
    "plt.plot(frequency_2, butterworth_lowpass(frequency_2,1),\\\n",
    "             color = 'black', linestyle='dashed', label = 'Predicted Curve')\n",
    "plt.gca().spines['top'].set_visible(False)\n",
    "plt.gca().spines['right'].set_visible(False)\n",
    "\n",
    "plt.xlabel(\"Input Frequency in kHz\")\n",
    "plt.ylabel(\"Gain\")\n",
    "plt.legend(loc = 0)\n",
    "plt.grid()\n",
    "plt.title(\"Gain vs Frequency: Single Band-Pass Output\")\n",
    "plt.savefig('Gain_vs_frequency_one_filter.pdf', bbox_inches='tight')"
   ]
  },
  {
   "cell_type": "code",
   "execution_count": 268,
   "id": "c0bbf6a3",
   "metadata": {},
   "outputs": [
    {
     "data": {
      "image/png": "[encoded data removed]",
      "text/plain": [
       "<Figure size 432x288 with 1 Axes>"
      ]
     },
     "metadata": {
      "needs_background": "light"
     },
     "output_type": "display_data"
    }
   ],
   "source": [
    "plt.scatter(np.log10(frequency_2), 20*np.log10(gain_2), label = '$f_1 = 1$ kHz', color = '#2171b5')\n",
    "\n",
    "plt.gca().spines['top'].set_visible(False)\n",
    "plt.gca().spines['right'].set_visible(False)\n",
    "\n",
    "plt.xlabel(\"Input Frequency in kHz\")\n",
    "plt.ylabel(\"Gain\")\n",
    "plt.legend(loc = 0)\n",
    "plt.grid()\n",
    "plt.title(\"Gain vs Frequency: Single Band-Pass Output\")\n",
    "plt.savefig('Gain_vs_frequency_one_filter.pdf', bbox_inches='tight')"
   ]
  },
  {
   "cell_type": "markdown",
   "id": "c8dcb9b4",
   "metadata": {},
   "source": [
    "### Exercise 2.3"
   ]
  },
  {
   "cell_type": "markdown",
   "id": "9e711935",
   "metadata": {},
   "source": [
    "#### Below, we use $f_1 = 1$ kHz and $f_2 = 10$ kHz and plot $G^2(f)$ for $f \\in [0, 100]$ kHz, the data from exercise 2.1, using a linear scale\n",
    "\n",
    "<font color='red'>\n",
    "1. To do still: repeat this measurement but take more measurements in between 0.1 and 1 kHz because that's pretty important it seems.\n",
    "    \n",
    "2. Repeat this for different combinations of f1, f2\n",
    "</font>"
   ]
  },
  {
   "cell_type": "code",
   "execution_count": 321,
   "id": "59f60028",
   "metadata": {},
   "outputs": [
    {
     "data": {
      "image/png": "[encoded data removed]",
      "text/plain": [
       "<Figure size 432x288 with 1 Axes>"
      ]
     },
     "metadata": {
      "needs_background": "light"
     },
     "output_type": "display_data"
    }
   ],
   "source": [
    "plt.scatter(frequency, gain**2, label = '$f_1 = 1$ kHz, $f_2 = 10$ kHz')\n",
    "plt.plot(X, butterworth_squared(X, 1, 10),\\\n",
    "             color = 'black', linestyle='dashed', label = 'Predicted Curve')\n",
    "\n",
    "plt.gca().spines['top'].set_visible(False)\n",
    "plt.gca().spines['right'].set_visible(False)\n",
    "\n",
    "plt.legend(loc = 0)\n",
    "\n",
    "plt.xlabel(\"Input Frequency in kHz\")\n",
    "plt.ylabel(\"Gain Squared: $G^2(f)$\")\n",
    "plt.grid()\n",
    "plt.title(\"Gain Squared vs Frequency\")\n",
    "plt.savefig('Gain_squared_vs_frequency_2.pdf', bbox_inches='tight')"
   ]
  },
  {
   "cell_type": "markdown",
   "id": "9e9aa646",
   "metadata": {},
   "source": [
    "### Calculating the Area underneath the curve of $G^2(f)$. \n",
    "1. To do this, first, we interpolate between the data points to get a function that we can integrate. \n",
    "2. Then we integrate the function by calling quad. "
   ]
  },
  {
   "cell_type": "code",
   "execution_count": 184,
   "id": "3ccab2a2",
   "metadata": {},
   "outputs": [],
   "source": [
    "func = interpolate.CubicSpline(frequency, gain**2)"
   ]
  },
  {
   "cell_type": "code",
   "execution_count": 195,
   "id": "b105f67e",
   "metadata": {},
   "outputs": [
    {
     "data": {
      "text/plain": [
       "9.990401829503535"
      ]
     },
     "execution_count": 195,
     "metadata": {},
     "output_type": "execute_result"
    }
   ],
   "source": [
    "Area_under_curve = integrate.quad(func, 0, 100)[0]\n",
    "Area_under_curve"
   ]
  },
  {
   "cell_type": "code",
   "execution_count": 81,
   "id": "41fe04c3",
   "metadata": {},
   "outputs": [
    {
     "data": {
      "text/plain": [
       "10.074796003010826"
      ]
     },
     "execution_count": 81,
     "metadata": {},
     "output_type": "execute_result"
    }
   ],
   "source": [
    "integrate.trapezoid(gain**2, frequency)"
   ]
  },
  {
   "cell_type": "markdown",
   "id": "4aed81e2",
   "metadata": {},
   "source": [
    "### Wednesday Dec 15: Early Morning 2AM Coding Session\n"
   ]
  },
  {
   "cell_type": "code",
   "execution_count": 335,
   "id": "7216a30d",
   "metadata": {},
   "outputs": [],
   "source": [
    "def diff(val_1, val_2):\n",
    "    return np.abs(val_1 - val_2)/np.mean([val_1,val_2])*100"
   ]
  },
  {
   "cell_type": "code",
   "execution_count": 343,
   "id": "6e75880e",
   "metadata": {},
   "outputs": [
    {
     "data": {
      "text/plain": [
       "51.93420306296086"
      ]
     },
     "execution_count": 343,
     "metadata": {},
     "output_type": "execute_result"
    }
   ],
   "source": [
    "diff(5.552,3.263)"
   ]
  },
  {
   "cell_type": "code",
   "execution_count": 341,
   "id": "a0ae6c41",
   "metadata": {},
   "outputs": [
    {
     "data": {
      "text/plain": [
       "66.66666666666666"
      ]
     },
     "execution_count": 341,
     "metadata": {},
     "output_type": "execute_result"
    }
   ],
   "source": [
    "diff(1,2)"
   ]
  },
  {
   "cell_type": "code",
   "execution_count": 348,
   "id": "1a84badd",
   "metadata": {},
   "outputs": [
    {
     "data": {
      "text/plain": [
       "array([ 1.00519196, 10.07167026])"
      ]
     },
     "execution_count": 348,
     "metadata": {},
     "output_type": "execute_result"
    }
   ],
   "source": [
    "#optimize.curve_fit(butterworth, frequency, gain)\n",
    "popt, etc = optimize.curve_fit(butterworth, frequency, gain)\n",
    "popt"
   ]
  },
  {
   "cell_type": "code",
   "execution_count": 358,
   "id": "7c1e8cb5",
   "metadata": {},
   "outputs": [
    {
     "data": {
      "image/svg+xml": [
       "<?xml version=\"1.0\" encoding=\"utf-8\" standalone=\"no\"?>\n",
       "<!DOCTYPE svg PUBLIC \"-//W3C//DTD SVG 1.1//EN\"\n",
       "  \"http://www.w3.org/Graphics/SVG/1.1/DTD/svg11.dtd\">\n",
       "<!-- Created with matplotlib (https://matplotlib.org/) -->\n",
       "<svg height=\"277.314375pt\" version=\"1.1\" viewBox=\"0 0 385.78125 277.314375\" width=\"385.78125pt\" xmlns=\"http://www.w3.org/2000/svg\" xmlns:xlink=\"http://www.w3.org/1999/xlink\">\n",
       " <metadata>\n",
       "  <rdf:RDF xmlns:cc=\"http://creativecommons.org/ns#\" xmlns:dc=\"http://purl.org/dc/elements/1.1/\" xmlns:rdf=\"http://www.w3.org/1999/02/22-rdf-syntax-ns#\">\n",
       "   <cc:Work>\n",
       "    <dc:type rdf:resource=\"http://purl.org/dc/dcmitype/StillImage\"/>\n",
       "    <dc:date>2021-12-15T08:37:22.204286</dc:date>\n",
       "    <dc:format>image/svg+xml</dc:format>\n",
       "    <dc:creator>\n",
       "     <cc:Agent>\n",
       "      <dc:title>Matplotlib v3.3.4, https://matplotlib.org/</dc:title>\n",
       "     </cc:Agent>\n",
       "    </dc:creator>\n",
       "   </cc:Work>\n",
       "  </rdf:RDF>\n",
       " </metadata>\n",
       " <defs>\n",
       "  <style type=\"text/css\">*{stroke-linecap:butt;stroke-linejoin:round;}</style>\n",
       " </defs>\n",
       " <g id=\"figure_1\">\n",
       "  <g id=\"patch_1\">\n",
       "   <path d=\"M 0 277.314375 \n",
       "L 385.78125 277.314375 \n",
       "L 385.78125 0 \n",
       "L 0 0 \n",
       "z\n",
       "\" style=\"fill:none;\"/>\n",
       "  </g>\n",
       "  <g id=\"axes_1\">\n",
       "   <g id=\"patch_2\">\n",
       "    <path d=\"M 43.78125 239.758125 \n",
       "L 378.58125 239.758125 \n",
       "L 378.58125 22.318125 \n",
       "L 43.78125 22.318125 \n",
       "z\n",
       "\" style=\"fill:#ffffff;\"/>\n",
       "   </g>\n",
       "   <g id=\"PathCollection_1\">\n",
       "    <defs>\n",
       "     <path d=\"M 0 3 \n",
       "C 0.795609 3 1.55874 2.683901 2.12132 2.12132 \n",
       "C 2.683901 1.55874 3 0.795609 3 0 \n",
       "C 3 -0.795609 2.683901 -1.55874 2.12132 -2.12132 \n",
       "C 1.55874 -2.683901 0.795609 -3 0 -3 \n",
       "C -0.795609 -3 -1.55874 -2.683901 -2.12132 -2.12132 \n",
       "C -2.683901 -1.55874 -3 -0.795609 -3 0 \n",
       "C -3 0.795609 -2.683901 1.55874 -2.12132 2.12132 \n",
       "C -1.55874 2.683901 -0.795609 3 0 3 \n",
       "z\n",
       "\" id=\"mc281ccc627\" style=\"stroke:#2171b5;\"/>\n",
       "    </defs>\n",
       "    <g clip-path=\"url(#pf969028c91)\">\n",
       "     <use style=\"fill:#2171b5;stroke:#2171b5;\" x=\"59.303795\" xlink:href=\"#mc281ccc627\" y=\"226.661793\"/>\n",
       "     <use style=\"fill:#2171b5;stroke:#2171b5;\" x=\"59.455977\" xlink:href=\"#mc281ccc627\" y=\"225.038298\"/>\n",
       "     <use style=\"fill:#2171b5;stroke:#2171b5;\" x=\"59.608159\" xlink:href=\"#mc281ccc627\" y=\"221.475777\"/>\n",
       "     <use style=\"fill:#2171b5;stroke:#2171b5;\" x=\"59.760341\" xlink:href=\"#mc281ccc627\" y=\"217.291232\"/>\n",
       "     <use style=\"fill:#2171b5;stroke:#2171b5;\" x=\"59.912523\" xlink:href=\"#mc281ccc627\" y=\"212.13773\"/>\n",
       "     <use style=\"fill:#2171b5;stroke:#2171b5;\" x=\"60.064705\" xlink:href=\"#mc281ccc627\" y=\"205.612541\"/>\n",
       "     <use style=\"fill:#2171b5;stroke:#2171b5;\" x=\"60.216886\" xlink:href=\"#mc281ccc627\" y=\"198.504467\"/>\n",
       "     <use style=\"fill:#2171b5;stroke:#2171b5;\" x=\"60.369068\" xlink:href=\"#mc281ccc627\" y=\"189.938894\"/>\n",
       "     <use style=\"fill:#2171b5;stroke:#2171b5;\" x=\"60.52125\" xlink:href=\"#mc281ccc627\" y=\"181.045673\"/>\n",
       "     <use style=\"fill:#2171b5;stroke:#2171b5;\" x=\"60.673432\" xlink:href=\"#mc281ccc627\" y=\"173.443756\"/>\n",
       "     <use style=\"fill:#2171b5;stroke:#2171b5;\" x=\"60.825614\" xlink:href=\"#mc281ccc627\" y=\"162.573555\"/>\n",
       "     <use style=\"fill:#2171b5;stroke:#2171b5;\" x=\"60.977795\" xlink:href=\"#mc281ccc627\" y=\"151.368618\"/>\n",
       "     <use style=\"fill:#2171b5;stroke:#2171b5;\" x=\"61.129977\" xlink:href=\"#mc281ccc627\" y=\"143.106343\"/>\n",
       "     <use style=\"fill:#2171b5;stroke:#2171b5;\" x=\"61.282159\" xlink:href=\"#mc281ccc627\" y=\"135.491183\"/>\n",
       "     <use style=\"fill:#2171b5;stroke:#2171b5;\" x=\"61.434341\" xlink:href=\"#mc281ccc627\" y=\"123.082925\"/>\n",
       "     <use style=\"fill:#2171b5;stroke:#2171b5;\" x=\"61.738705\" xlink:href=\"#mc281ccc627\" y=\"105.284331\"/>\n",
       "     <use style=\"fill:#2171b5;stroke:#2171b5;\" x=\"62.043068\" xlink:href=\"#mc281ccc627\" y=\"89.876802\"/>\n",
       "     <use style=\"fill:#2171b5;stroke:#2171b5;\" x=\"62.347432\" xlink:href=\"#mc281ccc627\" y=\"78.030234\"/>\n",
       "     <use style=\"fill:#2171b5;stroke:#2171b5;\" x=\"62.651795\" xlink:href=\"#mc281ccc627\" y=\"68.018525\"/>\n",
       "     <use style=\"fill:#2171b5;stroke:#2171b5;\" x=\"62.956159\" xlink:href=\"#mc281ccc627\" y=\"60.23164\"/>\n",
       "     <use style=\"fill:#2171b5;stroke:#2171b5;\" x=\"63.260523\" xlink:href=\"#mc281ccc627\" y=\"54.113374\"/>\n",
       "     <use style=\"fill:#2171b5;stroke:#2171b5;\" x=\"63.564886\" xlink:href=\"#mc281ccc627\" y=\"32.993123\"/>\n",
       "     <use style=\"fill:#2171b5;stroke:#2171b5;\" x=\"65.086705\" xlink:href=\"#mc281ccc627\" y=\"36.908378\"/>\n",
       "     <use style=\"fill:#2171b5;stroke:#2171b5;\" x=\"74.217614\" xlink:href=\"#mc281ccc627\" y=\"36.366338\"/>\n",
       "     <use style=\"fill:#2171b5;stroke:#2171b5;\" x=\"89.435795\" xlink:href=\"#mc281ccc627\" y=\"87.968512\"/>\n",
       "     <use style=\"fill:#2171b5;stroke:#2171b5;\" x=\"104.653977\" xlink:href=\"#mc281ccc627\" y=\"147.753406\"/>\n",
       "     <use style=\"fill:#2171b5;stroke:#2171b5;\" x=\"119.872159\" xlink:href=\"#mc281ccc627\" y=\"180.489344\"/>\n",
       "     <use style=\"fill:#2171b5;stroke:#2171b5;\" x=\"135.090341\" xlink:href=\"#mc281ccc627\" y=\"198.207249\"/>\n",
       "     <use style=\"fill:#2171b5;stroke:#2171b5;\" x=\"150.308523\" xlink:href=\"#mc281ccc627\" y=\"207.248089\"/>\n",
       "     <use style=\"fill:#2171b5;stroke:#2171b5;\" x=\"165.526705\" xlink:href=\"#mc281ccc627\" y=\"213.310293\"/>\n",
       "     <use style=\"fill:#2171b5;stroke:#2171b5;\" x=\"180.744886\" xlink:href=\"#mc281ccc627\" y=\"217.188395\"/>\n",
       "     <use style=\"fill:#2171b5;stroke:#2171b5;\" x=\"195.963068\" xlink:href=\"#mc281ccc627\" y=\"219.747554\"/>\n",
       "     <use style=\"fill:#2171b5;stroke:#2171b5;\" x=\"211.18125\" xlink:href=\"#mc281ccc627\" y=\"221.692841\"/>\n",
       "     <use style=\"fill:#2171b5;stroke:#2171b5;\" x=\"226.399432\" xlink:href=\"#mc281ccc627\" y=\"223.161177\"/>\n",
       "     <use style=\"fill:#2171b5;stroke:#2171b5;\" x=\"241.617614\" xlink:href=\"#mc281ccc627\" y=\"224.189133\"/>\n",
       "     <use style=\"fill:#2171b5;stroke:#2171b5;\" x=\"256.835795\" xlink:href=\"#mc281ccc627\" y=\"224.975413\"/>\n",
       "     <use style=\"fill:#2171b5;stroke:#2171b5;\" x=\"272.053977\" xlink:href=\"#mc281ccc627\" y=\"225.648745\"/>\n",
       "     <use style=\"fill:#2171b5;stroke:#2171b5;\" x=\"287.272159\" xlink:href=\"#mc281ccc627\" y=\"226.091733\"/>\n",
       "     <use style=\"fill:#2171b5;stroke:#2171b5;\" x=\"302.490341\" xlink:href=\"#mc281ccc627\" y=\"226.573929\"/>\n",
       "     <use style=\"fill:#2171b5;stroke:#2171b5;\" x=\"317.708523\" xlink:href=\"#mc281ccc627\" y=\"226.903377\"/>\n",
       "     <use style=\"fill:#2171b5;stroke:#2171b5;\" x=\"332.926705\" xlink:href=\"#mc281ccc627\" y=\"227.214108\"/>\n",
       "     <use style=\"fill:#2171b5;stroke:#2171b5;\" x=\"348.144886\" xlink:href=\"#mc281ccc627\" y=\"227.501071\"/>\n",
       "     <use style=\"fill:#2171b5;stroke:#2171b5;\" x=\"363.363068\" xlink:href=\"#mc281ccc627\" y=\"227.690133\"/>\n",
       "    </g>\n",
       "   </g>\n",
       "   <g id=\"matplotlib.axis_1\">\n",
       "    <g id=\"xtick_1\">\n",
       "     <g id=\"line2d_1\">\n",
       "      <path clip-path=\"url(#pf969028c91)\" d=\"M 58.999432 239.758125 \n",
       "L 58.999432 22.318125 \n",
       "\" style=\"fill:none;stroke:#b0b0b0;stroke-linecap:square;stroke-width:0.8;\"/>\n",
       "     </g>\n",
       "     <g id=\"line2d_2\">\n",
       "      <defs>\n",
       "       <path d=\"M 0 0 \n",
       "L 0 3.5 \n",
       "\" id=\"me5ee48653b\" style=\"stroke:#000000;stroke-width:0.8;\"/>\n",
       "      </defs>\n",
       "      <g>\n",
       "       <use style=\"stroke:#000000;stroke-width:0.8;\" x=\"58.999432\" xlink:href=\"#me5ee48653b\" y=\"239.758125\"/>\n",
       "      </g>\n",
       "     </g>\n",
       "     <g id=\"text_1\">\n",
       "      <!-- 0 -->\n",
       "      <g transform=\"translate(55.818182 254.356562)scale(0.1 -0.1)\">\n",
       "       <defs>\n",
       "        <path d=\"M 31.78125 66.40625 \n",
       "Q 24.171875 66.40625 20.328125 58.90625 \n",
       "Q 16.5 51.421875 16.5 36.375 \n",
       "Q 16.5 21.390625 20.328125 13.890625 \n",
       "Q 24.171875 6.390625 31.78125 6.390625 \n",
       "Q 39.453125 6.390625 43.28125 13.890625 \n",
       "Q 47.125 21.390625 47.125 36.375 \n",
       "Q 47.125 51.421875 43.28125 58.90625 \n",
       "Q 39.453125 66.40625 31.78125 66.40625 \n",
       "z\n",
       "M 31.78125 74.21875 \n",
       "Q 44.046875 74.21875 50.515625 64.515625 \n",
       "Q 56.984375 54.828125 56.984375 36.375 \n",
       "Q 56.984375 17.96875 50.515625 8.265625 \n",
       "Q 44.046875 -1.421875 31.78125 -1.421875 \n",
       "Q 19.53125 -1.421875 13.0625 8.265625 \n",
       "Q 6.59375 17.96875 6.59375 36.375 \n",
       "Q 6.59375 54.828125 13.0625 64.515625 \n",
       "Q 19.53125 74.21875 31.78125 74.21875 \n",
       "z\n",
       "\" id=\"DejaVuSans-48\"/>\n",
       "       </defs>\n",
       "       <use xlink:href=\"#DejaVuSans-48\"/>\n",
       "      </g>\n",
       "     </g>\n",
       "    </g>\n",
       "    <g id=\"xtick_2\">\n",
       "     <g id=\"line2d_3\">\n",
       "      <path clip-path=\"url(#pf969028c91)\" d=\"M 119.872159 239.758125 \n",
       "L 119.872159 22.318125 \n",
       "\" style=\"fill:none;stroke:#b0b0b0;stroke-linecap:square;stroke-width:0.8;\"/>\n",
       "     </g>\n",
       "     <g id=\"line2d_4\">\n",
       "      <g>\n",
       "       <use style=\"stroke:#000000;stroke-width:0.8;\" x=\"119.872159\" xlink:href=\"#me5ee48653b\" y=\"239.758125\"/>\n",
       "      </g>\n",
       "     </g>\n",
       "     <g id=\"text_2\">\n",
       "      <!-- 20 -->\n",
       "      <g transform=\"translate(113.509659 254.356562)scale(0.1 -0.1)\">\n",
       "       <defs>\n",
       "        <path d=\"M 19.1875 8.296875 \n",
       "L 53.609375 8.296875 \n",
       "L 53.609375 0 \n",
       "L 7.328125 0 \n",
       "L 7.328125 8.296875 \n",
       "Q 12.9375 14.109375 22.625 23.890625 \n",
       "Q 32.328125 33.6875 34.8125 36.53125 \n",
       "Q 39.546875 41.84375 41.421875 45.53125 \n",
       "Q 43.3125 49.21875 43.3125 52.78125 \n",
       "Q 43.3125 58.59375 39.234375 62.25 \n",
       "Q 35.15625 65.921875 28.609375 65.921875 \n",
       "Q 23.96875 65.921875 18.8125 64.3125 \n",
       "Q 13.671875 62.703125 7.8125 59.421875 \n",
       "L 7.8125 69.390625 \n",
       "Q 13.765625 71.78125 18.9375 73 \n",
       "Q 24.125 74.21875 28.421875 74.21875 \n",
       "Q 39.75 74.21875 46.484375 68.546875 \n",
       "Q 53.21875 62.890625 53.21875 53.421875 \n",
       "Q 53.21875 48.921875 51.53125 44.890625 \n",
       "Q 49.859375 40.875 45.40625 35.40625 \n",
       "Q 44.1875 33.984375 37.640625 27.21875 \n",
       "Q 31.109375 20.453125 19.1875 8.296875 \n",
       "z\n",
       "\" id=\"DejaVuSans-50\"/>\n",
       "       </defs>\n",
       "       <use xlink:href=\"#DejaVuSans-50\"/>\n",
       "       <use x=\"63.623047\" xlink:href=\"#DejaVuSans-48\"/>\n",
       "      </g>\n",
       "     </g>\n",
       "    </g>\n",
       "    <g id=\"xtick_3\">\n",
       "     <g id=\"line2d_5\">\n",
       "      <path clip-path=\"url(#pf969028c91)\" d=\"M 180.744886 239.758125 \n",
       "L 180.744886 22.318125 \n",
       "\" style=\"fill:none;stroke:#b0b0b0;stroke-linecap:square;stroke-width:0.8;\"/>\n",
       "     </g>\n",
       "     <g id=\"line2d_6\">\n",
       "      <g>\n",
       "       <use style=\"stroke:#000000;stroke-width:0.8;\" x=\"180.744886\" xlink:href=\"#me5ee48653b\" y=\"239.758125\"/>\n",
       "      </g>\n",
       "     </g>\n",
       "     <g id=\"text_3\">\n",
       "      <!-- 40 -->\n",
       "      <g transform=\"translate(174.382386 254.356562)scale(0.1 -0.1)\">\n",
       "       <defs>\n",
       "        <path d=\"M 37.796875 64.3125 \n",
       "L 12.890625 25.390625 \n",
       "L 37.796875 25.390625 \n",
       "z\n",
       "M 35.203125 72.90625 \n",
       "L 47.609375 72.90625 \n",
       "L 47.609375 25.390625 \n",
       "L 58.015625 25.390625 \n",
       "L 58.015625 17.1875 \n",
       "L 47.609375 17.1875 \n",
       "L 47.609375 0 \n",
       "L 37.796875 0 \n",
       "L 37.796875 17.1875 \n",
       "L 4.890625 17.1875 \n",
       "L 4.890625 26.703125 \n",
       "z\n",
       "\" id=\"DejaVuSans-52\"/>\n",
       "       </defs>\n",
       "       <use xlink:href=\"#DejaVuSans-52\"/>\n",
       "       <use x=\"63.623047\" xlink:href=\"#DejaVuSans-48\"/>\n",
       "      </g>\n",
       "     </g>\n",
       "    </g>\n",
       "    <g id=\"xtick_4\">\n",
       "     <g id=\"line2d_7\">\n",
       "      <path clip-path=\"url(#pf969028c91)\" d=\"M 241.617614 239.758125 \n",
       "L 241.617614 22.318125 \n",
       "\" style=\"fill:none;stroke:#b0b0b0;stroke-linecap:square;stroke-width:0.8;\"/>\n",
       "     </g>\n",
       "     <g id=\"line2d_8\">\n",
       "      <g>\n",
       "       <use style=\"stroke:#000000;stroke-width:0.8;\" x=\"241.617614\" xlink:href=\"#me5ee48653b\" y=\"239.758125\"/>\n",
       "      </g>\n",
       "     </g>\n",
       "     <g id=\"text_4\">\n",
       "      <!-- 60 -->\n",
       "      <g transform=\"translate(235.255114 254.356562)scale(0.1 -0.1)\">\n",
       "       <defs>\n",
       "        <path d=\"M 33.015625 40.375 \n",
       "Q 26.375 40.375 22.484375 35.828125 \n",
       "Q 18.609375 31.296875 18.609375 23.390625 \n",
       "Q 18.609375 15.53125 22.484375 10.953125 \n",
       "Q 26.375 6.390625 33.015625 6.390625 \n",
       "Q 39.65625 6.390625 43.53125 10.953125 \n",
       "Q 47.40625 15.53125 47.40625 23.390625 \n",
       "Q 47.40625 31.296875 43.53125 35.828125 \n",
       "Q 39.65625 40.375 33.015625 40.375 \n",
       "z\n",
       "M 52.59375 71.296875 \n",
       "L 52.59375 62.3125 \n",
       "Q 48.875 64.0625 45.09375 64.984375 \n",
       "Q 41.3125 65.921875 37.59375 65.921875 \n",
       "Q 27.828125 65.921875 22.671875 59.328125 \n",
       "Q 17.53125 52.734375 16.796875 39.40625 \n",
       "Q 19.671875 43.65625 24.015625 45.921875 \n",
       "Q 28.375 48.1875 33.59375 48.1875 \n",
       "Q 44.578125 48.1875 50.953125 41.515625 \n",
       "Q 57.328125 34.859375 57.328125 23.390625 \n",
       "Q 57.328125 12.15625 50.6875 5.359375 \n",
       "Q 44.046875 -1.421875 33.015625 -1.421875 \n",
       "Q 20.359375 -1.421875 13.671875 8.265625 \n",
       "Q 6.984375 17.96875 6.984375 36.375 \n",
       "Q 6.984375 53.65625 15.1875 63.9375 \n",
       "Q 23.390625 74.21875 37.203125 74.21875 \n",
       "Q 40.921875 74.21875 44.703125 73.484375 \n",
       "Q 48.484375 72.75 52.59375 71.296875 \n",
       "z\n",
       "\" id=\"DejaVuSans-54\"/>\n",
       "       </defs>\n",
       "       <use xlink:href=\"#DejaVuSans-54\"/>\n",
       "       <use x=\"63.623047\" xlink:href=\"#DejaVuSans-48\"/>\n",
       "      </g>\n",
       "     </g>\n",
       "    </g>\n",
       "    <g id=\"xtick_5\">\n",
       "     <g id=\"line2d_9\">\n",
       "      <path clip-path=\"url(#pf969028c91)\" d=\"M 302.490341 239.758125 \n",
       "L 302.490341 22.318125 \n",
       "\" style=\"fill:none;stroke:#b0b0b0;stroke-linecap:square;stroke-width:0.8;\"/>\n",
       "     </g>\n",
       "     <g id=\"line2d_10\">\n",
       "      <g>\n",
       "       <use style=\"stroke:#000000;stroke-width:0.8;\" x=\"302.490341\" xlink:href=\"#me5ee48653b\" y=\"239.758125\"/>\n",
       "      </g>\n",
       "     </g>\n",
       "     <g id=\"text_5\">\n",
       "      <!-- 80 -->\n",
       "      <g transform=\"translate(296.127841 254.356562)scale(0.1 -0.1)\">\n",
       "       <defs>\n",
       "        <path d=\"M 31.78125 34.625 \n",
       "Q 24.75 34.625 20.71875 30.859375 \n",
       "Q 16.703125 27.09375 16.703125 20.515625 \n",
       "Q 16.703125 13.921875 20.71875 10.15625 \n",
       "Q 24.75 6.390625 31.78125 6.390625 \n",
       "Q 38.8125 6.390625 42.859375 10.171875 \n",
       "Q 46.921875 13.96875 46.921875 20.515625 \n",
       "Q 46.921875 27.09375 42.890625 30.859375 \n",
       "Q 38.875 34.625 31.78125 34.625 \n",
       "z\n",
       "M 21.921875 38.8125 \n",
       "Q 15.578125 40.375 12.03125 44.71875 \n",
       "Q 8.5 49.078125 8.5 55.328125 \n",
       "Q 8.5 64.0625 14.71875 69.140625 \n",
       "Q 20.953125 74.21875 31.78125 74.21875 \n",
       "Q 42.671875 74.21875 48.875 69.140625 \n",
       "Q 55.078125 64.0625 55.078125 55.328125 \n",
       "Q 55.078125 49.078125 51.53125 44.71875 \n",
       "Q 48 40.375 41.703125 38.8125 \n",
       "Q 48.828125 37.15625 52.796875 32.3125 \n",
       "Q 56.78125 27.484375 56.78125 20.515625 \n",
       "Q 56.78125 9.90625 50.3125 4.234375 \n",
       "Q 43.84375 -1.421875 31.78125 -1.421875 \n",
       "Q 19.734375 -1.421875 13.25 4.234375 \n",
       "Q 6.78125 9.90625 6.78125 20.515625 \n",
       "Q 6.78125 27.484375 10.78125 32.3125 \n",
       "Q 14.796875 37.15625 21.921875 38.8125 \n",
       "z\n",
       "M 18.3125 54.390625 \n",
       "Q 18.3125 48.734375 21.84375 45.5625 \n",
       "Q 25.390625 42.390625 31.78125 42.390625 \n",
       "Q 38.140625 42.390625 41.71875 45.5625 \n",
       "Q 45.3125 48.734375 45.3125 54.390625 \n",
       "Q 45.3125 60.0625 41.71875 63.234375 \n",
       "Q 38.140625 66.40625 31.78125 66.40625 \n",
       "Q 25.390625 66.40625 21.84375 63.234375 \n",
       "Q 18.3125 60.0625 18.3125 54.390625 \n",
       "z\n",
       "\" id=\"DejaVuSans-56\"/>\n",
       "       </defs>\n",
       "       <use xlink:href=\"#DejaVuSans-56\"/>\n",
       "       <use x=\"63.623047\" xlink:href=\"#DejaVuSans-48\"/>\n",
       "      </g>\n",
       "     </g>\n",
       "    </g>\n",
       "    <g id=\"xtick_6\">\n",
       "     <g id=\"line2d_11\">\n",
       "      <path clip-path=\"url(#pf969028c91)\" d=\"M 363.363068 239.758125 \n",
       "L 363.363068 22.318125 \n",
       "\" style=\"fill:none;stroke:#b0b0b0;stroke-linecap:square;stroke-width:0.8;\"/>\n",
       "     </g>\n",
       "     <g id=\"line2d_12\">\n",
       "      <g>\n",
       "       <use style=\"stroke:#000000;stroke-width:0.8;\" x=\"363.363068\" xlink:href=\"#me5ee48653b\" y=\"239.758125\"/>\n",
       "      </g>\n",
       "     </g>\n",
       "     <g id=\"text_6\">\n",
       "      <!-- 100 -->\n",
       "      <g transform=\"translate(353.819318 254.356562)scale(0.1 -0.1)\">\n",
       "       <defs>\n",
       "        <path d=\"M 12.40625 8.296875 \n",
       "L 28.515625 8.296875 \n",
       "L 28.515625 63.921875 \n",
       "L 10.984375 60.40625 \n",
       "L 10.984375 69.390625 \n",
       "L 28.421875 72.90625 \n",
       "L 38.28125 72.90625 \n",
       "L 38.28125 8.296875 \n",
       "L 54.390625 8.296875 \n",
       "L 54.390625 0 \n",
       "L 12.40625 0 \n",
       "z\n",
       "\" id=\"DejaVuSans-49\"/>\n",
       "       </defs>\n",
       "       <use xlink:href=\"#DejaVuSans-49\"/>\n",
       "       <use x=\"63.623047\" xlink:href=\"#DejaVuSans-48\"/>\n",
       "       <use x=\"127.246094\" xlink:href=\"#DejaVuSans-48\"/>\n",
       "      </g>\n",
       "     </g>\n",
       "    </g>\n",
       "    <g id=\"text_7\">\n",
       "     <!-- Input Frequency in kHz -->\n",
       "     <g transform=\"translate(153.8 268.034687)scale(0.1 -0.1)\">\n",
       "      <defs>\n",
       "       <path d=\"M 9.8125 72.90625 \n",
       "L 19.671875 72.90625 \n",
       "L 19.671875 0 \n",
       "L 9.8125 0 \n",
       "z\n",
       "\" id=\"DejaVuSans-73\"/>\n",
       "       <path d=\"M 54.890625 33.015625 \n",
       "L 54.890625 0 \n",
       "L 45.90625 0 \n",
       "L 45.90625 32.71875 \n",
       "Q 45.90625 40.484375 42.875 44.328125 \n",
       "Q 39.84375 48.1875 33.796875 48.1875 \n",
       "Q 26.515625 48.1875 22.3125 43.546875 \n",
       "Q 18.109375 38.921875 18.109375 30.90625 \n",
       "L 18.109375 0 \n",
       "L 9.078125 0 \n",
       "L 9.078125 54.6875 \n",
       "L 18.109375 54.6875 \n",
       "L 18.109375 46.1875 \n",
       "Q 21.34375 51.125 25.703125 53.5625 \n",
       "Q 30.078125 56 35.796875 56 \n",
       "Q 45.21875 56 50.046875 50.171875 \n",
       "Q 54.890625 44.34375 54.890625 33.015625 \n",
       "z\n",
       "\" id=\"DejaVuSans-110\"/>\n",
       "       <path d=\"M 18.109375 8.203125 \n",
       "L 18.109375 -20.796875 \n",
       "L 9.078125 -20.796875 \n",
       "L 9.078125 54.6875 \n",
       "L 18.109375 54.6875 \n",
       "L 18.109375 46.390625 \n",
       "Q 20.953125 51.265625 25.265625 53.625 \n",
       "Q 29.59375 56 35.59375 56 \n",
       "Q 45.5625 56 51.78125 48.09375 \n",
       "Q 58.015625 40.1875 58.015625 27.296875 \n",
       "Q 58.015625 14.40625 51.78125 6.484375 \n",
       "Q 45.5625 -1.421875 35.59375 -1.421875 \n",
       "Q 29.59375 -1.421875 25.265625 0.953125 \n",
       "Q 20.953125 3.328125 18.109375 8.203125 \n",
       "z\n",
       "M 48.6875 27.296875 \n",
       "Q 48.6875 37.203125 44.609375 42.84375 \n",
       "Q 40.53125 48.484375 33.40625 48.484375 \n",
       "Q 26.265625 48.484375 22.1875 42.84375 \n",
       "Q 18.109375 37.203125 18.109375 27.296875 \n",
       "Q 18.109375 17.390625 22.1875 11.75 \n",
       "Q 26.265625 6.109375 33.40625 6.109375 \n",
       "Q 40.53125 6.109375 44.609375 11.75 \n",
       "Q 48.6875 17.390625 48.6875 27.296875 \n",
       "z\n",
       "\" id=\"DejaVuSans-112\"/>\n",
       "       <path d=\"M 8.5 21.578125 \n",
       "L 8.5 54.6875 \n",
       "L 17.484375 54.6875 \n",
       "L 17.484375 21.921875 \n",
       "Q 17.484375 14.15625 20.5 10.265625 \n",
       "Q 23.53125 6.390625 29.59375 6.390625 \n",
       "Q 36.859375 6.390625 41.078125 11.03125 \n",
       "Q 45.3125 15.671875 45.3125 23.6875 \n",
       "L 45.3125 54.6875 \n",
       "L 54.296875 54.6875 \n",
       "L 54.296875 0 \n",
       "L 45.3125 0 \n",
       "L 45.3125 8.40625 \n",
       "Q 42.046875 3.421875 37.71875 1 \n",
       "Q 33.40625 -1.421875 27.6875 -1.421875 \n",
       "Q 18.265625 -1.421875 13.375 4.4375 \n",
       "Q 8.5 10.296875 8.5 21.578125 \n",
       "z\n",
       "M 31.109375 56 \n",
       "z\n",
       "\" id=\"DejaVuSans-117\"/>\n",
       "       <path d=\"M 18.3125 70.21875 \n",
       "L 18.3125 54.6875 \n",
       "L 36.8125 54.6875 \n",
       "L 36.8125 47.703125 \n",
       "L 18.3125 47.703125 \n",
       "L 18.3125 18.015625 \n",
       "Q 18.3125 11.328125 20.140625 9.421875 \n",
       "Q 21.96875 7.515625 27.59375 7.515625 \n",
       "L 36.8125 7.515625 \n",
       "L 36.8125 0 \n",
       "L 27.59375 0 \n",
       "Q 17.1875 0 13.234375 3.875 \n",
       "Q 9.28125 7.765625 9.28125 18.015625 \n",
       "L 9.28125 47.703125 \n",
       "L 2.6875 47.703125 \n",
       "L 2.6875 54.6875 \n",
       "L 9.28125 54.6875 \n",
       "L 9.28125 70.21875 \n",
       "z\n",
       "\" id=\"DejaVuSans-116\"/>\n",
       "       <path id=\"DejaVuSans-32\"/>\n",
       "       <path d=\"M 9.8125 72.90625 \n",
       "L 51.703125 72.90625 \n",
       "L 51.703125 64.59375 \n",
       "L 19.671875 64.59375 \n",
       "L 19.671875 43.109375 \n",
       "L 48.578125 43.109375 \n",
       "L 48.578125 34.8125 \n",
       "L 19.671875 34.8125 \n",
       "L 19.671875 0 \n",
       "L 9.8125 0 \n",
       "z\n",
       "\" id=\"DejaVuSans-70\"/>\n",
       "       <path d=\"M 41.109375 46.296875 \n",
       "Q 39.59375 47.171875 37.8125 47.578125 \n",
       "Q 36.03125 48 33.890625 48 \n",
       "Q 26.265625 48 22.1875 43.046875 \n",
       "Q 18.109375 38.09375 18.109375 28.8125 \n",
       "L 18.109375 0 \n",
       "L 9.078125 0 \n",
       "L 9.078125 54.6875 \n",
       "L 18.109375 54.6875 \n",
       "L 18.109375 46.1875 \n",
       "Q 20.953125 51.171875 25.484375 53.578125 \n",
       "Q 30.03125 56 36.53125 56 \n",
       "Q 37.453125 56 38.578125 55.875 \n",
       "Q 39.703125 55.765625 41.0625 55.515625 \n",
       "z\n",
       "\" id=\"DejaVuSans-114\"/>\n",
       "       <path d=\"M 56.203125 29.59375 \n",
       "L 56.203125 25.203125 \n",
       "L 14.890625 25.203125 \n",
       "Q 15.484375 15.921875 20.484375 11.0625 \n",
       "Q 25.484375 6.203125 34.421875 6.203125 \n",
       "Q 39.59375 6.203125 44.453125 7.46875 \n",
       "Q 49.3125 8.734375 54.109375 11.28125 \n",
       "L 54.109375 2.78125 \n",
       "Q 49.265625 0.734375 44.1875 -0.34375 \n",
       "Q 39.109375 -1.421875 33.890625 -1.421875 \n",
       "Q 20.796875 -1.421875 13.15625 6.1875 \n",
       "Q 5.515625 13.8125 5.515625 26.8125 \n",
       "Q 5.515625 40.234375 12.765625 48.109375 \n",
       "Q 20.015625 56 32.328125 56 \n",
       "Q 43.359375 56 49.78125 48.890625 \n",
       "Q 56.203125 41.796875 56.203125 29.59375 \n",
       "z\n",
       "M 47.21875 32.234375 \n",
       "Q 47.125 39.59375 43.09375 43.984375 \n",
       "Q 39.0625 48.390625 32.421875 48.390625 \n",
       "Q 24.90625 48.390625 20.390625 44.140625 \n",
       "Q 15.875 39.890625 15.1875 32.171875 \n",
       "z\n",
       "\" id=\"DejaVuSans-101\"/>\n",
       "       <path d=\"M 14.796875 27.296875 \n",
       "Q 14.796875 17.390625 18.875 11.75 \n",
       "Q 22.953125 6.109375 30.078125 6.109375 \n",
       "Q 37.203125 6.109375 41.296875 11.75 \n",
       "Q 45.40625 17.390625 45.40625 27.296875 \n",
       "Q 45.40625 37.203125 41.296875 42.84375 \n",
       "Q 37.203125 48.484375 30.078125 48.484375 \n",
       "Q 22.953125 48.484375 18.875 42.84375 \n",
       "Q 14.796875 37.203125 14.796875 27.296875 \n",
       "z\n",
       "M 45.40625 8.203125 \n",
       "Q 42.578125 3.328125 38.25 0.953125 \n",
       "Q 33.9375 -1.421875 27.875 -1.421875 \n",
       "Q 17.96875 -1.421875 11.734375 6.484375 \n",
       "Q 5.515625 14.40625 5.515625 27.296875 \n",
       "Q 5.515625 40.1875 11.734375 48.09375 \n",
       "Q 17.96875 56 27.875 56 \n",
       "Q 33.9375 56 38.25 53.625 \n",
       "Q 42.578125 51.265625 45.40625 46.390625 \n",
       "L 45.40625 54.6875 \n",
       "L 54.390625 54.6875 \n",
       "L 54.390625 -20.796875 \n",
       "L 45.40625 -20.796875 \n",
       "z\n",
       "\" id=\"DejaVuSans-113\"/>\n",
       "       <path d=\"M 48.78125 52.59375 \n",
       "L 48.78125 44.1875 \n",
       "Q 44.96875 46.296875 41.140625 47.34375 \n",
       "Q 37.3125 48.390625 33.40625 48.390625 \n",
       "Q 24.65625 48.390625 19.8125 42.84375 \n",
       "Q 14.984375 37.3125 14.984375 27.296875 \n",
       "Q 14.984375 17.28125 19.8125 11.734375 \n",
       "Q 24.65625 6.203125 33.40625 6.203125 \n",
       "Q 37.3125 6.203125 41.140625 7.25 \n",
       "Q 44.96875 8.296875 48.78125 10.40625 \n",
       "L 48.78125 2.09375 \n",
       "Q 45.015625 0.34375 40.984375 -0.53125 \n",
       "Q 36.96875 -1.421875 32.421875 -1.421875 \n",
       "Q 20.0625 -1.421875 12.78125 6.34375 \n",
       "Q 5.515625 14.109375 5.515625 27.296875 \n",
       "Q 5.515625 40.671875 12.859375 48.328125 \n",
       "Q 20.21875 56 33.015625 56 \n",
       "Q 37.15625 56 41.109375 55.140625 \n",
       "Q 45.0625 54.296875 48.78125 52.59375 \n",
       "z\n",
       "\" id=\"DejaVuSans-99\"/>\n",
       "       <path d=\"M 32.171875 -5.078125 \n",
       "Q 28.375 -14.84375 24.75 -17.8125 \n",
       "Q 21.140625 -20.796875 15.09375 -20.796875 \n",
       "L 7.90625 -20.796875 \n",
       "L 7.90625 -13.28125 \n",
       "L 13.1875 -13.28125 \n",
       "Q 16.890625 -13.28125 18.9375 -11.515625 \n",
       "Q 21 -9.765625 23.484375 -3.21875 \n",
       "L 25.09375 0.875 \n",
       "L 2.984375 54.6875 \n",
       "L 12.5 54.6875 \n",
       "L 29.59375 11.921875 \n",
       "L 46.6875 54.6875 \n",
       "L 56.203125 54.6875 \n",
       "z\n",
       "\" id=\"DejaVuSans-121\"/>\n",
       "       <path d=\"M 9.421875 54.6875 \n",
       "L 18.40625 54.6875 \n",
       "L 18.40625 0 \n",
       "L 9.421875 0 \n",
       "z\n",
       "M 9.421875 75.984375 \n",
       "L 18.40625 75.984375 \n",
       "L 18.40625 64.59375 \n",
       "L 9.421875 64.59375 \n",
       "z\n",
       "\" id=\"DejaVuSans-105\"/>\n",
       "       <path d=\"M 9.078125 75.984375 \n",
       "L 18.109375 75.984375 \n",
       "L 18.109375 31.109375 \n",
       "L 44.921875 54.6875 \n",
       "L 56.390625 54.6875 \n",
       "L 27.390625 29.109375 \n",
       "L 57.625 0 \n",
       "L 45.90625 0 \n",
       "L 18.109375 26.703125 \n",
       "L 18.109375 0 \n",
       "L 9.078125 0 \n",
       "z\n",
       "\" id=\"DejaVuSans-107\"/>\n",
       "       <path d=\"M 9.8125 72.90625 \n",
       "L 19.671875 72.90625 \n",
       "L 19.671875 43.015625 \n",
       "L 55.515625 43.015625 \n",
       "L 55.515625 72.90625 \n",
       "L 65.375 72.90625 \n",
       "L 65.375 0 \n",
       "L 55.515625 0 \n",
       "L 55.515625 34.71875 \n",
       "L 19.671875 34.71875 \n",
       "L 19.671875 0 \n",
       "L 9.8125 0 \n",
       "z\n",
       "\" id=\"DejaVuSans-72\"/>\n",
       "       <path d=\"M 5.515625 54.6875 \n",
       "L 48.1875 54.6875 \n",
       "L 48.1875 46.484375 \n",
       "L 14.40625 7.171875 \n",
       "L 48.1875 7.171875 \n",
       "L 48.1875 0 \n",
       "L 4.296875 0 \n",
       "L 4.296875 8.203125 \n",
       "L 38.09375 47.515625 \n",
       "L 5.515625 47.515625 \n",
       "z\n",
       "\" id=\"DejaVuSans-122\"/>\n",
       "      </defs>\n",
       "      <use xlink:href=\"#DejaVuSans-73\"/>\n",
       "      <use x=\"29.492188\" xlink:href=\"#DejaVuSans-110\"/>\n",
       "      <use x=\"92.871094\" xlink:href=\"#DejaVuSans-112\"/>\n",
       "      <use x=\"156.347656\" xlink:href=\"#DejaVuSans-117\"/>\n",
       "      <use x=\"219.726562\" xlink:href=\"#DejaVuSans-116\"/>\n",
       "      <use x=\"258.935547\" xlink:href=\"#DejaVuSans-32\"/>\n",
       "      <use x=\"290.722656\" xlink:href=\"#DejaVuSans-70\"/>\n",
       "      <use x=\"340.992188\" xlink:href=\"#DejaVuSans-114\"/>\n",
       "      <use x=\"379.855469\" xlink:href=\"#DejaVuSans-101\"/>\n",
       "      <use x=\"441.378906\" xlink:href=\"#DejaVuSans-113\"/>\n",
       "      <use x=\"504.855469\" xlink:href=\"#DejaVuSans-117\"/>\n",
       "      <use x=\"568.234375\" xlink:href=\"#DejaVuSans-101\"/>\n",
       "      <use x=\"629.757812\" xlink:href=\"#DejaVuSans-110\"/>\n",
       "      <use x=\"693.136719\" xlink:href=\"#DejaVuSans-99\"/>\n",
       "      <use x=\"748.117188\" xlink:href=\"#DejaVuSans-121\"/>\n",
       "      <use x=\"807.296875\" xlink:href=\"#DejaVuSans-32\"/>\n",
       "      <use x=\"839.083984\" xlink:href=\"#DejaVuSans-105\"/>\n",
       "      <use x=\"866.867188\" xlink:href=\"#DejaVuSans-110\"/>\n",
       "      <use x=\"930.246094\" xlink:href=\"#DejaVuSans-32\"/>\n",
       "      <use x=\"962.033203\" xlink:href=\"#DejaVuSans-107\"/>\n",
       "      <use x=\"1019.943359\" xlink:href=\"#DejaVuSans-72\"/>\n",
       "      <use x=\"1095.138672\" xlink:href=\"#DejaVuSans-122\"/>\n",
       "     </g>\n",
       "    </g>\n",
       "   </g>\n",
       "   <g id=\"matplotlib.axis_2\">\n",
       "    <g id=\"ytick_1\">\n",
       "     <g id=\"line2d_13\">\n",
       "      <path clip-path=\"url(#pf969028c91)\" d=\"M 43.78125 229.874489 \n",
       "L 378.58125 229.874489 \n",
       "\" style=\"fill:none;stroke:#b0b0b0;stroke-linecap:square;stroke-width:0.8;\"/>\n",
       "     </g>\n",
       "     <g id=\"line2d_14\">\n",
       "      <defs>\n",
       "       <path d=\"M 0 0 \n",
       "L -3.5 0 \n",
       "\" id=\"mcf1eddeaf9\" style=\"stroke:#000000;stroke-width:0.8;\"/>\n",
       "      </defs>\n",
       "      <g>\n",
       "       <use style=\"stroke:#000000;stroke-width:0.8;\" x=\"43.78125\" xlink:href=\"#mcf1eddeaf9\" y=\"229.874489\"/>\n",
       "      </g>\n",
       "     </g>\n",
       "     <g id=\"text_8\">\n",
       "      <!-- 0.0 -->\n",
       "      <g transform=\"translate(20.878125 233.673707)scale(0.1 -0.1)\">\n",
       "       <defs>\n",
       "        <path d=\"M 10.6875 12.40625 \n",
       "L 21 12.40625 \n",
       "L 21 0 \n",
       "L 10.6875 0 \n",
       "z\n",
       "\" id=\"DejaVuSans-46\"/>\n",
       "       </defs>\n",
       "       <use xlink:href=\"#DejaVuSans-48\"/>\n",
       "       <use x=\"63.623047\" xlink:href=\"#DejaVuSans-46\"/>\n",
       "       <use x=\"95.410156\" xlink:href=\"#DejaVuSans-48\"/>\n",
       "      </g>\n",
       "     </g>\n",
       "    </g>\n",
       "    <g id=\"ytick_2\">\n",
       "     <g id=\"line2d_15\">\n",
       "      <path clip-path=\"url(#pf969028c91)\" d=\"M 43.78125 189.938894 \n",
       "L 378.58125 189.938894 \n",
       "\" style=\"fill:none;stroke:#b0b0b0;stroke-linecap:square;stroke-width:0.8;\"/>\n",
       "     </g>\n",
       "     <g id=\"line2d_16\">\n",
       "      <g>\n",
       "       <use style=\"stroke:#000000;stroke-width:0.8;\" x=\"43.78125\" xlink:href=\"#mcf1eddeaf9\" y=\"189.938894\"/>\n",
       "      </g>\n",
       "     </g>\n",
       "     <g id=\"text_9\">\n",
       "      <!-- 0.2 -->\n",
       "      <g transform=\"translate(20.878125 193.738112)scale(0.1 -0.1)\">\n",
       "       <use xlink:href=\"#DejaVuSans-48\"/>\n",
       "       <use x=\"63.623047\" xlink:href=\"#DejaVuSans-46\"/>\n",
       "       <use x=\"95.410156\" xlink:href=\"#DejaVuSans-50\"/>\n",
       "      </g>\n",
       "     </g>\n",
       "    </g>\n",
       "    <g id=\"ytick_3\">\n",
       "     <g id=\"line2d_17\">\n",
       "      <path clip-path=\"url(#pf969028c91)\" d=\"M 43.78125 150.003298 \n",
       "L 378.58125 150.003298 \n",
       "\" style=\"fill:none;stroke:#b0b0b0;stroke-linecap:square;stroke-width:0.8;\"/>\n",
       "     </g>\n",
       "     <g id=\"line2d_18\">\n",
       "      <g>\n",
       "       <use style=\"stroke:#000000;stroke-width:0.8;\" x=\"43.78125\" xlink:href=\"#mcf1eddeaf9\" y=\"150.003298\"/>\n",
       "      </g>\n",
       "     </g>\n",
       "     <g id=\"text_10\">\n",
       "      <!-- 0.4 -->\n",
       "      <g transform=\"translate(20.878125 153.802517)scale(0.1 -0.1)\">\n",
       "       <use xlink:href=\"#DejaVuSans-48\"/>\n",
       "       <use x=\"63.623047\" xlink:href=\"#DejaVuSans-46\"/>\n",
       "       <use x=\"95.410156\" xlink:href=\"#DejaVuSans-52\"/>\n",
       "      </g>\n",
       "     </g>\n",
       "    </g>\n",
       "    <g id=\"ytick_4\">\n",
       "     <g id=\"line2d_19\">\n",
       "      <path clip-path=\"url(#pf969028c91)\" d=\"M 43.78125 110.067703 \n",
       "L 378.58125 110.067703 \n",
       "\" style=\"fill:none;stroke:#b0b0b0;stroke-linecap:square;stroke-width:0.8;\"/>\n",
       "     </g>\n",
       "     <g id=\"line2d_20\">\n",
       "      <g>\n",
       "       <use style=\"stroke:#000000;stroke-width:0.8;\" x=\"43.78125\" xlink:href=\"#mcf1eddeaf9\" y=\"110.067703\"/>\n",
       "      </g>\n",
       "     </g>\n",
       "     <g id=\"text_11\">\n",
       "      <!-- 0.6 -->\n",
       "      <g transform=\"translate(20.878125 113.866922)scale(0.1 -0.1)\">\n",
       "       <use xlink:href=\"#DejaVuSans-48\"/>\n",
       "       <use x=\"63.623047\" xlink:href=\"#DejaVuSans-46\"/>\n",
       "       <use x=\"95.410156\" xlink:href=\"#DejaVuSans-54\"/>\n",
       "      </g>\n",
       "     </g>\n",
       "    </g>\n",
       "    <g id=\"ytick_5\">\n",
       "     <g id=\"line2d_21\">\n",
       "      <path clip-path=\"url(#pf969028c91)\" d=\"M 43.78125 70.132108 \n",
       "L 378.58125 70.132108 \n",
       "\" style=\"fill:none;stroke:#b0b0b0;stroke-linecap:square;stroke-width:0.8;\"/>\n",
       "     </g>\n",
       "     <g id=\"line2d_22\">\n",
       "      <g>\n",
       "       <use style=\"stroke:#000000;stroke-width:0.8;\" x=\"43.78125\" xlink:href=\"#mcf1eddeaf9\" y=\"70.132108\"/>\n",
       "      </g>\n",
       "     </g>\n",
       "     <g id=\"text_12\">\n",
       "      <!-- 0.8 -->\n",
       "      <g transform=\"translate(20.878125 73.931327)scale(0.1 -0.1)\">\n",
       "       <use xlink:href=\"#DejaVuSans-48\"/>\n",
       "       <use x=\"63.623047\" xlink:href=\"#DejaVuSans-46\"/>\n",
       "       <use x=\"95.410156\" xlink:href=\"#DejaVuSans-56\"/>\n",
       "      </g>\n",
       "     </g>\n",
       "    </g>\n",
       "    <g id=\"ytick_6\">\n",
       "     <g id=\"line2d_23\">\n",
       "      <path clip-path=\"url(#pf969028c91)\" d=\"M 43.78125 30.196513 \n",
       "L 378.58125 30.196513 \n",
       "\" style=\"fill:none;stroke:#b0b0b0;stroke-linecap:square;stroke-width:0.8;\"/>\n",
       "     </g>\n",
       "     <g id=\"line2d_24\">\n",
       "      <g>\n",
       "       <use style=\"stroke:#000000;stroke-width:0.8;\" x=\"43.78125\" xlink:href=\"#mcf1eddeaf9\" y=\"30.196513\"/>\n",
       "      </g>\n",
       "     </g>\n",
       "     <g id=\"text_13\">\n",
       "      <!-- 1.0 -->\n",
       "      <g transform=\"translate(20.878125 33.995732)scale(0.1 -0.1)\">\n",
       "       <use xlink:href=\"#DejaVuSans-49\"/>\n",
       "       <use x=\"63.623047\" xlink:href=\"#DejaVuSans-46\"/>\n",
       "       <use x=\"95.410156\" xlink:href=\"#DejaVuSans-48\"/>\n",
       "      </g>\n",
       "     </g>\n",
       "    </g>\n",
       "    <g id=\"text_14\">\n",
       "     <!-- Gain -->\n",
       "     <g transform=\"translate(14.798438 142.534219)rotate(-90)scale(0.1 -0.1)\">\n",
       "      <defs>\n",
       "       <path d=\"M 59.515625 10.40625 \n",
       "L 59.515625 29.984375 \n",
       "L 43.40625 29.984375 \n",
       "L 43.40625 38.09375 \n",
       "L 69.28125 38.09375 \n",
       "L 69.28125 6.78125 \n",
       "Q 63.578125 2.734375 56.6875 0.65625 \n",
       "Q 49.8125 -1.421875 42 -1.421875 \n",
       "Q 24.90625 -1.421875 15.25 8.5625 \n",
       "Q 5.609375 18.5625 5.609375 36.375 \n",
       "Q 5.609375 54.25 15.25 64.234375 \n",
       "Q 24.90625 74.21875 42 74.21875 \n",
       "Q 49.125 74.21875 55.546875 72.453125 \n",
       "Q 61.96875 70.703125 67.390625 67.28125 \n",
       "L 67.390625 56.78125 \n",
       "Q 61.921875 61.421875 55.765625 63.765625 \n",
       "Q 49.609375 66.109375 42.828125 66.109375 \n",
       "Q 29.4375 66.109375 22.71875 58.640625 \n",
       "Q 16.015625 51.171875 16.015625 36.375 \n",
       "Q 16.015625 21.625 22.71875 14.15625 \n",
       "Q 29.4375 6.6875 42.828125 6.6875 \n",
       "Q 48.046875 6.6875 52.140625 7.59375 \n",
       "Q 56.25 8.5 59.515625 10.40625 \n",
       "z\n",
       "\" id=\"DejaVuSans-71\"/>\n",
       "       <path d=\"M 34.28125 27.484375 \n",
       "Q 23.390625 27.484375 19.1875 25 \n",
       "Q 14.984375 22.515625 14.984375 16.5 \n",
       "Q 14.984375 11.71875 18.140625 8.90625 \n",
       "Q 21.296875 6.109375 26.703125 6.109375 \n",
       "Q 34.1875 6.109375 38.703125 11.40625 \n",
       "Q 43.21875 16.703125 43.21875 25.484375 \n",
       "L 43.21875 27.484375 \n",
       "z\n",
       "M 52.203125 31.203125 \n",
       "L 52.203125 0 \n",
       "L 43.21875 0 \n",
       "L 43.21875 8.296875 \n",
       "Q 40.140625 3.328125 35.546875 0.953125 \n",
       "Q 30.953125 -1.421875 24.3125 -1.421875 \n",
       "Q 15.921875 -1.421875 10.953125 3.296875 \n",
       "Q 6 8.015625 6 15.921875 \n",
       "Q 6 25.140625 12.171875 29.828125 \n",
       "Q 18.359375 34.515625 30.609375 34.515625 \n",
       "L 43.21875 34.515625 \n",
       "L 43.21875 35.40625 \n",
       "Q 43.21875 41.609375 39.140625 45 \n",
       "Q 35.0625 48.390625 27.6875 48.390625 \n",
       "Q 23 48.390625 18.546875 47.265625 \n",
       "Q 14.109375 46.140625 10.015625 43.890625 \n",
       "L 10.015625 52.203125 \n",
       "Q 14.9375 54.109375 19.578125 55.046875 \n",
       "Q 24.21875 56 28.609375 56 \n",
       "Q 40.484375 56 46.34375 49.84375 \n",
       "Q 52.203125 43.703125 52.203125 31.203125 \n",
       "z\n",
       "\" id=\"DejaVuSans-97\"/>\n",
       "      </defs>\n",
       "      <use xlink:href=\"#DejaVuSans-71\"/>\n",
       "      <use x=\"77.490234\" xlink:href=\"#DejaVuSans-97\"/>\n",
       "      <use x=\"138.769531\" xlink:href=\"#DejaVuSans-105\"/>\n",
       "      <use x=\"166.552734\" xlink:href=\"#DejaVuSans-110\"/>\n",
       "     </g>\n",
       "    </g>\n",
       "   </g>\n",
       "   <g id=\"line2d_25\">\n",
       "    <path clip-path=\"url(#pf969028c91)\" d=\"M 58.999432 229.874489 \n",
       "L 62.073812 87.276466 \n",
       "L 65.148192 36.094817 \n",
       "L 68.222572 32.201761 \n",
       "L 71.296952 33.173904 \n",
       "L 74.371333 36.540207 \n",
       "L 77.445713 42.509962 \n",
       "L 80.520093 51.30915 \n",
       "L 83.594473 62.704511 \n",
       "L 86.668853 75.968832 \n",
       "L 89.743233 90.113605 \n",
       "L 92.817614 104.196952 \n",
       "L 95.891994 117.525626 \n",
       "L 98.966374 129.701769 \n",
       "L 102.040754 140.56961 \n",
       "L 105.115134 150.132596 \n",
       "L 108.189514 158.48141 \n",
       "L 111.263895 165.744621 \n",
       "L 114.338275 172.0595 \n",
       "L 117.412655 177.556836 \n",
       "L 120.487035 182.354241 \n",
       "L 123.561415 186.554149 \n",
       "L 126.635795 190.244164 \n",
       "L 129.710176 193.498458 \n",
       "L 132.784556 196.379515 \n",
       "L 135.858936 198.939876 \n",
       "L 138.933316 201.22373 \n",
       "L 142.007696 203.268299 \n",
       "L 145.082076 205.105015 \n",
       "L 148.156457 206.760499 \n",
       "L 151.230837 208.257373 \n",
       "L 154.305217 209.614931 \n",
       "L 157.379597 210.849685 \n",
       "L 160.453977 211.975822 \n",
       "L 163.528357 213.00557 \n",
       "L 166.602738 213.949515 \n",
       "L 169.677118 214.816843 \n",
       "L 172.751498 215.615561 \n",
       "L 175.825878 216.352667 \n",
       "L 178.900258 217.034298 \n",
       "L 181.974638 217.665851 \n",
       "L 185.049019 218.252088 \n",
       "L 188.123399 218.797222 \n",
       "L 191.197779 219.304992 \n",
       "L 194.272159 219.778721 \n",
       "L 197.346539 220.221376 \n",
       "L 200.420919 220.635605 \n",
       "L 203.4953 221.023786 \n",
       "L 206.56968 221.38805 \n",
       "L 209.64406 221.730319 \n",
       "L 212.71844 222.052323 \n",
       "L 215.79282 222.355628 \n",
       "L 218.8672 222.641651 \n",
       "L 221.941581 222.911678 \n",
       "L 225.015961 223.166878 \n",
       "L 228.090341 223.408316 \n",
       "L 231.164721 223.636961 \n",
       "L 234.239101 223.853701 \n",
       "L 237.313481 224.059347 \n",
       "L 240.387862 224.254642 \n",
       "L 243.462242 224.44027 \n",
       "L 246.536622 224.616856 \n",
       "L 249.611002 224.784978 \n",
       "L 252.685382 224.945168 \n",
       "L 255.759762 225.097917 \n",
       "L 258.834143 225.243678 \n",
       "L 261.908523 225.382871 \n",
       "L 264.982903 225.515884 \n",
       "L 268.057283 225.643078 \n",
       "L 271.131663 225.764786 \n",
       "L 274.206043 225.88132 \n",
       "L 277.280424 225.992969 \n",
       "L 280.354804 226.100002 \n",
       "L 283.429184 226.202669 \n",
       "L 286.503564 226.301204 \n",
       "L 289.577944 226.395828 \n",
       "L 292.652324 226.486743 \n",
       "L 295.726705 226.57414 \n",
       "L 298.801085 226.6582 \n",
       "L 301.875465 226.73909 \n",
       "L 304.949845 226.816966 \n",
       "L 308.024225 226.891978 \n",
       "L 311.098605 226.964263 \n",
       "L 314.172986 227.033952 \n",
       "L 317.247366 227.101168 \n",
       "L 320.321746 227.166027 \n",
       "L 323.396126 227.228637 \n",
       "L 326.470506 227.289101 \n",
       "L 329.544886 227.347517 \n",
       "L 332.619267 227.403975 \n",
       "L 335.693647 227.458562 \n",
       "L 338.768027 227.51136 \n",
       "L 341.842407 227.562446 \n",
       "L 344.916787 227.611894 \n",
       "L 347.991167 227.659772 \n",
       "L 351.065548 227.706147 \n",
       "L 354.139928 227.75108 \n",
       "L 357.214308 227.794631 \n",
       "L 360.288688 227.836856 \n",
       "L 363.363068 227.877809 \n",
       "\" style=\"fill:none;stroke:#000080;stroke-dasharray:5.55,2.4;stroke-dashoffset:0;stroke-width:1.5;\"/>\n",
       "   </g>\n",
       "   <g id=\"line2d_26\">\n",
       "    <path clip-path=\"url(#pf969028c91)\" d=\"M 58.999432 229.874489 \n",
       "L 62.073812 88.001836 \n",
       "L 65.148192 36.205036 \n",
       "L 68.222572 32.202727 \n",
       "L 71.296952 33.109665 \n",
       "L 74.371333 36.376796 \n",
       "L 77.445713 42.196998 \n",
       "L 80.520093 50.804978 \n",
       "L 83.594473 61.996785 \n",
       "L 86.668853 75.08198 \n",
       "L 89.743233 89.099049 \n",
       "L 92.817614 103.114652 \n",
       "L 95.891994 116.428688 \n",
       "L 98.966374 128.629308 \n",
       "L 102.040754 139.546361 \n",
       "L 105.115134 149.171761 \n",
       "L 108.189514 157.588168 \n",
       "L 111.263895 164.919098 \n",
       "L 114.338275 171.29892 \n",
       "L 117.412655 176.856936 \n",
       "L 120.487035 181.710153 \n",
       "L 123.561415 185.960907 \n",
       "L 126.635795 189.696991 \n",
       "L 129.710176 192.992905 \n",
       "L 132.784556 195.91152 \n",
       "L 135.858936 198.505776 \n",
       "L 138.933316 200.820243 \n",
       "L 142.007696 202.892498 \n",
       "L 145.082076 204.754296 \n",
       "L 148.156457 206.432545 \n",
       "L 151.230837 207.950125 \n",
       "L 154.305217 209.326554 \n",
       "L 157.379597 210.578543 \n",
       "L 160.453977 211.720455 \n",
       "L 163.528357 212.764673 \n",
       "L 166.602738 213.721916 \n",
       "L 169.677118 214.601491 \n",
       "L 172.751498 215.411509 \n",
       "L 175.825878 216.159062 \n",
       "L 178.900258 216.850367 \n",
       "L 181.974638 217.490895 \n",
       "L 185.049019 218.085474 \n",
       "L 188.123399 218.638372 \n",
       "L 191.197779 219.153381 \n",
       "L 194.272159 219.633869 \n",
       "L 197.346539 220.082843 \n",
       "L 200.420919 220.502991 \n",
       "L 203.4953 220.896721 \n",
       "L 206.56968 221.266195 \n",
       "L 209.64406 221.613361 \n",
       "L 212.71844 221.939974 \n",
       "L 215.79282 222.247622 \n",
       "L 218.8672 222.537743 \n",
       "L 221.941581 222.811639 \n",
       "L 225.015961 223.070498 \n",
       "L 228.090341 223.315397 \n",
       "L 231.164721 223.547321 \n",
       "L 234.239101 223.76717 \n",
       "L 237.313481 223.975766 \n",
       "L 240.387862 224.173864 \n",
       "L 243.462242 224.362155 \n",
       "L 246.536622 224.541276 \n",
       "L 249.611002 224.711812 \n",
       "L 252.685382 224.874302 \n",
       "L 255.759762 225.029244 \n",
       "L 258.834143 225.177099 \n",
       "L 261.908523 225.318291 \n",
       "L 264.982903 225.453214 \n",
       "L 268.057283 225.582235 \n",
       "L 271.131663 225.705692 \n",
       "L 274.206043 225.8239 \n",
       "L 277.280424 225.937153 \n",
       "L 280.354804 226.045724 \n",
       "L 283.429184 226.149866 \n",
       "L 286.503564 226.249818 \n",
       "L 289.577944 226.345801 \n",
       "L 292.652324 226.438023 \n",
       "L 295.726705 226.526677 \n",
       "L 298.801085 226.611945 \n",
       "L 301.875465 226.693997 \n",
       "L 304.949845 226.772993 \n",
       "L 308.024225 226.849083 \n",
       "L 311.098605 226.922407 \n",
       "L 314.172986 226.993098 \n",
       "L 317.247366 227.06128 \n",
       "L 320.321746 227.127072 \n",
       "L 323.396126 227.190582 \n",
       "L 326.470506 227.251916 \n",
       "L 329.544886 227.311171 \n",
       "L 332.619267 227.368441 \n",
       "L 335.693647 227.423813 \n",
       "L 338.768027 227.47737 \n",
       "L 341.842407 227.529191 \n",
       "L 344.916787 227.57935 \n",
       "L 347.991167 227.627917 \n",
       "L 351.065548 227.674958 \n",
       "L 354.139928 227.720538 \n",
       "L 357.214308 227.764715 \n",
       "L 360.288688 227.807547 \n",
       "L 363.363068 227.849089 \n",
       "\" style=\"fill:none;stroke:#ffa500;stroke-dasharray:1.5,2.475;stroke-dashoffset:0;stroke-width:1.5;\"/>\n",
       "   </g>\n",
       "   <g id=\"patch_3\">\n",
       "    <path d=\"M 43.78125 239.758125 \n",
       "L 43.78125 22.318125 \n",
       "\" style=\"fill:none;stroke:#000000;stroke-linecap:square;stroke-linejoin:miter;stroke-width:0.8;\"/>\n",
       "   </g>\n",
       "   <g id=\"patch_4\">\n",
       "    <path d=\"M 43.78125 239.758125 \n",
       "L 378.58125 239.758125 \n",
       "\" style=\"fill:none;stroke:#000000;stroke-linecap:square;stroke-linejoin:miter;stroke-width:0.8;\"/>\n",
       "   </g>\n",
       "   <g id=\"text_15\">\n",
       "    <!-- Gain vs Frequency: Linear Scale -->\n",
       "    <g transform=\"translate(115.708125 16.318125)scale(0.12 -0.12)\">\n",
       "     <defs>\n",
       "      <path d=\"M 2.984375 54.6875 \n",
       "L 12.5 54.6875 \n",
       "L 29.59375 8.796875 \n",
       "L 46.6875 54.6875 \n",
       "L 56.203125 54.6875 \n",
       "L 35.6875 0 \n",
       "L 23.484375 0 \n",
       "z\n",
       "\" id=\"DejaVuSans-118\"/>\n",
       "      <path d=\"M 44.28125 53.078125 \n",
       "L 44.28125 44.578125 \n",
       "Q 40.484375 46.53125 36.375 47.5 \n",
       "Q 32.28125 48.484375 27.875 48.484375 \n",
       "Q 21.1875 48.484375 17.84375 46.4375 \n",
       "Q 14.5 44.390625 14.5 40.28125 \n",
       "Q 14.5 37.15625 16.890625 35.375 \n",
       "Q 19.28125 33.59375 26.515625 31.984375 \n",
       "L 29.59375 31.296875 \n",
       "Q 39.15625 29.25 43.1875 25.515625 \n",
       "Q 47.21875 21.78125 47.21875 15.09375 \n",
       "Q 47.21875 7.46875 41.1875 3.015625 \n",
       "Q 35.15625 -1.421875 24.609375 -1.421875 \n",
       "Q 20.21875 -1.421875 15.453125 -0.5625 \n",
       "Q 10.6875 0.296875 5.421875 2 \n",
       "L 5.421875 11.28125 \n",
       "Q 10.40625 8.6875 15.234375 7.390625 \n",
       "Q 20.0625 6.109375 24.8125 6.109375 \n",
       "Q 31.15625 6.109375 34.5625 8.28125 \n",
       "Q 37.984375 10.453125 37.984375 14.40625 \n",
       "Q 37.984375 18.0625 35.515625 20.015625 \n",
       "Q 33.0625 21.96875 24.703125 23.78125 \n",
       "L 21.578125 24.515625 \n",
       "Q 13.234375 26.265625 9.515625 29.90625 \n",
       "Q 5.8125 33.546875 5.8125 39.890625 \n",
       "Q 5.8125 47.609375 11.28125 51.796875 \n",
       "Q 16.75 56 26.8125 56 \n",
       "Q 31.78125 56 36.171875 55.265625 \n",
       "Q 40.578125 54.546875 44.28125 53.078125 \n",
       "z\n",
       "\" id=\"DejaVuSans-115\"/>\n",
       "      <path d=\"M 11.71875 12.40625 \n",
       "L 22.015625 12.40625 \n",
       "L 22.015625 0 \n",
       "L 11.71875 0 \n",
       "z\n",
       "M 11.71875 51.703125 \n",
       "L 22.015625 51.703125 \n",
       "L 22.015625 39.3125 \n",
       "L 11.71875 39.3125 \n",
       "z\n",
       "\" id=\"DejaVuSans-58\"/>\n",
       "      <path d=\"M 9.8125 72.90625 \n",
       "L 19.671875 72.90625 \n",
       "L 19.671875 8.296875 \n",
       "L 55.171875 8.296875 \n",
       "L 55.171875 0 \n",
       "L 9.8125 0 \n",
       "z\n",
       "\" id=\"DejaVuSans-76\"/>\n",
       "      <path d=\"M 53.515625 70.515625 \n",
       "L 53.515625 60.890625 \n",
       "Q 47.90625 63.578125 42.921875 64.890625 \n",
       "Q 37.9375 66.21875 33.296875 66.21875 \n",
       "Q 25.25 66.21875 20.875 63.09375 \n",
       "Q 16.5 59.96875 16.5 54.203125 \n",
       "Q 16.5 49.359375 19.40625 46.890625 \n",
       "Q 22.3125 44.4375 30.421875 42.921875 \n",
       "L 36.375 41.703125 \n",
       "Q 47.40625 39.59375 52.65625 34.296875 \n",
       "Q 57.90625 29 57.90625 20.125 \n",
       "Q 57.90625 9.515625 50.796875 4.046875 \n",
       "Q 43.703125 -1.421875 29.984375 -1.421875 \n",
       "Q 24.8125 -1.421875 18.96875 -0.25 \n",
       "Q 13.140625 0.921875 6.890625 3.21875 \n",
       "L 6.890625 13.375 \n",
       "Q 12.890625 10.015625 18.65625 8.296875 \n",
       "Q 24.421875 6.59375 29.984375 6.59375 \n",
       "Q 38.421875 6.59375 43.015625 9.90625 \n",
       "Q 47.609375 13.234375 47.609375 19.390625 \n",
       "Q 47.609375 24.75 44.3125 27.78125 \n",
       "Q 41.015625 30.8125 33.5 32.328125 \n",
       "L 27.484375 33.5 \n",
       "Q 16.453125 35.6875 11.515625 40.375 \n",
       "Q 6.59375 45.0625 6.59375 53.421875 \n",
       "Q 6.59375 63.09375 13.40625 68.65625 \n",
       "Q 20.21875 74.21875 32.171875 74.21875 \n",
       "Q 37.3125 74.21875 42.625 73.28125 \n",
       "Q 47.953125 72.359375 53.515625 70.515625 \n",
       "z\n",
       "\" id=\"DejaVuSans-83\"/>\n",
       "      <path d=\"M 9.421875 75.984375 \n",
       "L 18.40625 75.984375 \n",
       "L 18.40625 0 \n",
       "L 9.421875 0 \n",
       "z\n",
       "\" id=\"DejaVuSans-108\"/>\n",
       "     </defs>\n",
       "     <use xlink:href=\"#DejaVuSans-71\"/>\n",
       "     <use x=\"77.490234\" xlink:href=\"#DejaVuSans-97\"/>\n",
       "     <use x=\"138.769531\" xlink:href=\"#DejaVuSans-105\"/>\n",
       "     <use x=\"166.552734\" xlink:href=\"#DejaVuSans-110\"/>\n",
       "     <use x=\"229.931641\" xlink:href=\"#DejaVuSans-32\"/>\n",
       "     <use x=\"261.71875\" xlink:href=\"#DejaVuSans-118\"/>\n",
       "     <use x=\"320.898438\" xlink:href=\"#DejaVuSans-115\"/>\n",
       "     <use x=\"372.998047\" xlink:href=\"#DejaVuSans-32\"/>\n",
       "     <use x=\"404.785156\" xlink:href=\"#DejaVuSans-70\"/>\n",
       "     <use x=\"455.054688\" xlink:href=\"#DejaVuSans-114\"/>\n",
       "     <use x=\"493.917969\" xlink:href=\"#DejaVuSans-101\"/>\n",
       "     <use x=\"555.441406\" xlink:href=\"#DejaVuSans-113\"/>\n",
       "     <use x=\"618.917969\" xlink:href=\"#DejaVuSans-117\"/>\n",
       "     <use x=\"682.296875\" xlink:href=\"#DejaVuSans-101\"/>\n",
       "     <use x=\"743.820312\" xlink:href=\"#DejaVuSans-110\"/>\n",
       "     <use x=\"807.199219\" xlink:href=\"#DejaVuSans-99\"/>\n",
       "     <use x=\"862.179688\" xlink:href=\"#DejaVuSans-121\"/>\n",
       "     <use x=\"914.109375\" xlink:href=\"#DejaVuSans-58\"/>\n",
       "     <use x=\"947.800781\" xlink:href=\"#DejaVuSans-32\"/>\n",
       "     <use x=\"979.587891\" xlink:href=\"#DejaVuSans-76\"/>\n",
       "     <use x=\"1035.300781\" xlink:href=\"#DejaVuSans-105\"/>\n",
       "     <use x=\"1063.083984\" xlink:href=\"#DejaVuSans-110\"/>\n",
       "     <use x=\"1126.462891\" xlink:href=\"#DejaVuSans-101\"/>\n",
       "     <use x=\"1187.986328\" xlink:href=\"#DejaVuSans-97\"/>\n",
       "     <use x=\"1249.265625\" xlink:href=\"#DejaVuSans-114\"/>\n",
       "     <use x=\"1290.378906\" xlink:href=\"#DejaVuSans-32\"/>\n",
       "     <use x=\"1322.166016\" xlink:href=\"#DejaVuSans-83\"/>\n",
       "     <use x=\"1385.642578\" xlink:href=\"#DejaVuSans-99\"/>\n",
       "     <use x=\"1440.623047\" xlink:href=\"#DejaVuSans-97\"/>\n",
       "     <use x=\"1501.902344\" xlink:href=\"#DejaVuSans-108\"/>\n",
       "     <use x=\"1529.685547\" xlink:href=\"#DejaVuSans-101\"/>\n",
       "    </g>\n",
       "   </g>\n",
       "   <g id=\"legend_1\">\n",
       "    <g id=\"patch_5\">\n",
       "     <path d=\"M 229.58125 74.3525 \n",
       "L 371.58125 74.3525 \n",
       "Q 373.58125 74.3525 373.58125 72.3525 \n",
       "L 373.58125 29.318125 \n",
       "Q 373.58125 27.318125 371.58125 27.318125 \n",
       "L 229.58125 27.318125 \n",
       "Q 227.58125 27.318125 227.58125 29.318125 \n",
       "L 227.58125 72.3525 \n",
       "Q 227.58125 74.3525 229.58125 74.3525 \n",
       "z\n",
       "\" style=\"fill:#ffffff;opacity:0.8;stroke:#cccccc;stroke-linejoin:miter;\"/>\n",
       "    </g>\n",
       "    <g id=\"line2d_27\">\n",
       "     <path d=\"M 231.58125 35.416562 \n",
       "L 251.58125 35.416562 \n",
       "\" style=\"fill:none;stroke:#000080;stroke-dasharray:5.55,2.4;stroke-dashoffset:0;stroke-width:1.5;\"/>\n",
       "    </g>\n",
       "    <g id=\"line2d_28\"/>\n",
       "    <g id=\"text_16\">\n",
       "     <!-- Predicted Curve -->\n",
       "     <g transform=\"translate(259.58125 38.916562)scale(0.1 -0.1)\">\n",
       "      <defs>\n",
       "       <path d=\"M 19.671875 64.796875 \n",
       "L 19.671875 37.40625 \n",
       "L 32.078125 37.40625 \n",
       "Q 38.96875 37.40625 42.71875 40.96875 \n",
       "Q 46.484375 44.53125 46.484375 51.125 \n",
       "Q 46.484375 57.671875 42.71875 61.234375 \n",
       "Q 38.96875 64.796875 32.078125 64.796875 \n",
       "z\n",
       "M 9.8125 72.90625 \n",
       "L 32.078125 72.90625 \n",
       "Q 44.34375 72.90625 50.609375 67.359375 \n",
       "Q 56.890625 61.8125 56.890625 51.125 \n",
       "Q 56.890625 40.328125 50.609375 34.8125 \n",
       "Q 44.34375 29.296875 32.078125 29.296875 \n",
       "L 19.671875 29.296875 \n",
       "L 19.671875 0 \n",
       "L 9.8125 0 \n",
       "z\n",
       "\" id=\"DejaVuSans-80\"/>\n",
       "       <path d=\"M 45.40625 46.390625 \n",
       "L 45.40625 75.984375 \n",
       "L 54.390625 75.984375 \n",
       "L 54.390625 0 \n",
       "L 45.40625 0 \n",
       "L 45.40625 8.203125 \n",
       "Q 42.578125 3.328125 38.25 0.953125 \n",
       "Q 33.9375 -1.421875 27.875 -1.421875 \n",
       "Q 17.96875 -1.421875 11.734375 6.484375 \n",
       "Q 5.515625 14.40625 5.515625 27.296875 \n",
       "Q 5.515625 40.1875 11.734375 48.09375 \n",
       "Q 17.96875 56 27.875 56 \n",
       "Q 33.9375 56 38.25 53.625 \n",
       "Q 42.578125 51.265625 45.40625 46.390625 \n",
       "z\n",
       "M 14.796875 27.296875 \n",
       "Q 14.796875 17.390625 18.875 11.75 \n",
       "Q 22.953125 6.109375 30.078125 6.109375 \n",
       "Q 37.203125 6.109375 41.296875 11.75 \n",
       "Q 45.40625 17.390625 45.40625 27.296875 \n",
       "Q 45.40625 37.203125 41.296875 42.84375 \n",
       "Q 37.203125 48.484375 30.078125 48.484375 \n",
       "Q 22.953125 48.484375 18.875 42.84375 \n",
       "Q 14.796875 37.203125 14.796875 27.296875 \n",
       "z\n",
       "\" id=\"DejaVuSans-100\"/>\n",
       "       <path d=\"M 64.40625 67.28125 \n",
       "L 64.40625 56.890625 \n",
       "Q 59.421875 61.53125 53.78125 63.8125 \n",
       "Q 48.140625 66.109375 41.796875 66.109375 \n",
       "Q 29.296875 66.109375 22.65625 58.46875 \n",
       "Q 16.015625 50.828125 16.015625 36.375 \n",
       "Q 16.015625 21.96875 22.65625 14.328125 \n",
       "Q 29.296875 6.6875 41.796875 6.6875 \n",
       "Q 48.140625 6.6875 53.78125 8.984375 \n",
       "Q 59.421875 11.28125 64.40625 15.921875 \n",
       "L 64.40625 5.609375 \n",
       "Q 59.234375 2.09375 53.4375 0.328125 \n",
       "Q 47.65625 -1.421875 41.21875 -1.421875 \n",
       "Q 24.65625 -1.421875 15.125 8.703125 \n",
       "Q 5.609375 18.84375 5.609375 36.375 \n",
       "Q 5.609375 53.953125 15.125 64.078125 \n",
       "Q 24.65625 74.21875 41.21875 74.21875 \n",
       "Q 47.75 74.21875 53.53125 72.484375 \n",
       "Q 59.328125 70.75 64.40625 67.28125 \n",
       "z\n",
       "\" id=\"DejaVuSans-67\"/>\n",
       "      </defs>\n",
       "      <use xlink:href=\"#DejaVuSans-80\"/>\n",
       "      <use x=\"58.552734\" xlink:href=\"#DejaVuSans-114\"/>\n",
       "      <use x=\"97.416016\" xlink:href=\"#DejaVuSans-101\"/>\n",
       "      <use x=\"158.939453\" xlink:href=\"#DejaVuSans-100\"/>\n",
       "      <use x=\"222.416016\" xlink:href=\"#DejaVuSans-105\"/>\n",
       "      <use x=\"250.199219\" xlink:href=\"#DejaVuSans-99\"/>\n",
       "      <use x=\"305.179688\" xlink:href=\"#DejaVuSans-116\"/>\n",
       "      <use x=\"344.388672\" xlink:href=\"#DejaVuSans-101\"/>\n",
       "      <use x=\"405.912109\" xlink:href=\"#DejaVuSans-100\"/>\n",
       "      <use x=\"469.388672\" xlink:href=\"#DejaVuSans-32\"/>\n",
       "      <use x=\"501.175781\" xlink:href=\"#DejaVuSans-67\"/>\n",
       "      <use x=\"571\" xlink:href=\"#DejaVuSans-117\"/>\n",
       "      <use x=\"634.378906\" xlink:href=\"#DejaVuSans-114\"/>\n",
       "      <use x=\"675.492188\" xlink:href=\"#DejaVuSans-118\"/>\n",
       "      <use x=\"734.671875\" xlink:href=\"#DejaVuSans-101\"/>\n",
       "     </g>\n",
       "    </g>\n",
       "    <g id=\"line2d_29\">\n",
       "     <path d=\"M 231.58125 50.094687 \n",
       "L 251.58125 50.094687 \n",
       "\" style=\"fill:none;stroke:#ffa500;stroke-dasharray:1.5,2.475;stroke-dashoffset:0;stroke-width:1.5;\"/>\n",
       "    </g>\n",
       "    <g id=\"line2d_30\"/>\n",
       "    <g id=\"text_17\">\n",
       "     <!-- Curve Fit -->\n",
       "     <g transform=\"translate(259.58125 53.594687)scale(0.1 -0.1)\">\n",
       "      <use xlink:href=\"#DejaVuSans-67\"/>\n",
       "      <use x=\"69.824219\" xlink:href=\"#DejaVuSans-117\"/>\n",
       "      <use x=\"133.203125\" xlink:href=\"#DejaVuSans-114\"/>\n",
       "      <use x=\"174.316406\" xlink:href=\"#DejaVuSans-118\"/>\n",
       "      <use x=\"233.496094\" xlink:href=\"#DejaVuSans-101\"/>\n",
       "      <use x=\"295.019531\" xlink:href=\"#DejaVuSans-32\"/>\n",
       "      <use x=\"326.806641\" xlink:href=\"#DejaVuSans-70\"/>\n",
       "      <use x=\"377.076172\" xlink:href=\"#DejaVuSans-105\"/>\n",
       "      <use x=\"404.859375\" xlink:href=\"#DejaVuSans-116\"/>\n",
       "     </g>\n",
       "    </g>\n",
       "    <g id=\"PathCollection_2\">\n",
       "     <g>\n",
       "      <use style=\"fill:#2171b5;stroke:#2171b5;\" x=\"241.58125\" xlink:href=\"#mc281ccc627\" y=\"65.647812\"/>\n",
       "     </g>\n",
       "    </g>\n",
       "    <g id=\"text_18\">\n",
       "     <!-- $f_1 = 1$ kHz, $f_2 = 10$ kHz -->\n",
       "     <g transform=\"translate(259.58125 68.272812)scale(0.1 -0.1)\">\n",
       "      <defs>\n",
       "       <path d=\"M 47.796875 75.984375 \n",
       "L 46.390625 68.5 \n",
       "L 37.796875 68.5 \n",
       "Q 32.90625 68.5 30.6875 66.578125 \n",
       "Q 28.46875 64.65625 27.390625 59.515625 \n",
       "L 26.421875 54.6875 \n",
       "L 41.21875 54.6875 \n",
       "L 39.890625 47.703125 \n",
       "L 25.09375 47.703125 \n",
       "L 15.828125 0 \n",
       "L 6.78125 0 \n",
       "L 16.109375 47.703125 \n",
       "L 7.515625 47.703125 \n",
       "L 8.796875 54.6875 \n",
       "L 17.390625 54.6875 \n",
       "L 18.109375 58.5 \n",
       "Q 19.96875 68.171875 24.625 72.078125 \n",
       "Q 29.296875 75.984375 39.3125 75.984375 \n",
       "z\n",
       "\" id=\"DejaVuSans-Oblique-102\"/>\n",
       "       <path d=\"M 10.59375 45.40625 \n",
       "L 73.1875 45.40625 \n",
       "L 73.1875 37.203125 \n",
       "L 10.59375 37.203125 \n",
       "z\n",
       "M 10.59375 25.484375 \n",
       "L 73.1875 25.484375 \n",
       "L 73.1875 17.1875 \n",
       "L 10.59375 17.1875 \n",
       "z\n",
       "\" id=\"DejaVuSans-61\"/>\n",
       "       <path d=\"M 11.71875 12.40625 \n",
       "L 22.015625 12.40625 \n",
       "L 22.015625 4 \n",
       "L 14.015625 -11.625 \n",
       "L 7.71875 -11.625 \n",
       "L 11.71875 4 \n",
       "z\n",
       "\" id=\"DejaVuSans-44\"/>\n",
       "      </defs>\n",
       "      <use transform=\"translate(0 0.015625)\" xlink:href=\"#DejaVuSans-Oblique-102\"/>\n",
       "      <use transform=\"translate(35.205078 -16.390625)scale(0.7)\" xlink:href=\"#DejaVuSans-49\"/>\n",
       "      <use transform=\"translate(101.958008 0.015625)\" xlink:href=\"#DejaVuSans-61\"/>\n",
       "      <use transform=\"translate(205.229492 0.015625)\" xlink:href=\"#DejaVuSans-49\"/>\n",
       "      <use transform=\"translate(268.852539 0.015625)\" xlink:href=\"#DejaVuSans-32\"/>\n",
       "      <use transform=\"translate(300.639648 0.015625)\" xlink:href=\"#DejaVuSans-107\"/>\n",
       "      <use transform=\"translate(358.549805 0.015625)\" xlink:href=\"#DejaVuSans-72\"/>\n",
       "      <use transform=\"translate(433.745117 0.015625)\" xlink:href=\"#DejaVuSans-122\"/>\n",
       "      <use transform=\"translate(486.235352 0.015625)\" xlink:href=\"#DejaVuSans-44\"/>\n",
       "      <use transform=\"translate(518.022461 0.015625)\" xlink:href=\"#DejaVuSans-32\"/>\n",
       "      <use transform=\"translate(549.80957 0.015625)\" xlink:href=\"#DejaVuSans-Oblique-102\"/>\n",
       "      <use transform=\"translate(585.014648 -16.390625)scale(0.7)\" xlink:href=\"#DejaVuSans-50\"/>\n",
       "      <use transform=\"translate(651.767578 0.015625)\" xlink:href=\"#DejaVuSans-61\"/>\n",
       "      <use transform=\"translate(755.039062 0.015625)\" xlink:href=\"#DejaVuSans-49\"/>\n",
       "      <use transform=\"translate(818.662109 0.015625)\" xlink:href=\"#DejaVuSans-48\"/>\n",
       "      <use transform=\"translate(882.285156 0.015625)\" xlink:href=\"#DejaVuSans-32\"/>\n",
       "      <use transform=\"translate(914.072266 0.015625)\" xlink:href=\"#DejaVuSans-107\"/>\n",
       "      <use transform=\"translate(971.982422 0.015625)\" xlink:href=\"#DejaVuSans-72\"/>\n",
       "      <use transform=\"translate(1047.177734 0.015625)\" xlink:href=\"#DejaVuSans-122\"/>\n",
       "     </g>\n",
       "    </g>\n",
       "   </g>\n",
       "  </g>\n",
       " </g>\n",
       " <defs>\n",
       "  <clipPath id=\"pf969028c91\">\n",
       "   <rect height=\"217.44\" width=\"334.8\" x=\"43.78125\" y=\"22.318125\"/>\n",
       "  </clipPath>\n",
       " </defs>\n",
       "</svg>\n"
      ],
      "text/plain": [
       "<Figure size 432x288 with 1 Axes>"
      ]
     },
     "metadata": {
      "needs_background": "light"
     },
     "output_type": "display_data"
    }
   ],
   "source": [
    "plt.scatter(frequency, gain, label = '$f_1 = 1$ kHz, $f_2 = 10$ kHz', color = '#2171b5')\n",
    "X = np.linspace(0,100,100)\n",
    "plt.plot(X, butterworth2(X,1,10), linestyle='dashed', color = 'navy', label = 'Predicted Curve')\n",
    "plt.plot(X, butterworth(X,popt[0],popt[1]), linestyle = 'dotted', color = 'orange', label = 'Curve Fit')\n",
    "plt.gca().spines['top'].set_visible(False)\n",
    "plt.gca().spines['right'].set_visible(False)\n",
    "\n",
    "plt.xlabel(\"Input Frequency in kHz\")\n",
    "plt.ylabel(\"Gain\")\n",
    "plt.legend(loc = 0)\n",
    "\n",
    "plt.grid()\n",
    "plt.title(\"Gain vs Frequency: Linear Scale\")\n",
    "plt.savefig('Gain_vs_frequency_linear_w_fit.pdf', bbox_inches='tight')"
   ]
  },
  {
   "cell_type": "code",
   "execution_count": null,
   "id": "dedbfb54",
   "metadata": {},
   "outputs": [],
   "source": []
  }
 ],
 "metadata": {
  "kernelspec": {
   "display_name": "Python 3",
   "language": "python",
   "name": "python3"
  },
  "language_info": {
   "codemirror_mode": {
    "name": "ipython",
    "version": 3
   },
   "file_extension": ".py",
   "mimetype": "text/x-python",
   "name": "python",
   "nbconvert_exporter": "python",
   "pygments_lexer": "ipython3",
   "version": "3.8.8"
  }
 },
 "nbformat": 4,
 "nbformat_minor": 5
}
